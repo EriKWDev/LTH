{
 "cells": [
  {
   "cell_type": "markdown",
   "id": "87046e51",
   "metadata": {},
   "source": [
    "<!-- -*- mode: markdown; coding: utf-8; fill-column: 60; ispell-dictionary: \"english\" -*- -->\n",
    "\n",
    "<meta charset=\"utf-8\"/>\n",
    "<meta name=\"viewport\" content=\"width=device-width,initial-scale=1\"/>\n",
    "<link rel=\"stylesheet\" href=\"style.css\">\n",
    "\n",
    "\n",
    "# EDAF75 - lab 1: SQL\n",
    "\n",
    "This lab is meant to be run as a `jupyter` notebook, you\n",
    "could download it [here](lab1.zip) (the zip-file contains\n",
    "the notebook and the database, and a [.html-file](lab1.html)\n",
    "which you can read in case you have problems reading/running\n",
    "jupyter notebooks).\n",
    "\n",
    "To start your notebook, you can use the following commands\n",
    "(after you've downloaded [the zip file](lab1.zip)):"
   ]
  },
  {
   "cell_type": "markdown",
   "id": "5f0722ad",
   "metadata": {},
   "source": [
    "```sh\n",
    "unzip lab1.zip\n",
    "jupyter notebook\n",
    "```\n"
   ]
  },
  {
   "cell_type": "markdown",
   "id": "ec88077b",
   "metadata": {},
   "source": [
    "This should start jupyter in a browser tab, and there you\n",
    "can click \"lab1.ipynb\".\n",
    "\n",
    "\n",
    "## Background\n",
    "\n",
    "We have a database to handle the academic achievements of\n",
    "students at LTH -- in it we have three tables:\n",
    "\n",
    "<hr>\n",
    "<table rules=\"all\">\n",
    " <tr>\n",
    "  <th align=\"left\"><code>students:</code></th>\n",
    "  <th></th>\n",
    " </tr>\n",
    " <tr>\n",
    "  <td><code>ssn</code></td>\n",
    "  <td>social security number</td>\n",
    " </tr>\n",
    " <tr>\n",
    "  <td><code>first_name</code></td>\n",
    "  <td>first name (obviously!)</td>\n",
    " </tr>\n",
    " <tr>\n",
    "  <td><code>last_name</code></td>\n",
    "  <td>last name</td>\n",
    " </tr>\n",
    "</table>\n",
    "\n",
    "<hr>\n",
    "\n",
    "<table rules=\"all\">\n",
    " <tr>\n",
    "  <th align=\"left\"><code>courses:</code></th>\n",
    "  <th></th>\n",
    " </tr>\n",
    " <tr>\n",
    "  <td><code>course_code</code></td>\n",
    "  <td>course code, like <code>EDAF75</code></td>\n",
    " </tr>\n",
    " <tr>\n",
    "  <td><code>course_name</code></td>\n",
    "  <td>the name of the course, like \"Database Technology\"</td>\n",
    " </tr>\n",
    " <tr>\n",
    "  <td><code>level</code></td>\n",
    "  <td>the course level, like \"G1\", \"G2\", or \"A\"</td>\n",
    " </tr>\n",
    " <tr>\n",
    "  <td><code>credits</code></td>\n",
    "  <td>the number of credits for the course, like 7.5</td>\n",
    " </tr>\n",
    "</table>\n",
    "\n",
    "<hr>\n",
    "\n",
    "<table rules=\"all\">\n",
    " <tr>\n",
    "  <th align=\"left\"><code>taken_courses:</code></th>\n",
    "  <th></th>\n",
    " </tr>\n",
    " <tr>\n",
    "  <td><code>ssn</code></td>\n",
    "  <td>the social security number of a student</td>\n",
    " </tr>\n",
    " <tr>\n",
    "  <td><code>course_code</code></td>\n",
    "  <td>the course code for the course the student has taken</td>\n",
    " </tr>\n",
    " <tr>\n",
    "  <td><code>grade</code></td>\n",
    "  <td>the grade for the student passing the course</td>\n",
    " </tr>\n",
    "</table>\n",
    "\n",
    "<hr>\n",
    "\n",
    "<center>\n",
    "  <img src=\"lab1.png\">\n",
    "</center>\n",
    "\n",
    "Some sample data:"
   ]
  },
  {
   "cell_type": "markdown",
   "id": "e581133c",
   "metadata": {},
   "source": [
    "```text\n",
    "ssn           first_name   last_name\n",
    "---           ----------   ---------\n",
    "861103–2438   Bo           Ek\n",
    "911212–1746   Eva          Alm\n",
    "950829–1848   Anna         Nyström\n",
    "...           ...          ...\n",
    "\n",
    "course_code   course_name                   level    credits\n",
    "-----------   -----------                   -----    -------\n",
    "EDA016        Programmeringsteknik          G1       7.5\n",
    "EDAA01        Programmeringsteknik - FK     G1       7.5\n",
    "EDA230        Optimerande kompilatorer      A        7.5\n",
    "...           ...                           ...      ...\n",
    "\n",
    "ssn           course_code   grade\n",
    "---           -----------   -----\n",
    "861103–2438   EDA016        4\n",
    "861103–2438   EDAA01        3\n",
    "911212–1746   EDA016        3\n",
    "...           ...           ...\n",
    "```\n"
   ]
  },
  {
   "cell_type": "markdown",
   "id": "9f0f7e3a",
   "metadata": {},
   "source": [
    "The tables have been created with the following SQL\n",
    "statements:"
   ]
  },
  {
   "cell_type": "markdown",
   "id": "b6eb45a6",
   "metadata": {},
   "source": [
    "```sql\n",
    "CREATE TABLE students (\n",
    "  ssn          CHAR(11),\n",
    "  first_name   TEXT NOT NULL,\n",
    "  last_name    TEXT NOT NULL,\n",
    "  PRIMARY KEY  (ssn)\n",
    ");\n",
    "\n",
    "CREATE TABLE courses (\n",
    "  course_code   CHAR(6),\n",
    "  course_name   TEXT NOT NULL,\n",
    "  level         CHAR(2),\n",
    "  credits       DOUBLE NOT NULL CHECK (credits > 0),\n",
    "  PRIMARY KEY   (course_code)\n",
    ");\n",
    "\n",
    "CREATE TABLE taken_courses (\n",
    "  ssn           CHAR(11),\n",
    "  course_code   CHAR(6),\n",
    "  grade         INTEGER NOT NULL CHECK (grade >= 3 AND grade <= 5),\n",
    "  PRIMARY KEY   (ssn, course_code),\n",
    "  FOREIGN KEY   (ssn) REFERENCES students(ssn),\n",
    "  FOREIGN KEY   (course_code) REFERENCES courses(course_code)\n",
    ");\n",
    "```\n"
   ]
  },
  {
   "cell_type": "markdown",
   "id": "948bdc13",
   "metadata": {},
   "source": [
    "All courses offered at the \"Computer Science and\n",
    "Engineering\" program at LTH during the academic year 2013/14\n",
    "are in the table 'courses`. Also, the database has been\n",
    "filled with made up data. SQL statements like the following\n",
    "have been used to insert the data:"
   ]
  },
  {
   "cell_type": "markdown",
   "id": "f87445bf",
   "metadata": {},
   "source": [
    "```sql\n",
    "INTO   students(ssn, first_name, last_name)\n",
    "VALUES ('950705-2308', 'Anna', 'Johansson'),\n",
    "       ('930702-3582', 'Anna', 'Johansson'),\n",
    "       ('911212-1746', 'Eva', 'Alm'),\n",
    "       ('910707-3787', 'Eva', 'Nilsson'),\n",
    "       ...\n",
    "```\n"
   ]
  },
  {
   "cell_type": "markdown",
   "id": "bb4b57a3",
   "metadata": {},
   "source": [
    "## Assignments\n",
    "\n",
    "As said above, this lab is designed to be run as a jupyter\n",
    "notebook. If you haven't got jupyter running, you can run\n",
    "the sql-commands for the problems below interactively inside\n",
    "sqlite3, or as a script file with all your commands, or\n",
    "inside some IDE, like [DB Browser for\n",
    "SQLite](https://sqlitebrowser.org/).\n",
    "\n",
    "If you're running the lab as a notebook (and hopefully you\n",
    "are!), evaluate the following cells before you begin:"
   ]
  },
  {
   "cell_type": "code",
   "execution_count": 2,
   "id": "514b5b02",
   "metadata": {},
   "outputs": [],
   "source": [
    "%load_ext sql"
   ]
  },
  {
   "cell_type": "code",
   "execution_count": 3,
   "id": "5419151c",
   "metadata": {},
   "outputs": [],
   "source": [
    "%sql sqlite:///lab1.sqlite"
   ]
  },
  {
   "cell_type": "markdown",
   "id": "ae65f43b",
   "metadata": {},
   "source": [
    "The tables `students`, `courses` and `taken_courses` are\n",
    "already in your database, you can see some of their contents\n",
    "by running the cells below:"
   ]
  },
  {
   "cell_type": "code",
   "execution_count": 8,
   "id": "6ca94cee",
   "metadata": {},
   "outputs": [
    {
     "name": "stdout",
     "output_type": "stream",
     "text": [
      " * sqlite:///lab1.sqlite\n",
      "Done.\n"
     ]
    },
    {
     "data": {
      "text/html": [
       "<table>\n",
       "    <tr>\n",
       "        <th>ssn</th>\n",
       "        <th>first_name</th>\n",
       "        <th>last_name</th>\n",
       "    </tr>\n",
       "    <tr>\n",
       "        <td>950705-2308</td>\n",
       "        <td>Anna</td>\n",
       "        <td>Johansson</td>\n",
       "    </tr>\n",
       "    <tr>\n",
       "        <td>930702-3582</td>\n",
       "        <td>Anna</td>\n",
       "        <td>Johansson</td>\n",
       "    </tr>\n",
       "    <tr>\n",
       "        <td>911212-1746</td>\n",
       "        <td>Eva</td>\n",
       "        <td>Alm</td>\n",
       "    </tr>\n",
       "    <tr>\n",
       "        <td>910707-3787</td>\n",
       "        <td>Eva</td>\n",
       "        <td>Nilsson</td>\n",
       "    </tr>\n",
       "</table>"
      ],
      "text/plain": [
       "[('950705-2308', 'Anna', 'Johansson'),\n",
       " ('930702-3582', 'Anna', 'Johansson'),\n",
       " ('911212-1746', 'Eva', 'Alm'),\n",
       " ('910707-3787', 'Eva', 'Nilsson')]"
      ]
     },
     "execution_count": 8,
     "metadata": {},
     "output_type": "execute_result"
    }
   ],
   "source": [
    "%%sql\n",
    "SELECT  *\n",
    "FROM    students\n",
    "LIMIT   4"
   ]
  },
  {
   "cell_type": "code",
   "execution_count": 5,
   "id": "aae8d0db",
   "metadata": {},
   "outputs": [
    {
     "name": "stdout",
     "output_type": "stream",
     "text": [
      " * sqlite:///lab1.sqlite\n",
      "Done.\n"
     ]
    },
    {
     "data": {
      "text/html": [
       "<table>\n",
       "    <tr>\n",
       "        <th>course_code</th>\n",
       "        <th>course_name</th>\n",
       "        <th>level</th>\n",
       "        <th>credits</th>\n",
       "    </tr>\n",
       "    <tr>\n",
       "        <td>EDA016</td>\n",
       "        <td>Programmeringsteknik</td>\n",
       "        <td>G1</td>\n",
       "        <td>7.5</td>\n",
       "    </tr>\n",
       "    <tr>\n",
       "        <td>EDA031</td>\n",
       "        <td>C++ - programmering</td>\n",
       "        <td>G2</td>\n",
       "        <td>7.5</td>\n",
       "    </tr>\n",
       "    <tr>\n",
       "        <td>EDA040</td>\n",
       "        <td>Realtidsprogrammering</td>\n",
       "        <td>G2</td>\n",
       "        <td>6.0</td>\n",
       "    </tr>\n",
       "    <tr>\n",
       "        <td>EDA050</td>\n",
       "        <td>Operativsystem</td>\n",
       "        <td>G2</td>\n",
       "        <td>4.5</td>\n",
       "    </tr>\n",
       "</table>"
      ],
      "text/plain": [
       "[('EDA016', 'Programmeringsteknik', 'G1', 7.5),\n",
       " ('EDA031', 'C++ - programmering', 'G2', 7.5),\n",
       " ('EDA040', 'Realtidsprogrammering', 'G2', 6.0),\n",
       " ('EDA050', 'Operativsystem', 'G2', 4.5)]"
      ]
     },
     "execution_count": 5,
     "metadata": {},
     "output_type": "execute_result"
    }
   ],
   "source": [
    "%%sql\n",
    "SELECT  *\n",
    "FROM    courses\n",
    "LIMIT   4"
   ]
  },
  {
   "cell_type": "code",
   "execution_count": 5,
   "id": "098f8525",
   "metadata": {},
   "outputs": [
    {
     "name": "stdout",
     "output_type": "stream",
     "text": [
      " * sqlite:///lab1.sqlite\n",
      "Done.\n"
     ]
    },
    {
     "data": {
      "text/html": [
       "<table>\n",
       "    <tr>\n",
       "        <th>ssn</th>\n",
       "        <th>course_code</th>\n",
       "        <th>grade</th>\n",
       "    </tr>\n",
       "    <tr>\n",
       "        <td>950705-2308</td>\n",
       "        <td>EITN35</td>\n",
       "        <td>5</td>\n",
       "    </tr>\n",
       "    <tr>\n",
       "        <td>950705-2308</td>\n",
       "        <td>ESS050</td>\n",
       "        <td>3</td>\n",
       "    </tr>\n",
       "    <tr>\n",
       "        <td>950705-2308</td>\n",
       "        <td>ETIN70</td>\n",
       "        <td>4</td>\n",
       "    </tr>\n",
       "    <tr>\n",
       "        <td>950705-2308</td>\n",
       "        <td>FMA140</td>\n",
       "        <td>4</td>\n",
       "    </tr>\n",
       "</table>"
      ],
      "text/plain": [
       "[('950705-2308', 'EITN35', 5),\n",
       " ('950705-2308', 'ESS050', 3),\n",
       " ('950705-2308', 'ETIN70', 4),\n",
       " ('950705-2308', 'FMA140', 4)]"
      ]
     },
     "execution_count": 5,
     "metadata": {},
     "output_type": "execute_result"
    }
   ],
   "source": [
    "%%sql\n",
    "SELECT  *\n",
    "FROM    taken_courses\n",
    "LIMIT   4"
   ]
  },
  {
   "cell_type": "markdown",
   "id": "e4fa99b2",
   "metadata": {},
   "source": [
    "If you inadvertently change the contents of the tables, you\n",
    "can always recreate the them with the following command (it\n",
    "must be run at the command line):"
   ]
  },
  {
   "cell_type": "markdown",
   "id": "a1197263",
   "metadata": {},
   "source": [
    "```sh\n",
    "sqlite3 lab1.sqlite < lab1-setup.sql\n",
    "```\n"
   ]
  },
  {
   "cell_type": "markdown",
   "id": "d8e9d853",
   "metadata": {},
   "source": [
    "After some of the questions there is a number in brackets.\n",
    "This is the number of rows generated by the question. For\n",
    "instance, [72] after question a) means that there are 72\n",
    "students in the database, you can use that number as an\n",
    "indicatation of if your answer is in the right ballpark.\n",
    "\n",
    "a) What are the names (first name, last name) of all the\n",
    "   students? [72]"
   ]
  },
  {
   "cell_type": "code",
   "execution_count": 13,
   "id": "d6c65535",
   "metadata": {},
   "outputs": [
    {
     "name": "stdout",
     "output_type": "stream",
     "text": [
      " * sqlite:///lab1.sqlite\n",
      "Done.\n"
     ]
    },
    {
     "data": {
      "text/html": [
       "<table>\n",
       "    <tr>\n",
       "        <th>first_name</th>\n",
       "        <th>last_name</th>\n",
       "    </tr>\n",
       "    <tr>\n",
       "        <td>Anna</td>\n",
       "        <td>Johansson</td>\n",
       "    </tr>\n",
       "    <tr>\n",
       "        <td>Anna</td>\n",
       "        <td>Johansson</td>\n",
       "    </tr>\n",
       "    <tr>\n",
       "        <td>Eva</td>\n",
       "        <td>Alm</td>\n",
       "    </tr>\n",
       "    <tr>\n",
       "        <td>Eva</td>\n",
       "        <td>Nilsson</td>\n",
       "    </tr>\n",
       "</table>"
      ],
      "text/plain": [
       "[('Anna', 'Johansson'),\n",
       " ('Anna', 'Johansson'),\n",
       " ('Eva', 'Alm'),\n",
       " ('Eva', 'Nilsson')]"
      ]
     },
     "execution_count": 13,
     "metadata": {},
     "output_type": "execute_result"
    }
   ],
   "source": [
    "%%sql\n",
    "SELECT  first_name, last_name\n",
    "FROM    students\n",
    "LIMIT   4"
   ]
  },
  {
   "cell_type": "markdown",
   "id": "1b845a9e",
   "metadata": {},
   "source": [
    "b) Same as question a) but produce a sorted listing -- sort\n",
    "   first by last name and then by first name. (When you get\n",
    "   it to work, experiment by listing only the 10 first\n",
    "   students, then try to list only students 11-20, etc.)."
   ]
  },
  {
   "cell_type": "code",
   "execution_count": 30,
   "id": "ff31712b",
   "metadata": {
    "attributes": {
     "classes": [
      "clear"
     ],
     "id": ""
    }
   },
   "outputs": [
    {
     "name": "stdout",
     "output_type": "stream",
     "text": [
      " * sqlite:///lab1.sqlite\n",
      "Done.\n"
     ]
    },
    {
     "data": {
      "text/html": [
       "<table>\n",
       "    <tr>\n",
       "        <th>first_name</th>\n",
       "        <th>last_name</th>\n",
       "    </tr>\n",
       "    <tr>\n",
       "        <td>Lisa</td>\n",
       "        <td>Berg</td>\n",
       "    </tr>\n",
       "    <tr>\n",
       "        <td>Lotta</td>\n",
       "        <td>Bergman</td>\n",
       "    </tr>\n",
       "    <tr>\n",
       "        <td>Johan</td>\n",
       "        <td>Brattberg</td>\n",
       "    </tr>\n",
       "    <tr>\n",
       "        <td>Roger</td>\n",
       "        <td>Brorsson</td>\n",
       "    </tr>\n",
       "    <tr>\n",
       "        <td>David</td>\n",
       "        <td>Carlsson</td>\n",
       "    </tr>\n",
       "    <tr>\n",
       "        <td>Susanne</td>\n",
       "        <td>Dahl</td>\n",
       "    </tr>\n",
       "    <tr>\n",
       "        <td>Bo</td>\n",
       "        <td>Ek</td>\n",
       "    </tr>\n",
       "    <tr>\n",
       "        <td>Bo</td>\n",
       "        <td>Ek</td>\n",
       "    </tr>\n",
       "    <tr>\n",
       "        <td>Bo</td>\n",
       "        <td>Ek</td>\n",
       "    </tr>\n",
       "    <tr>\n",
       "        <td>Karolin</td>\n",
       "        <td>Ek</td>\n",
       "    </tr>\n",
       "</table>"
      ],
      "text/plain": [
       "[('Lisa', 'Berg'),\n",
       " ('Lotta', 'Bergman'),\n",
       " ('Johan', 'Brattberg'),\n",
       " ('Roger', 'Brorsson'),\n",
       " ('David', 'Carlsson'),\n",
       " ('Susanne', 'Dahl'),\n",
       " ('Bo', 'Ek'),\n",
       " ('Bo', 'Ek'),\n",
       " ('Bo', 'Ek'),\n",
       " ('Karolin', 'Ek')]"
      ]
     },
     "execution_count": 30,
     "metadata": {},
     "output_type": "execute_result"
    }
   ],
   "source": [
    "%%sql\n",
    "SELECT  first_name, last_name\n",
    "FROM    students\n",
    "ORDER BY last_name, first_name\n",
    "LIMIT 10\n",
    "OFFSET 10\n"
   ]
  },
  {
   "cell_type": "markdown",
   "id": "a4d179bb",
   "metadata": {},
   "source": [
    "c) What are the names of the students who were born in 1985?\n",
    "   [4]"
   ]
  },
  {
   "cell_type": "code",
   "execution_count": 33,
   "id": "d385bd3c",
   "metadata": {
    "attributes": {
     "classes": [
      "clear"
     ],
     "id": ""
    }
   },
   "outputs": [
    {
     "name": "stdout",
     "output_type": "stream",
     "text": [
      " * sqlite:///lab1.sqlite\n",
      "Done.\n"
     ]
    },
    {
     "data": {
      "text/html": [
       "<table>\n",
       "    <tr>\n",
       "        <th>first_name</th>\n",
       "        <th>last_name</th>\n",
       "        <th>ssn</th>\n",
       "    </tr>\n",
       "    <tr>\n",
       "        <td>Ulrika</td>\n",
       "        <td>Jonsson</td>\n",
       "        <td>850706-2762</td>\n",
       "    </tr>\n",
       "    <tr>\n",
       "        <td>Bo</td>\n",
       "        <td>Ek</td>\n",
       "        <td>850819-2139</td>\n",
       "    </tr>\n",
       "    <tr>\n",
       "        <td>Filip</td>\n",
       "        <td>Persson</td>\n",
       "        <td>850517-2597</td>\n",
       "    </tr>\n",
       "    <tr>\n",
       "        <td>Henrik</td>\n",
       "        <td>Berg</td>\n",
       "        <td>850208-1213</td>\n",
       "    </tr>\n",
       "</table>"
      ],
      "text/plain": [
       "[('Ulrika', 'Jonsson', '850706-2762'),\n",
       " ('Bo', 'Ek', '850819-2139'),\n",
       " ('Filip', 'Persson', '850517-2597'),\n",
       " ('Henrik', 'Berg', '850208-1213')]"
      ]
     },
     "execution_count": 33,
     "metadata": {},
     "output_type": "execute_result"
    }
   ],
   "source": [
    "%%sql\n",
    "SELECT first_name, last_name, ssn\n",
    "FROM students\n",
    "WHERE ssn LIKE \"85%\""
   ]
  },
  {
   "cell_type": "markdown",
   "id": "d446d267",
   "metadata": {},
   "source": [
    "d) The next-to-last digit in the social security number is\n",
    "   even for females, and odd for males. List the first names\n",
    "   of all female students in our database alphabetically --\n",
    "   _each name should occur only once_. Hint: the `substr`\n",
    "   function can be useful. [20]"
   ]
  },
  {
   "cell_type": "code",
   "execution_count": 48,
   "id": "04f411ae",
   "metadata": {
    "attributes": {
     "classes": [
      "clear"
     ],
     "id": ""
    }
   },
   "outputs": [
    {
     "name": "stdout",
     "output_type": "stream",
     "text": [
      " * sqlite:///lab1.sqlite\n",
      "Done.\n"
     ]
    },
    {
     "data": {
      "text/html": [
       "<table>\n",
       "    <tr>\n",
       "        <th>first_name</th>\n",
       "        <th>last_name</th>\n",
       "        <th>person_kind</th>\n",
       "    </tr>\n",
       "    <tr>\n",
       "        <td>Anna</td>\n",
       "        <td>Johansson</td>\n",
       "        <td>0.0</td>\n",
       "    </tr>\n",
       "    <tr>\n",
       "        <td>Eva</td>\n",
       "        <td>Alm</td>\n",
       "        <td>0.0</td>\n",
       "    </tr>\n",
       "    <tr>\n",
       "        <td>Eva</td>\n",
       "        <td>Nilsson</td>\n",
       "        <td>0.0</td>\n",
       "    </tr>\n",
       "    <tr>\n",
       "        <td>Elaine</td>\n",
       "        <td>Robertson</td>\n",
       "        <td>0.0</td>\n",
       "    </tr>\n",
       "</table>"
      ],
      "text/plain": [
       "[('Anna', 'Johansson', 0.0),\n",
       " ('Eva', 'Alm', 0.0),\n",
       " ('Eva', 'Nilsson', 0.0),\n",
       " ('Elaine', 'Robertson', 0.0)]"
      ]
     },
     "execution_count": 48,
     "metadata": {},
     "output_type": "execute_result"
    }
   ],
   "source": [
    "%%sql\n",
    "SELECT DISTINCT first_name, last_name, mod(substr(ssn, 10, 1), 2) as person_kind\n",
    "FROM students\n",
    "WHERE person_kind = 0\n",
    "LIMIT 4"
   ]
  },
  {
   "cell_type": "markdown",
   "id": "a2b7eb23",
   "metadata": {},
   "source": [
    "e) How many students are registered in the database?"
   ]
  },
  {
   "cell_type": "code",
   "execution_count": 342,
   "id": "85cb86b7",
   "metadata": {
    "attributes": {
     "classes": [
      "clear"
     ],
     "id": ""
    }
   },
   "outputs": [
    {
     "name": "stdout",
     "output_type": "stream",
     "text": [
      " * sqlite:///lab1.sqlite\n",
      "Done.\n"
     ]
    },
    {
     "data": {
      "text/html": [
       "<table>\n",
       "    <tr>\n",
       "        <th>count(DISTINCT first_name)</th>\n",
       "    </tr>\n",
       "    <tr>\n",
       "        <td>51</td>\n",
       "    </tr>\n",
       "</table>"
      ],
      "text/plain": [
       "[(51,)]"
      ]
     },
     "execution_count": 342,
     "metadata": {},
     "output_type": "execute_result"
    }
   ],
   "source": [
    "%%sql\n",
    "SELECT count(DISTINCT first_name)\n",
    "FROM students\n"
   ]
  },
  {
   "cell_type": "markdown",
   "id": "d92ab868",
   "metadata": {},
   "source": [
    "_Optional_: Now try to output the number of names in the\n",
    "   listing in (d) using `count`. It turns out that this is a\n",
    "   little bit tricky, we need to make sure we use the word\n",
    "   `DISTINCT` in the right place (look carefully in the\n",
    "   [documentation](https://sqlite.org/lang_aggfunc.html)).\n",
    "\n",
    "\n",
    "f) Which courses are offered by the department of\n",
    "   Mathematics (their course codes have the form `FMAxxx`)?\n",
    "   [22]"
   ]
  },
  {
   "cell_type": "code",
   "execution_count": 81,
   "id": "326a7703",
   "metadata": {
    "attributes": {
     "classes": [
      "clear"
     ],
     "id": ""
    }
   },
   "outputs": [
    {
     "name": "stdout",
     "output_type": "stream",
     "text": [
      " * sqlite:///lab1.sqlite\n",
      "Done.\n"
     ]
    },
    {
     "data": {
      "text/html": [
       "<table>\n",
       "    <tr>\n",
       "        <th>course_code</th>\n",
       "        <th>course_name</th>\n",
       "        <th>level</th>\n",
       "        <th>credits</th>\n",
       "    </tr>\n",
       "    <tr>\n",
       "        <td>FMA021</td>\n",
       "        <td>Kontinuerliga system</td>\n",
       "        <td>A</td>\n",
       "        <td>7.5</td>\n",
       "    </tr>\n",
       "    <tr>\n",
       "        <td>FMA051</td>\n",
       "        <td>Optimering</td>\n",
       "        <td>A</td>\n",
       "        <td>6.0</td>\n",
       "    </tr>\n",
       "    <tr>\n",
       "        <td>FMA111</td>\n",
       "        <td>Matematiska strukturer</td>\n",
       "        <td>A</td>\n",
       "        <td>6.0</td>\n",
       "    </tr>\n",
       "    <tr>\n",
       "        <td>FMA120</td>\n",
       "        <td>Matristeori</td>\n",
       "        <td>A</td>\n",
       "        <td>6.0</td>\n",
       "    </tr>\n",
       "</table>"
      ],
      "text/plain": [
       "[('FMA021', 'Kontinuerliga system', 'A', 7.5),\n",
       " ('FMA051', 'Optimering', 'A', 6.0),\n",
       " ('FMA111', 'Matematiska strukturer', 'A', 6.0),\n",
       " ('FMA120', 'Matristeori', 'A', 6.0)]"
      ]
     },
     "execution_count": 81,
     "metadata": {},
     "output_type": "execute_result"
    }
   ],
   "source": [
    "%%sql\n",
    "SELECT *\n",
    "FROM courses\n",
    "WHERE course_code LIKE \"FMA%\"\n",
    "ORDER BY level\n",
    "LIMIT 4"
   ]
  },
  {
   "cell_type": "markdown",
   "id": "76895ee4",
   "metadata": {},
   "source": [
    "g) Which courses give more than 7.5 credits? [16]"
   ]
  },
  {
   "cell_type": "code",
   "execution_count": 84,
   "id": "ec7c24bb",
   "metadata": {
    "attributes": {
     "classes": [
      "clear"
     ],
     "id": ""
    }
   },
   "outputs": [
    {
     "name": "stdout",
     "output_type": "stream",
     "text": [
      " * sqlite:///lab1.sqlite\n",
      "Done.\n"
     ]
    },
    {
     "data": {
      "text/html": [
       "<table>\n",
       "    <tr>\n",
       "        <th>course_code</th>\n",
       "        <th>course_name</th>\n",
       "        <th>level</th>\n",
       "        <th>credits</th>\n",
       "    </tr>\n",
       "    <tr>\n",
       "        <td>EXTA35</td>\n",
       "        <td>Introduktionskurs i kinesiska för civilingenjörer</td>\n",
       "        <td>G1</td>\n",
       "        <td>15.0</td>\n",
       "    </tr>\n",
       "    <tr>\n",
       "        <td>EXTF60</td>\n",
       "        <td>Introduktionskurs i kinesiska för civilingenjörer, del 2</td>\n",
       "        <td>G2</td>\n",
       "        <td>15.0</td>\n",
       "    </tr>\n",
       "    <tr>\n",
       "        <td>FAFF25</td>\n",
       "        <td>Fysik</td>\n",
       "        <td>G2</td>\n",
       "        <td>11.0</td>\n",
       "    </tr>\n",
       "    <tr>\n",
       "        <td>FMAA01</td>\n",
       "        <td>Endimensionell analys</td>\n",
       "        <td>G1</td>\n",
       "        <td>15.0</td>\n",
       "    </tr>\n",
       "</table>"
      ],
      "text/plain": [
       "[('EXTA35', 'Introduktionskurs i kinesiska för civilingenjörer', 'G1', 15.0),\n",
       " ('EXTF60', 'Introduktionskurs i kinesiska för civilingenjörer, del 2', 'G2', 15.0),\n",
       " ('FAFF25', 'Fysik', 'G2', 11.0),\n",
       " ('FMAA01', 'Endimensionell analys', 'G1', 15.0)]"
      ]
     },
     "execution_count": 84,
     "metadata": {},
     "output_type": "execute_result"
    }
   ],
   "source": [
    "%%sql\n",
    "SELECT *\n",
    "FROM courses\n",
    "WHERE credits > 10.0\n",
    "LIMIT 4"
   ]
  },
  {
   "cell_type": "markdown",
   "id": "5df24d35",
   "metadata": {},
   "source": [
    "h) How may courses are there for each level (`G1`, `G2`, and\n",
    "   `A`)?"
   ]
  },
  {
   "cell_type": "code",
   "execution_count": 87,
   "id": "1ed3fc85",
   "metadata": {
    "attributes": {
     "classes": [
      "clear"
     ],
     "id": ""
    }
   },
   "outputs": [
    {
     "name": "stdout",
     "output_type": "stream",
     "text": [
      " * sqlite:///lab1.sqlite\n",
      "Done.\n"
     ]
    },
    {
     "data": {
      "text/html": [
       "<table>\n",
       "    <tr>\n",
       "        <th>level</th>\n",
       "        <th>count</th>\n",
       "    </tr>\n",
       "    <tr>\n",
       "        <td>A</td>\n",
       "        <td>87</td>\n",
       "    </tr>\n",
       "    <tr>\n",
       "        <td>G1</td>\n",
       "        <td>31</td>\n",
       "    </tr>\n",
       "    <tr>\n",
       "        <td>G2</td>\n",
       "        <td>60</td>\n",
       "    </tr>\n",
       "</table>"
      ],
      "text/plain": [
       "[('A', 87), ('G1', 31), ('G2', 60)]"
      ]
     },
     "execution_count": 87,
     "metadata": {},
     "output_type": "execute_result"
    }
   ],
   "source": [
    "%%sql\n",
    "SELECT level, count() as count\n",
    "FROM courses\n",
    "GROUP BY level"
   ]
  },
  {
   "cell_type": "markdown",
   "id": "68437101",
   "metadata": {},
   "source": [
    "In the next few problems, we'll look at the results of the\n",
    "student with the social security number 910101–1234 -- to\n",
    "make things _a lot_ easier, you can create a `VIEW` with all\n",
    "his results."
   ]
  },
  {
   "cell_type": "code",
   "execution_count": 100,
   "id": "e0dda75e",
   "metadata": {
    "attributes": {
     "classes": [
      "clear"
     ],
     "id": ""
    }
   },
   "outputs": [
    {
     "name": "stdout",
     "output_type": "stream",
     "text": [
      " * sqlite:///lab1.sqlite\n",
      "Done.\n",
      "Done.\n",
      "Done.\n"
     ]
    },
    {
     "data": {
      "text/html": [
       "<table>\n",
       "    <tr>\n",
       "        <th>ssn</th>\n",
       "        <th>first_name</th>\n",
       "        <th>last_name</th>\n",
       "    </tr>\n",
       "    <tr>\n",
       "        <td>910101-1234</td>\n",
       "        <td>Peter</td>\n",
       "        <td>Solberg</td>\n",
       "    </tr>\n",
       "</table>"
      ],
      "text/plain": [
       "[('910101-1234', 'Peter', 'Solberg')]"
      ]
     },
     "execution_count": 100,
     "metadata": {},
     "output_type": "execute_result"
    }
   ],
   "source": [
    "%%sql\n",
    "DROP VIEW IF EXISTS student;\n",
    "CREATE VIEW student AS\n",
    "  SELECT *\n",
    "  FROM   students\n",
    "  WHERE  ssn LIKE \"910101-1234\";\n",
    "\n",
    "SELECT *\n",
    "FROM student"
   ]
  },
  {
   "cell_type": "markdown",
   "id": "79926465",
   "metadata": {},
   "source": [
    "i) Which courses (course codes only) have been taken by the\n",
    "   student with the social security number 910101–1234? [35]"
   ]
  },
  {
   "cell_type": "code",
   "execution_count": 143,
   "id": "ec6b8a0b",
   "metadata": {
    "attributes": {
     "classes": [
      "clear"
     ],
     "id": ""
    }
   },
   "outputs": [
    {
     "name": "stdout",
     "output_type": "stream",
     "text": [
      " * sqlite:///lab1.sqlite\n",
      "Done.\n"
     ]
    },
    {
     "data": {
      "text/html": [
       "<table>\n",
       "    <tr>\n",
       "        <th>ssn</th>\n",
       "        <th>course_code</th>\n",
       "        <th>grade</th>\n",
       "        <th>count()</th>\n",
       "    </tr>\n",
       "    <tr>\n",
       "        <td>910101-1234</td>\n",
       "        <td>EDA070</td>\n",
       "        <td>3</td>\n",
       "        <td>35</td>\n",
       "    </tr>\n",
       "</table>"
      ],
      "text/plain": [
       "[('910101-1234', 'EDA070', 3, 35)]"
      ]
     },
     "execution_count": 143,
     "metadata": {},
     "output_type": "execute_result"
    }
   ],
   "source": [
    "%%sql\n",
    "SELECT *, count()\n",
    "FROM taken_courses\n",
    "WHERE ssn = (SELECT ssn FROM student)\n",
    "LIMIT 4\n"
   ]
  },
  {
   "cell_type": "markdown",
   "id": "3aa1000e",
   "metadata": {},
   "source": [
    "j) What are the names of these courses, and how many credits\n",
    "   do they give?"
   ]
  },
  {
   "cell_type": "code",
   "execution_count": 161,
   "id": "f67cc264",
   "metadata": {
    "attributes": {
     "classes": [
      "clear"
     ],
     "id": ""
    }
   },
   "outputs": [
    {
     "name": "stdout",
     "output_type": "stream",
     "text": [
      " * sqlite:///lab1.sqlite\n",
      "Done.\n"
     ]
    },
    {
     "data": {
      "text/html": [
       "<table>\n",
       "    <tr>\n",
       "        <th>course_code</th>\n",
       "        <th>course_name</th>\n",
       "        <th>level</th>\n",
       "        <th>credits</th>\n",
       "    </tr>\n",
       "    <tr>\n",
       "        <td>EDA070</td>\n",
       "        <td>Datorer och datoranvändning</td>\n",
       "        <td>G1</td>\n",
       "        <td>3.0</td>\n",
       "    </tr>\n",
       "    <tr>\n",
       "        <td>EDA385</td>\n",
       "        <td>Konstruktion av inbyggda system, fördjupningskurs</td>\n",
       "        <td>A</td>\n",
       "        <td>7.5</td>\n",
       "    </tr>\n",
       "    <tr>\n",
       "        <td>EDAA25</td>\n",
       "        <td>C-programmering</td>\n",
       "        <td>G1</td>\n",
       "        <td>3.0</td>\n",
       "    </tr>\n",
       "    <tr>\n",
       "        <td>EDAF05</td>\n",
       "        <td>Algoritmer, datastrukturer och komplexitet</td>\n",
       "        <td>G2</td>\n",
       "        <td>5.0</td>\n",
       "    </tr>\n",
       "</table>"
      ],
      "text/plain": [
       "[('EDA070', 'Datorer och datoranvändning', 'G1', 3.0),\n",
       " ('EDA385', 'Konstruktion av inbyggda system, fördjupningskurs', 'A', 7.5),\n",
       " ('EDAA25', 'C-programmering', 'G1', 3.0),\n",
       " ('EDAF05', 'Algoritmer, datastrukturer och komplexitet', 'G2', 5.0)]"
      ]
     },
     "execution_count": 161,
     "metadata": {},
     "output_type": "execute_result"
    }
   ],
   "source": [
    "%%sql\n",
    "\n",
    "WITH student_taken_courses as (\n",
    "  SELECT *\n",
    "  FROM taken_courses\n",
    "  WHERE ssn = (SELECT ssn FROM student)\n",
    ")\n",
    "SELECT *\n",
    "FROM courses\n",
    "WHERE course_code IN (SELECT course_code FROM student_taken_courses)\n",
    "LIMIT 4\n",
    "\n"
   ]
  },
  {
   "cell_type": "markdown",
   "id": "c0ec33b6",
   "metadata": {},
   "source": [
    "k) How many credits has the student taken?"
   ]
  },
  {
   "cell_type": "code",
   "execution_count": 164,
   "id": "d6ba4be1",
   "metadata": {
    "attributes": {
     "classes": [
      "clear"
     ],
     "id": ""
    }
   },
   "outputs": [
    {
     "name": "stdout",
     "output_type": "stream",
     "text": [
      " * sqlite:///lab1.sqlite\n",
      "Done.\n"
     ]
    },
    {
     "data": {
      "text/html": [
       "<table>\n",
       "    <tr>\n",
       "        <th>avg(grade)</th>\n",
       "    </tr>\n",
       "    <tr>\n",
       "        <td>4.0285714285714285</td>\n",
       "    </tr>\n",
       "</table>"
      ],
      "text/plain": [
       "[(4.0285714285714285,)]"
      ]
     },
     "execution_count": 164,
     "metadata": {},
     "output_type": "execute_result"
    }
   ],
   "source": [
    "%%sql\n",
    "WITH student_taken_courses as (\n",
    "  SELECT *\n",
    "  FROM taken_courses\n",
    "  WHERE ssn = (SELECT ssn FROM student)\n",
    ")\n",
    "SELECT avg(grade)\n",
    "FROM student_taken_courses"
   ]
  },
  {
   "cell_type": "markdown",
   "id": "8b143068",
   "metadata": {},
   "source": [
    "l) What is the student’s grade average? We can calculate the\n",
    "   average either just as the average of all grades\n",
    "   (unweighted), or use the credits for each course as a\n",
    "   weight and calculate a weighted average. Try to do the\n",
    "   calculation both ways (the weighted average can be\n",
    "   calculated in just one line of code, but we only require\n",
    "   that you calculate the unweighted average, so don't spend\n",
    "   too much time on getting the weighted average right)."
   ]
  },
  {
   "cell_type": "code",
   "execution_count": 176,
   "id": "2fe8dee8",
   "metadata": {
    "attributes": {
     "classes": [
      "clear"
     ],
     "id": ""
    }
   },
   "outputs": [
    {
     "name": "stdout",
     "output_type": "stream",
     "text": [
      " * sqlite:///lab1.sqlite\n",
      "Done.\n"
     ]
    },
    {
     "data": {
      "text/html": [
       "<table>\n",
       "    <tr>\n",
       "        <th>avg(grade)</th>\n",
       "    </tr>\n",
       "    <tr>\n",
       "        <td>4.0285714285714285</td>\n",
       "    </tr>\n",
       "</table>"
      ],
      "text/plain": [
       "[(4.0285714285714285,)]"
      ]
     },
     "execution_count": 176,
     "metadata": {},
     "output_type": "execute_result"
    }
   ],
   "source": [
    "%%sql\n",
    "WITH student_taken_courses as (\n",
    "  SELECT *\n",
    "  FROM taken_courses\n",
    "  WHERE ssn = (SELECT ssn FROM student)\n",
    ")\n",
    "SELECT avg(grade)\n",
    "FROM student_taken_courses\n",
    "\n",
    "\n"
   ]
  },
  {
   "cell_type": "markdown",
   "id": "861164e7",
   "metadata": {},
   "source": [
    "m) Which students have taken 0 credits? [11] This problem\n",
    "   can be solved in several ways, first do it with an outer\n",
    "   join:"
   ]
  },
  {
   "cell_type": "code",
   "execution_count": 257,
   "id": "b2b1d32c",
   "metadata": {
    "attributes": {
     "classes": [
      "clear"
     ],
     "id": ""
    }
   },
   "outputs": [
    {
     "name": "stdout",
     "output_type": "stream",
     "text": [
      " * sqlite:///lab1.sqlite\n",
      "Done.\n"
     ]
    },
    {
     "data": {
      "text/html": [
       "<table>\n",
       "    <tr>\n",
       "        <th>first_name</th>\n",
       "        <th>last_name</th>\n",
       "    </tr>\n",
       "    <tr>\n",
       "        <td>Anna</td>\n",
       "        <td>Nyström</td>\n",
       "    </tr>\n",
       "    <tr>\n",
       "        <td>Bo</td>\n",
       "        <td>Ek</td>\n",
       "    </tr>\n",
       "    <tr>\n",
       "        <td>Caroline</td>\n",
       "        <td>Olsson</td>\n",
       "    </tr>\n",
       "    <tr>\n",
       "        <td>Erik</td>\n",
       "        <td>Andersson</td>\n",
       "    </tr>\n",
       "    <tr>\n",
       "        <td>Erik</td>\n",
       "        <td>Andersson</td>\n",
       "    </tr>\n",
       "    <tr>\n",
       "        <td>Filip</td>\n",
       "        <td>Persson</td>\n",
       "    </tr>\n",
       "    <tr>\n",
       "        <td>Henrik</td>\n",
       "        <td>Gustavsson</td>\n",
       "    </tr>\n",
       "    <tr>\n",
       "        <td>Joakim</td>\n",
       "        <td>Hall</td>\n",
       "    </tr>\n",
       "    <tr>\n",
       "        <td>Johan</td>\n",
       "        <td>Lind</td>\n",
       "    </tr>\n",
       "    <tr>\n",
       "        <td>Jonathan</td>\n",
       "        <td>Jönsson</td>\n",
       "    </tr>\n",
       "    <tr>\n",
       "        <td>Magnus</td>\n",
       "        <td>Hultgren</td>\n",
       "    </tr>\n",
       "</table>"
      ],
      "text/plain": [
       "[('Anna', 'Nyström'),\n",
       " ('Bo', 'Ek'),\n",
       " ('Caroline', 'Olsson'),\n",
       " ('Erik', 'Andersson'),\n",
       " ('Erik', 'Andersson'),\n",
       " ('Filip', 'Persson'),\n",
       " ('Henrik', 'Gustavsson'),\n",
       " ('Joakim', 'Hall'),\n",
       " ('Johan', 'Lind'),\n",
       " ('Jonathan', 'Jönsson'),\n",
       " ('Magnus', 'Hultgren')]"
      ]
     },
     "execution_count": 257,
     "metadata": {},
     "output_type": "execute_result"
    }
   ],
   "source": [
    "%%sql\n",
    "SELECT first_name, last_name\n",
    "FROM students\n",
    "LEFT JOIN taken_courses\n",
    "USING (ssn)\n",
    "GROUP BY ssn\n",
    "HAVING  sum(grade) is NULL\n",
    "ORDER BY first_name\n"
   ]
  },
  {
   "cell_type": "markdown",
   "id": "92681108",
   "metadata": {},
   "source": [
    "Now do the same thing using a subquery:"
   ]
  },
  {
   "cell_type": "code",
   "execution_count": 258,
   "id": "f5177550",
   "metadata": {
    "attributes": {
     "classes": [
      "clear"
     ],
     "id": ""
    }
   },
   "outputs": [
    {
     "name": "stdout",
     "output_type": "stream",
     "text": [
      " * sqlite:///lab1.sqlite\n",
      "Done.\n"
     ]
    },
    {
     "data": {
      "text/html": [
       "<table>\n",
       "    <tr>\n",
       "        <th>first_name</th>\n",
       "        <th>last_name</th>\n",
       "    </tr>\n",
       "    <tr>\n",
       "        <td>Anna</td>\n",
       "        <td>Nyström</td>\n",
       "    </tr>\n",
       "    <tr>\n",
       "        <td>Bo</td>\n",
       "        <td>Ek</td>\n",
       "    </tr>\n",
       "    <tr>\n",
       "        <td>Caroline</td>\n",
       "        <td>Olsson</td>\n",
       "    </tr>\n",
       "    <tr>\n",
       "        <td>Erik</td>\n",
       "        <td>Andersson</td>\n",
       "    </tr>\n",
       "    <tr>\n",
       "        <td>Erik</td>\n",
       "        <td>Andersson</td>\n",
       "    </tr>\n",
       "    <tr>\n",
       "        <td>Filip</td>\n",
       "        <td>Persson</td>\n",
       "    </tr>\n",
       "    <tr>\n",
       "        <td>Henrik</td>\n",
       "        <td>Gustavsson</td>\n",
       "    </tr>\n",
       "    <tr>\n",
       "        <td>Joakim</td>\n",
       "        <td>Hall</td>\n",
       "    </tr>\n",
       "    <tr>\n",
       "        <td>Johan</td>\n",
       "        <td>Lind</td>\n",
       "    </tr>\n",
       "    <tr>\n",
       "        <td>Jonathan</td>\n",
       "        <td>Jönsson</td>\n",
       "    </tr>\n",
       "    <tr>\n",
       "        <td>Magnus</td>\n",
       "        <td>Hultgren</td>\n",
       "    </tr>\n",
       "</table>"
      ],
      "text/plain": [
       "[('Anna', 'Nyström'),\n",
       " ('Bo', 'Ek'),\n",
       " ('Caroline', 'Olsson'),\n",
       " ('Erik', 'Andersson'),\n",
       " ('Erik', 'Andersson'),\n",
       " ('Filip', 'Persson'),\n",
       " ('Henrik', 'Gustavsson'),\n",
       " ('Joakim', 'Hall'),\n",
       " ('Johan', 'Lind'),\n",
       " ('Jonathan', 'Jönsson'),\n",
       " ('Magnus', 'Hultgren')]"
      ]
     },
     "execution_count": 258,
     "metadata": {},
     "output_type": "execute_result"
    }
   ],
   "source": [
    "%%sql\n",
    "WITH potato as (\n",
    "  SELECT ssn, sum(grade)\n",
    "  FROM taken_courses\n",
    "  GROUP BY ssn\n",
    ")\n",
    "SELECT first_name, last_name\n",
    "FROM students\n",
    "WHERE ssn NOT IN (SELECT ssn FROM potato)\n",
    "ORDER BY first_name\n"
   ]
  },
  {
   "cell_type": "markdown",
   "id": "0949c130",
   "metadata": {},
   "source": [
    "n) List the names and average grades of the 10 students with\n",
    "   the highest grade average? You can use the unweighted\n",
    "   average."
   ]
  },
  {
   "cell_type": "code",
   "execution_count": 272,
   "id": "17463741",
   "metadata": {
    "attributes": {
     "classes": [
      "clear"
     ],
     "id": ""
    }
   },
   "outputs": [
    {
     "name": "stdout",
     "output_type": "stream",
     "text": [
      " * sqlite:///lab1.sqlite\n",
      "Done.\n"
     ]
    },
    {
     "data": {
      "text/html": [
       "<table>\n",
       "    <tr>\n",
       "        <th>ssn</th>\n",
       "        <th>first_name</th>\n",
       "        <th>last_name</th>\n",
       "        <th>avg_grade</th>\n",
       "    </tr>\n",
       "    <tr>\n",
       "        <td>861103-2438</td>\n",
       "        <td>Bo</td>\n",
       "        <td>Ek</td>\n",
       "        <td>4.35</td>\n",
       "    </tr>\n",
       "    <tr>\n",
       "        <td>910308-1826</td>\n",
       "        <td>Helena</td>\n",
       "        <td>Troberg</td>\n",
       "        <td>4.3076923076923075</td>\n",
       "    </tr>\n",
       "    <tr>\n",
       "        <td>931213-2824</td>\n",
       "        <td>Elaine</td>\n",
       "        <td>Robertson</td>\n",
       "        <td>4.235294117647059</td>\n",
       "    </tr>\n",
       "    <tr>\n",
       "        <td>930702-3582</td>\n",
       "        <td>Anna</td>\n",
       "        <td>Johansson</td>\n",
       "        <td>4.230769230769231</td>\n",
       "    </tr>\n",
       "    <tr>\n",
       "        <td>931208-3605</td>\n",
       "        <td>Ylva</td>\n",
       "        <td>Jacobsson</td>\n",
       "        <td>4.21875</td>\n",
       "    </tr>\n",
       "    <tr>\n",
       "        <td>950705-2308</td>\n",
       "        <td>Anna</td>\n",
       "        <td>Johansson</td>\n",
       "        <td>4.2</td>\n",
       "    </tr>\n",
       "    <tr>\n",
       "        <td>940801-2971</td>\n",
       "        <td>Mikael</td>\n",
       "        <td>Nilsson</td>\n",
       "        <td>4.173913043478261</td>\n",
       "    </tr>\n",
       "    <tr>\n",
       "        <td>920812-1857</td>\n",
       "        <td>Jakob</td>\n",
       "        <td>Malmberg</td>\n",
       "        <td>4.166666666666667</td>\n",
       "    </tr>\n",
       "    <tr>\n",
       "        <td>860819-2864</td>\n",
       "        <td>Maria</td>\n",
       "        <td>Andersson</td>\n",
       "        <td>4.157894736842105</td>\n",
       "    </tr>\n",
       "    <tr>\n",
       "        <td>901030-1895</td>\n",
       "        <td>Per-Erik</td>\n",
       "        <td>Pettersson</td>\n",
       "        <td>4.153846153846154</td>\n",
       "    </tr>\n",
       "</table>"
      ],
      "text/plain": [
       "[('861103-2438', 'Bo', 'Ek', 4.35),\n",
       " ('910308-1826', 'Helena', 'Troberg', 4.3076923076923075),\n",
       " ('931213-2824', 'Elaine', 'Robertson', 4.235294117647059),\n",
       " ('930702-3582', 'Anna', 'Johansson', 4.230769230769231),\n",
       " ('931208-3605', 'Ylva', 'Jacobsson', 4.21875),\n",
       " ('950705-2308', 'Anna', 'Johansson', 4.2),\n",
       " ('940801-2971', 'Mikael', 'Nilsson', 4.173913043478261),\n",
       " ('920812-1857', 'Jakob', 'Malmberg', 4.166666666666667),\n",
       " ('860819-2864', 'Maria', 'Andersson', 4.157894736842105),\n",
       " ('901030-1895', 'Per-Erik', 'Pettersson', 4.153846153846154)]"
      ]
     },
     "execution_count": 272,
     "metadata": {},
     "output_type": "execute_result"
    }
   ],
   "source": [
    "%%sql\n",
    "SELECT ssn, first_name, last_name, avg(grade) as avg_grade\n",
    "FROM students\n",
    "INNER JOIN taken_courses\n",
    "USING (ssn)\n",
    "GROUP BY ssn\n",
    "ORDER BY avg_grade DESC\n",
    "LIMIT 10"
   ]
  },
  {
   "cell_type": "markdown",
   "id": "6054c197",
   "metadata": {},
   "source": [
    "o) List the social security number and total number of\n",
    "   credits for all students. Students with no credits should\n",
    "   be included in the listing, with 0 credits (not `NULL`).\n",
    "\n",
    "   If you do this with an outer join (and I recommend you\n",
    "   try it!) you might want to use the function\n",
    "   `coalesce(v1, v2, ...)`; it returns the first value which\n",
    "   is not `NULL`, so `coalesce(avg(grade), 0)` would give 0\n",
    "   if the were no grades (i.e., if `grade` were `NULL`), you\n",
    "   can also try the `ifnull` function.\n",
    "\n",
    "   (It may be a little bit tricky to get this query right,\n",
    "   if you're missing the students with 0 credits, don't\n",
    "   worry, your TA will help you get it right). [72]"
   ]
  },
  {
   "cell_type": "code",
   "execution_count": 300,
   "id": "02b509b9",
   "metadata": {
    "attributes": {
     "classes": [
      "clear"
     ],
     "id": ""
    }
   },
   "outputs": [
    {
     "name": "stdout",
     "output_type": "stream",
     "text": [
      " * sqlite:///lab1.sqlite\n",
      "Done.\n"
     ]
    },
    {
     "data": {
      "text/html": [
       "<table>\n",
       "    <tr>\n",
       "        <th>ssn</th>\n",
       "        <th>credit_sum</th>\n",
       "    </tr>\n",
       "    <tr>\n",
       "        <td>951004-2346</td>\n",
       "        <td>350.0</td>\n",
       "    </tr>\n",
       "    <tr>\n",
       "        <td>880620-2564</td>\n",
       "        <td>348.5</td>\n",
       "    </tr>\n",
       "    <tr>\n",
       "        <td>910915-2068</td>\n",
       "        <td>338.0</td>\n",
       "    </tr>\n",
       "    <tr>\n",
       "        <td>920623-3258</td>\n",
       "        <td>334.0</td>\n",
       "    </tr>\n",
       "</table>"
      ],
      "text/plain": [
       "[('951004-2346', 350.0),\n",
       " ('880620-2564', 348.5),\n",
       " ('910915-2068', 338.0),\n",
       " ('920623-3258', 334.0)]"
      ]
     },
     "execution_count": 300,
     "metadata": {},
     "output_type": "execute_result"
    }
   ],
   "source": [
    "%%sql\n",
    "WITH potato as (\n",
    "  SELECT ssn, course_code\n",
    "  FROM students\n",
    "  LEFT JOIN taken_courses\n",
    "  USING (ssn)\n",
    ")\n",
    "SELECT ssn, coalesce(sum(credits), 0.0) AS credit_sum\n",
    "FROM potato\n",
    "LEFT JOIN courses\n",
    "USING (course_code)\n",
    "GROUP BY ssn\n",
    "ORDER BY credit_sum DESC\n",
    "LIMIT 4"
   ]
  },
  {
   "cell_type": "markdown",
   "id": "1668a1e1",
   "metadata": {},
   "source": [
    "p) Do all students have unique names (first name _and_ last\n",
    "   name)? If not, show the full name and social security\n",
    "   number for all students who have a namesake. [7]\n",
    "\n",
    "   As usual there are several ways of solving this, try to\n",
    "   solve it using a `WITH`-statement where you create a\n",
    "   table with all duplicate names, and then use it in a\n",
    "   `JOIN`:"
   ]
  },
  {
   "cell_type": "code",
   "execution_count": 341,
   "id": "fb3bd203",
   "metadata": {
    "attributes": {
     "classes": [
      "clear"
     ],
     "id": ""
    }
   },
   "outputs": [
    {
     "name": "stdout",
     "output_type": "stream",
     "text": [
      " * sqlite:///lab1.sqlite\n",
      "Done.\n"
     ]
    },
    {
     "data": {
      "text/html": [
       "<table>\n",
       "    <tr>\n",
       "        <th>ssn</th>\n",
       "        <th>first_name</th>\n",
       "        <th>last_name</th>\n",
       "    </tr>\n",
       "    <tr>\n",
       "        <td>950705-2308</td>\n",
       "        <td>Anna</td>\n",
       "        <td>Johansson</td>\n",
       "    </tr>\n",
       "    <tr>\n",
       "        <td>930702-3582</td>\n",
       "        <td>Anna</td>\n",
       "        <td>Johansson</td>\n",
       "    </tr>\n",
       "    <tr>\n",
       "        <td>861103-2438</td>\n",
       "        <td>Bo</td>\n",
       "        <td>Ek</td>\n",
       "    </tr>\n",
       "    <tr>\n",
       "        <td>931225-3158</td>\n",
       "        <td>Bo</td>\n",
       "        <td>Ek</td>\n",
       "    </tr>\n",
       "    <tr>\n",
       "        <td>850819-2139</td>\n",
       "        <td>Bo</td>\n",
       "        <td>Ek</td>\n",
       "    </tr>\n",
       "    <tr>\n",
       "        <td>891220-1393</td>\n",
       "        <td>Erik</td>\n",
       "        <td>Andersson</td>\n",
       "    </tr>\n",
       "    <tr>\n",
       "        <td>900313-2257</td>\n",
       "        <td>Erik</td>\n",
       "        <td>Andersson</td>\n",
       "    </tr>\n",
       "</table>"
      ],
      "text/plain": [
       "[('950705-2308', 'Anna', 'Johansson'),\n",
       " ('930702-3582', 'Anna', 'Johansson'),\n",
       " ('861103-2438', 'Bo', 'Ek'),\n",
       " ('931225-3158', 'Bo', 'Ek'),\n",
       " ('850819-2139', 'Bo', 'Ek'),\n",
       " ('891220-1393', 'Erik', 'Andersson'),\n",
       " ('900313-2257', 'Erik', 'Andersson')]"
      ]
     },
     "execution_count": 341,
     "metadata": {},
     "output_type": "execute_result"
    }
   ],
   "source": [
    "%%sql\n",
    "WITH potato as (\n",
    "  SELECT *\n",
    "  FROM students\n",
    "  GROUP BY first_name, last_name\n",
    "  HAVING count() = 1\n",
    ")\n",
    "SELECT *\n",
    "FROM students\n",
    "WHERE ssn NOT IN (SELECT ssn FROM potato)"
   ]
  },
  {
   "cell_type": "markdown",
   "id": "410ea095",
   "metadata": {},
   "source": [
    "q) _Optional:_ List all students who have a an average grade\n",
    "   higher than the average of all other students with the\n",
    "   same first name. Try to use weighted averages for the\n",
    "   invididual students, and compare to just the average of\n",
    "   averages for the namesakes (we could have weighted their\n",
    "   averages according to how many total credits they have,\n",
    "   but that would be a bit over the top). Here you can use\n",
    "   either a correlated subquery, or a CTE and a `JOIN`."
   ]
  },
  {
   "cell_type": "code",
   "execution_count": null,
   "id": "36586803",
   "metadata": {
    "attributes": {
     "classes": [
      "clear"
     ],
     "id": ""
    }
   },
   "outputs": [],
   "source": [
    "%%sql\n"
   ]
  }
 ],
 "metadata": {
  "kernelspec": {
   "display_name": "Python 3 (ipykernel)",
   "language": "python",
   "name": "python3"
  },
  "language_info": {
   "codemirror_mode": {
    "name": "ipython",
    "version": 3
   },
   "file_extension": ".py",
   "mimetype": "text/x-python",
   "name": "python",
   "nbconvert_exporter": "python",
   "pygments_lexer": "ipython3",
   "version": "3.10.2"
  }
 },
 "nbformat": 4,
 "nbformat_minor": 5
}
