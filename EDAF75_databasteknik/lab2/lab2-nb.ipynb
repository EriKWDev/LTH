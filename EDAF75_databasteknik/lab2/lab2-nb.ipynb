{
 "cells": [
  {
   "cell_type": "markdown",
   "id": "a8d1f407",
   "metadata": {},
   "source": [
    "<!-- -*- mode: markdown; coding: utf-8; fill-column: 60; ispell-dictionary: \"english\" -*- -->\n",
    "\n",
    "<meta charset=\"utf-8\"/>\n",
    "<meta name=\"viewport\" content=\"width=device-width,initial-scale=1\"/>\n",
    "<link rel=\"stylesheet\" href=\"style.css\">\n",
    "\n",
    "\n",
    "# EDAF75 - lab 2: Testing the database\n",
    "\n",
    "As usual we have to tell Jupyter to allow SQL:"
   ]
  },
  {
   "cell_type": "code",
   "execution_count": 2,
   "id": "b71cc93d",
   "metadata": {},
   "outputs": [
    {
     "name": "stdout",
     "output_type": "stream",
     "text": [
      "The sql extension is already loaded. To reload it, use:\n",
      "  %reload_ext sql\n"
     ]
    }
   ],
   "source": [
    "%load_ext sql"
   ]
  },
  {
   "cell_type": "markdown",
   "id": "45ed355b",
   "metadata": {},
   "source": [
    "And then we import our movie database"
   ]
  },
  {
   "cell_type": "code",
   "execution_count": 3,
   "id": "c786c4c4",
   "metadata": {},
   "outputs": [],
   "source": [
    "%sql sqlite:///movies.sqlite"
   ]
  },
  {
   "cell_type": "markdown",
   "id": "6506a2d8",
   "metadata": {},
   "source": [
    "We want to make sure that SQLite3 really checks our foreign\n",
    "key constraints -- to do that, we run:"
   ]
  },
  {
   "cell_type": "code",
   "execution_count": 4,
   "id": "32a14a19",
   "metadata": {},
   "outputs": [
    {
     "name": "stdout",
     "output_type": "stream",
     "text": [
      " * sqlite:///movies.sqlite\n",
      "Done.\n"
     ]
    },
    {
     "data": {
      "text/plain": [
       "[]"
      ]
     },
     "execution_count": 4,
     "metadata": {},
     "output_type": "execute_result"
    }
   ],
   "source": [
    "%%sql\n",
    "PRAGMA foreign_keys=ON;"
   ]
  },
  {
   "cell_type": "markdown",
   "id": "f9cce048",
   "metadata": {},
   "source": [
    "Now write SQL code for the following tasks:\n",
    "\n",
    "\n",
    "+ Show the names of all movies."
   ]
  },
  {
   "cell_type": "code",
   "execution_count": 12,
   "id": "5aa55fe6",
   "metadata": {},
   "outputs": [
    {
     "name": "stdout",
     "output_type": "stream",
     "text": [
      " * sqlite:///movies.sqlite\n",
      "Done.\n"
     ]
    },
    {
     "data": {
      "text/html": [
       "<table>\n",
       "    <tr>\n",
       "        <th>remaining</th>\n",
       "    </tr>\n",
       "    <tr>\n",
       "        <td>236</td>\n",
       "    </tr>\n",
       "</table>"
      ],
      "text/plain": [
       "[(236,)]"
      ]
     },
     "execution_count": 12,
     "metadata": {},
     "output_type": "execute_result"
    }
   ],
   "source": [
    "%%sql\n",
    "\n",
    "SELECT capacity - coalesce(count(ticket_id), 0) as remaining\n",
    "FROM screenings\n",
    "JOIN theaters USING (theater_id)\n",
    "JOIN tickets USING (screening_id)"
   ]
  },
  {
   "cell_type": "code",
   "execution_count": 4,
   "id": "d05dd15c",
   "metadata": {},
   "outputs": [
    {
     "name": "stdout",
     "output_type": "stream",
     "text": [
      " * sqlite:///movies.sqlite\n",
      "Done.\n"
     ]
    },
    {
     "data": {
      "text/html": [
       "<table>\n",
       "    <tr>\n",
       "        <th>title</th>\n",
       "    </tr>\n",
       "    <tr>\n",
       "        <td>Mr. Nobody</td>\n",
       "    </tr>\n",
       "    <tr>\n",
       "        <td>Forrest Gump</td>\n",
       "    </tr>\n",
       "    <tr>\n",
       "        <td>The Shawshank Redemption</td>\n",
       "    </tr>\n",
       "</table>"
      ],
      "text/plain": [
       "[('Mr. Nobody',), ('Forrest Gump',), ('The Shawshank Redemption',)]"
      ]
     },
     "execution_count": 4,
     "metadata": {},
     "output_type": "execute_result"
    }
   ],
   "source": [
    "%%sql\n",
    "\n",
    "SELECT title FROM movies"
   ]
  },
  {
   "cell_type": "markdown",
   "id": "421aefb3",
   "metadata": {},
   "source": [
    "+ Show the performance dates for one of the movies."
   ]
  },
  {
   "cell_type": "code",
   "execution_count": 23,
   "id": "afd1e726",
   "metadata": {},
   "outputs": [
    {
     "name": "stdout",
     "output_type": "stream",
     "text": [
      " * sqlite:///movies.sqlite\n",
      "Done.\n"
     ]
    },
    {
     "data": {
      "text/html": [
       "<table>\n",
       "    <tr>\n",
       "        <th>start_time</th>\n",
       "        <th>title</th>\n",
       "    </tr>\n",
       "    <tr>\n",
       "        <td>20220208 06:00:00 PM</td>\n",
       "        <td>Mr. Nobody</td>\n",
       "    </tr>\n",
       "</table>"
      ],
      "text/plain": [
       "[('20220208 06:00:00 PM', 'Mr. Nobody')]"
      ]
     },
     "execution_count": 23,
     "metadata": {},
     "output_type": "execute_result"
    }
   ],
   "source": [
    "%%sql\n",
    "SELECT start_time, title\n",
    "FROM screenings\n",
    "JOIN movies USING (imdb)\n",
    "LIMIT 1\n"
   ]
  },
  {
   "cell_type": "markdown",
   "id": "45851054",
   "metadata": {},
   "source": [
    "+ Show all data concerning performances at a given theatere\n",
    "  on a given date."
   ]
  },
  {
   "cell_type": "code",
   "execution_count": 23,
   "id": "fe971d3e",
   "metadata": {},
   "outputs": [
    {
     "name": "stdout",
     "output_type": "stream",
     "text": [
      " * sqlite:///movies.sqlite\n",
      "Done.\n"
     ]
    },
    {
     "data": {
      "text/html": [
       "<table>\n",
       "    <tr>\n",
       "        <th>remaining</th>\n",
       "    </tr>\n",
       "    <tr>\n",
       "        <td>236</td>\n",
       "    </tr>\n",
       "</table>"
      ],
      "text/plain": [
       "[(236,)]"
      ]
     },
     "execution_count": 23,
     "metadata": {},
     "output_type": "execute_result"
    }
   ],
   "source": [
    "%%sql\n",
    "SELECT capacity - coalesce(count(ticket_id), 0) AS remaining\n",
    "FROM theaters\n",
    "JOIN screenings USING (theater_id)\n",
    "JOIN tickets USING (screening_id)"
   ]
  },
  {
   "cell_type": "markdown",
   "id": "61aac720",
   "metadata": {},
   "source": [
    "+ List all customers"
   ]
  },
  {
   "cell_type": "code",
   "execution_count": 41,
   "id": "bfde90cb",
   "metadata": {},
   "outputs": [
    {
     "name": "stdout",
     "output_type": "stream",
     "text": [
      " * sqlite:///movies.sqlite\n",
      "Done.\n"
     ]
    },
    {
     "data": {
      "text/html": [
       "<table>\n",
       "    <tr>\n",
       "        <th>customer_id</th>\n",
       "        <th>name</th>\n",
       "        <th>username</th>\n",
       "        <th>password</th>\n",
       "    </tr>\n",
       "    <tr>\n",
       "        <td>fc1abb852916198b8f218f0e413b5f46</td>\n",
       "        <td>Elham</td>\n",
       "        <td>Elly</td>\n",
       "        <td>password</td>\n",
       "    </tr>\n",
       "    <tr>\n",
       "        <td>c136fdb998f3aa1fe752bdb9f2d303a1</td>\n",
       "        <td>Erik</td>\n",
       "        <td>CoolGuy69</td>\n",
       "        <td>password</td>\n",
       "    </tr>\n",
       "    <tr>\n",
       "        <td>064fb89f3b438645145d421d7a4dea36</td>\n",
       "        <td>Lars</td>\n",
       "        <td>Lassemannen</td>\n",
       "        <td>password</td>\n",
       "    </tr>\n",
       "</table>"
      ],
      "text/plain": [
       "[('fc1abb852916198b8f218f0e413b5f46', 'Elham', 'Elly', 'password'),\n",
       " ('c136fdb998f3aa1fe752bdb9f2d303a1', 'Erik', 'CoolGuy69', 'password'),\n",
       " ('064fb89f3b438645145d421d7a4dea36', 'Lars', 'Lassemannen', 'password')]"
      ]
     },
     "execution_count": 41,
     "metadata": {},
     "output_type": "execute_result"
    }
   ],
   "source": [
    "%%sql\n",
    "SELECT * FROM customers"
   ]
  },
  {
   "cell_type": "markdown",
   "id": "dd2efa74",
   "metadata": {},
   "source": [
    "+ List all tickets"
   ]
  },
  {
   "cell_type": "code",
   "execution_count": 42,
   "id": "9c707805",
   "metadata": {},
   "outputs": [
    {
     "name": "stdout",
     "output_type": "stream",
     "text": [
      " * sqlite:///movies.sqlite\n",
      "Done.\n"
     ]
    },
    {
     "data": {
      "text/html": [
       "<table>\n",
       "    <tr>\n",
       "        <th>ticket_id</th>\n",
       "        <th>screening_id</th>\n",
       "        <th>customer_id</th>\n",
       "    </tr>\n",
       "</table>"
      ],
      "text/plain": [
       "[]"
      ]
     },
     "execution_count": 42,
     "metadata": {},
     "output_type": "execute_result"
    }
   ],
   "source": [
    "%%sql\n",
    "SELECT * FROM tickets"
   ]
  },
  {
   "cell_type": "markdown",
   "id": "89f4fe26",
   "metadata": {},
   "source": [
    "+ Create a new ticket to some performance (i.e., insert a\n",
    "  new row in your table of tickets)."
   ]
  },
  {
   "cell_type": "code",
   "execution_count": 69,
   "id": "2748e87a",
   "metadata": {},
   "outputs": [
    {
     "name": "stdout",
     "output_type": "stream",
     "text": [
      " * sqlite:///movies.sqlite\n",
      "1 rows affected.\n"
     ]
    },
    {
     "data": {
      "text/plain": [
       "[]"
      ]
     },
     "execution_count": 69,
     "metadata": {},
     "output_type": "execute_result"
    }
   ],
   "source": [
    "%%sql\n",
    "\n",
    "INSERT INTO tickets (screening_id, customer_id)\n",
    "VALUES ((SELECT screening_id FROM screenings LIMIT 1), (SELECT customer_id FROM customers LIMIT 1));"
   ]
  },
  {
   "cell_type": "markdown",
   "id": "0af8759c",
   "metadata": {},
   "source": [
    "In newer versions of SQLite (since version 3.35, released\n",
    "  in March 2021), and in\n",
    "  [PostgreSQL](https://www.postgresql.org/docs/current/sql-insert.html),\n",
    "  we can get any value generated during an insert using the\n",
    "  `INSERT...-RETURNING` statement:"
   ]
  },
  {
   "cell_type": "markdown",
   "id": "ade1a6d4",
   "metadata": {},
   "source": [
    "~~~{.sql}\n",
    "INSERT\n",
    "INTO       students\n",
    "VALUES     ('Amy', 3.9, 1200)\n",
    "RETURNING  s_id\n",
    "~~~\n"
   ]
  },
  {
   "cell_type": "markdown",
   "id": "e9b30065",
   "metadata": {},
   "source": [
    "which would return the generated `s_id` for the new\n",
    "  student.\n",
    "\n",
    "  If your SQLite version is older than 3.35, and you can't\n",
    "  upgrade, you can instead use the following idea: each row\n",
    "  in a SQLite3 table has a `rowid` attribute, it is a unique\n",
    "  integer which essentially tells in which order the rows\n",
    "  were inserted, and it's not displayed in queries unless we\n",
    "  ask for it. SQLite3 also have a function,\n",
    "  `last_insert_rowid()`, which returns the `rowid` of the\n",
    "  last inserted row of a table, so we can see the `s_id` of\n",
    "  the most recently inserted student with the following\n",
    "  query:"
   ]
  },
  {
   "cell_type": "markdown",
   "id": "94771763",
   "metadata": {},
   "source": [
    "~~~{.sql}\n",
    "SELECT s_id\n",
    "FROM   students\n",
    "WHERE  rowid = last_insert_rowid();\n",
    "~~~\n"
   ]
  },
  {
   "cell_type": "markdown",
   "id": "628e76c9",
   "metadata": {},
   "source": [
    "Now, check what ticket number we got for the ticket we\n",
    "  created above (it should be the same as the ticket id,\n",
    "  which should be a `randomblob`):"
   ]
  },
  {
   "cell_type": "code",
   "execution_count": 70,
   "id": "80b90cea",
   "metadata": {},
   "outputs": [
    {
     "name": "stdout",
     "output_type": "stream",
     "text": [
      " * sqlite:///movies.sqlite\n",
      "Done.\n"
     ]
    },
    {
     "data": {
      "text/html": [
       "<table>\n",
       "    <tr>\n",
       "        <th>ticket_id</th>\n",
       "        <th>title</th>\n",
       "        <th>username</th>\n",
       "        <th>start_time</th>\n",
       "        <th>theater_name</th>\n",
       "    </tr>\n",
       "    <tr>\n",
       "        <td>603b7ab6c60f5514a7ac9eb819530feb</td>\n",
       "        <td>The Shawshank Redemption</td>\n",
       "        <td>Lassemannen</td>\n",
       "        <td>20220209 05:00:00 PM</td>\n",
       "        <td>Royal</td>\n",
       "    </tr>\n",
       "</table>"
      ],
      "text/plain": [
       "[('603b7ab6c60f5514a7ac9eb819530feb', 'The Shawshank Redemption', 'Lassemannen', '20220209 05:00:00 PM', 'Royal')]"
      ]
     },
     "execution_count": 70,
     "metadata": {},
     "output_type": "execute_result"
    }
   ],
   "source": [
    "%%sql\n",
    "SELECT ticket_id, title, username, start_time, theater_name FROM tickets\n",
    "JOIN customers USING (customer_id)\n",
    "JOIN screenings USING (screening_id)\n",
    "JOIN theaters USING (theater_id)\n",
    "JOIN movies USING (imdb)\n"
   ]
  },
  {
   "cell_type": "markdown",
   "id": "817650cf",
   "metadata": {},
   "source": [
    "+ Try to insert two movie theaters with the same name (this\n",
    "  should fail)."
   ]
  },
  {
   "cell_type": "code",
   "execution_count": 80,
   "id": "3746082b",
   "metadata": {},
   "outputs": [
    {
     "name": "stdout",
     "output_type": "stream",
     "text": [
      " * sqlite:///movies.sqlite\n"
     ]
    },
    {
     "ename": "IntegrityError",
     "evalue": "(sqlite3.IntegrityError) UNIQUE constraint failed: theaters.theater_name\n[SQL: INSERT INTO theaters (theater_name, capacity)\nVALUES\n  (\"Kino\", 30),\n  (\"Kino\", 123);]\n(Background on this error at: https://sqlalche.me/e/14/gkpj)",
     "output_type": "error",
     "traceback": [
      "\u001b[0;31m---------------------------------------------------------------------------\u001b[0m",
      "\u001b[0;31mIntegrityError\u001b[0m                            Traceback (most recent call last)",
      "File \u001b[0;32m~/.local/lib/python3.10/site-packages/sqlalchemy/engine/base.py:1802\u001b[0m, in \u001b[0;36mConnection._execute_context\u001b[0;34m(self, dialect, constructor, statement, parameters, execution_options, *args, **kw)\u001b[0m\n\u001b[1;32m   <a href='file:///~/.local/lib/python3.10/site-packages/sqlalchemy/engine/base.py?line=1800'>1801</a>\u001b[0m     \u001b[39mif\u001b[39;00m \u001b[39mnot\u001b[39;00m evt_handled:\n\u001b[0;32m-> <a href='file:///~/.local/lib/python3.10/site-packages/sqlalchemy/engine/base.py?line=1801'>1802</a>\u001b[0m         \u001b[39mself\u001b[39;49m\u001b[39m.\u001b[39;49mdialect\u001b[39m.\u001b[39;49mdo_execute(\n\u001b[1;32m   <a href='file:///~/.local/lib/python3.10/site-packages/sqlalchemy/engine/base.py?line=1802'>1803</a>\u001b[0m             cursor, statement, parameters, context\n\u001b[1;32m   <a href='file:///~/.local/lib/python3.10/site-packages/sqlalchemy/engine/base.py?line=1803'>1804</a>\u001b[0m         )\n\u001b[1;32m   <a href='file:///~/.local/lib/python3.10/site-packages/sqlalchemy/engine/base.py?line=1805'>1806</a>\u001b[0m \u001b[39mif\u001b[39;00m \u001b[39mself\u001b[39m\u001b[39m.\u001b[39m_has_events \u001b[39mor\u001b[39;00m \u001b[39mself\u001b[39m\u001b[39m.\u001b[39mengine\u001b[39m.\u001b[39m_has_events:\n",
      "File \u001b[0;32m~/.local/lib/python3.10/site-packages/sqlalchemy/engine/default.py:732\u001b[0m, in \u001b[0;36mDefaultDialect.do_execute\u001b[0;34m(self, cursor, statement, parameters, context)\u001b[0m\n\u001b[1;32m    <a href='file:///~/.local/lib/python3.10/site-packages/sqlalchemy/engine/default.py?line=730'>731</a>\u001b[0m \u001b[39mdef\u001b[39;00m \u001b[39mdo_execute\u001b[39m(\u001b[39mself\u001b[39m, cursor, statement, parameters, context\u001b[39m=\u001b[39m\u001b[39mNone\u001b[39;00m):\n\u001b[0;32m--> <a href='file:///~/.local/lib/python3.10/site-packages/sqlalchemy/engine/default.py?line=731'>732</a>\u001b[0m     cursor\u001b[39m.\u001b[39;49mexecute(statement, parameters)\n",
      "\u001b[0;31mIntegrityError\u001b[0m: UNIQUE constraint failed: theaters.theater_name",
      "\nThe above exception was the direct cause of the following exception:\n",
      "\u001b[0;31mIntegrityError\u001b[0m                            Traceback (most recent call last)",
      "\u001b[1;32m/home/erik/Downloads/lab2/lab2-nb.ipynb Cell 26'\u001b[0m in \u001b[0;36m<module>\u001b[0;34m\u001b[0m\n\u001b[0;32m----> <a href='vscode-notebook-cell:/home/erik/Downloads/lab2/lab2-nb.ipynb#ch0000025?line=0'>1</a>\u001b[0m get_ipython()\u001b[39m.\u001b[39;49mrun_cell_magic(\u001b[39m'\u001b[39;49m\u001b[39msql\u001b[39;49m\u001b[39m'\u001b[39;49m, \u001b[39m'\u001b[39;49m\u001b[39m'\u001b[39;49m, \u001b[39m'\u001b[39;49m\u001b[39mINSERT INTO theaters (theater_name, capacity)\u001b[39;49m\u001b[39m\\n\u001b[39;49;00m\u001b[39mVALUES\u001b[39;49m\u001b[39m\\n\u001b[39;49;00m\u001b[39m  (\u001b[39;49m\u001b[39m\"\u001b[39;49m\u001b[39mKino\u001b[39;49m\u001b[39m\"\u001b[39;49m\u001b[39m, 30),\u001b[39;49m\u001b[39m\\n\u001b[39;49;00m\u001b[39m  (\u001b[39;49m\u001b[39m\"\u001b[39;49m\u001b[39mKino\u001b[39;49m\u001b[39m\"\u001b[39;49m\u001b[39m, 123);\u001b[39;49m\u001b[39m\\n\u001b[39;49;00m\u001b[39m'\u001b[39;49m)\n",
      "File \u001b[0;32m~/.local/lib/python3.10/site-packages/IPython/core/interactiveshell.py:2257\u001b[0m, in \u001b[0;36mInteractiveShell.run_cell_magic\u001b[0;34m(self, magic_name, line, cell)\u001b[0m\n\u001b[1;32m   <a href='file:///~/.local/lib/python3.10/site-packages/IPython/core/interactiveshell.py?line=2254'>2255</a>\u001b[0m \u001b[39mwith\u001b[39;00m \u001b[39mself\u001b[39m\u001b[39m.\u001b[39mbuiltin_trap:\n\u001b[1;32m   <a href='file:///~/.local/lib/python3.10/site-packages/IPython/core/interactiveshell.py?line=2255'>2256</a>\u001b[0m     args \u001b[39m=\u001b[39m (magic_arg_s, cell)\n\u001b[0;32m-> <a href='file:///~/.local/lib/python3.10/site-packages/IPython/core/interactiveshell.py?line=2256'>2257</a>\u001b[0m     result \u001b[39m=\u001b[39m fn(\u001b[39m*\u001b[39;49margs, \u001b[39m*\u001b[39;49m\u001b[39m*\u001b[39;49mkwargs)\n\u001b[1;32m   <a href='file:///~/.local/lib/python3.10/site-packages/IPython/core/interactiveshell.py?line=2257'>2258</a>\u001b[0m \u001b[39mreturn\u001b[39;00m result\n",
      "File \u001b[0;32m~/.local/lib/python3.10/site-packages/sql/magic.py:217\u001b[0m, in \u001b[0;36mSqlMagic.execute\u001b[0;34m(self, line, cell, local_ns)\u001b[0m\n\u001b[1;32m    <a href='file:///~/.local/lib/python3.10/site-packages/sql/magic.py?line=213'>214</a>\u001b[0m     \u001b[39mreturn\u001b[39;00m\n\u001b[1;32m    <a href='file:///~/.local/lib/python3.10/site-packages/sql/magic.py?line=215'>216</a>\u001b[0m \u001b[39mtry\u001b[39;00m:\n\u001b[0;32m--> <a href='file:///~/.local/lib/python3.10/site-packages/sql/magic.py?line=216'>217</a>\u001b[0m     result \u001b[39m=\u001b[39m sql\u001b[39m.\u001b[39;49mrun\u001b[39m.\u001b[39;49mrun(conn, parsed[\u001b[39m\"\u001b[39;49m\u001b[39msql\u001b[39;49m\u001b[39m\"\u001b[39;49m], \u001b[39mself\u001b[39;49m, user_ns)\n\u001b[1;32m    <a href='file:///~/.local/lib/python3.10/site-packages/sql/magic.py?line=218'>219</a>\u001b[0m     \u001b[39mif\u001b[39;00m (\n\u001b[1;32m    <a href='file:///~/.local/lib/python3.10/site-packages/sql/magic.py?line=219'>220</a>\u001b[0m         result \u001b[39mis\u001b[39;00m \u001b[39mnot\u001b[39;00m \u001b[39mNone\u001b[39;00m\n\u001b[1;32m    <a href='file:///~/.local/lib/python3.10/site-packages/sql/magic.py?line=220'>221</a>\u001b[0m         \u001b[39mand\u001b[39;00m \u001b[39mnot\u001b[39;00m \u001b[39misinstance\u001b[39m(result, \u001b[39mstr\u001b[39m)\n\u001b[0;32m   (...)\u001b[0m\n\u001b[1;32m    <a href='file:///~/.local/lib/python3.10/site-packages/sql/magic.py?line=223'>224</a>\u001b[0m         \u001b[39m# Instead of returning values, set variables directly in the\u001b[39;00m\n\u001b[1;32m    <a href='file:///~/.local/lib/python3.10/site-packages/sql/magic.py?line=224'>225</a>\u001b[0m         \u001b[39m# users namespace. Variable names given by column names\u001b[39;00m\n\u001b[1;32m    <a href='file:///~/.local/lib/python3.10/site-packages/sql/magic.py?line=226'>227</a>\u001b[0m         \u001b[39mif\u001b[39;00m \u001b[39mself\u001b[39m\u001b[39m.\u001b[39mautopandas:\n",
      "File \u001b[0;32m~/.local/lib/python3.10/site-packages/sql/run.py:367\u001b[0m, in \u001b[0;36mrun\u001b[0;34m(conn, sql, config, user_namespace)\u001b[0m\n\u001b[1;32m    <a href='file:///~/.local/lib/python3.10/site-packages/sql/run.py?line=364'>365</a>\u001b[0m \u001b[39melse\u001b[39;00m:\n\u001b[1;32m    <a href='file:///~/.local/lib/python3.10/site-packages/sql/run.py?line=365'>366</a>\u001b[0m     txt \u001b[39m=\u001b[39m sqlalchemy\u001b[39m.\u001b[39msql\u001b[39m.\u001b[39mtext(statement)\n\u001b[0;32m--> <a href='file:///~/.local/lib/python3.10/site-packages/sql/run.py?line=366'>367</a>\u001b[0m     result \u001b[39m=\u001b[39m conn\u001b[39m.\u001b[39;49msession\u001b[39m.\u001b[39;49mexecute(txt, user_namespace)\n\u001b[1;32m    <a href='file:///~/.local/lib/python3.10/site-packages/sql/run.py?line=367'>368</a>\u001b[0m _commit(conn\u001b[39m=\u001b[39mconn, config\u001b[39m=\u001b[39mconfig)\n\u001b[1;32m    <a href='file:///~/.local/lib/python3.10/site-packages/sql/run.py?line=368'>369</a>\u001b[0m \u001b[39mif\u001b[39;00m result \u001b[39mand\u001b[39;00m config\u001b[39m.\u001b[39mfeedback:\n",
      "File \u001b[0;32m~/.local/lib/python3.10/site-packages/sqlalchemy/engine/base.py:1289\u001b[0m, in \u001b[0;36mConnection.execute\u001b[0;34m(self, statement, *multiparams, **params)\u001b[0m\n\u001b[1;32m   <a href='file:///~/.local/lib/python3.10/site-packages/sqlalchemy/engine/base.py?line=1284'>1285</a>\u001b[0m     util\u001b[39m.\u001b[39mraise_(\n\u001b[1;32m   <a href='file:///~/.local/lib/python3.10/site-packages/sqlalchemy/engine/base.py?line=1285'>1286</a>\u001b[0m         exc\u001b[39m.\u001b[39mObjectNotExecutableError(statement), replace_context\u001b[39m=\u001b[39merr\n\u001b[1;32m   <a href='file:///~/.local/lib/python3.10/site-packages/sqlalchemy/engine/base.py?line=1286'>1287</a>\u001b[0m     )\n\u001b[1;32m   <a href='file:///~/.local/lib/python3.10/site-packages/sqlalchemy/engine/base.py?line=1287'>1288</a>\u001b[0m \u001b[39melse\u001b[39;00m:\n\u001b[0;32m-> <a href='file:///~/.local/lib/python3.10/site-packages/sqlalchemy/engine/base.py?line=1288'>1289</a>\u001b[0m     \u001b[39mreturn\u001b[39;00m meth(\u001b[39mself\u001b[39;49m, multiparams, params, _EMPTY_EXECUTION_OPTS)\n",
      "File \u001b[0;32m~/.local/lib/python3.10/site-packages/sqlalchemy/sql/elements.py:325\u001b[0m, in \u001b[0;36mClauseElement._execute_on_connection\u001b[0;34m(self, connection, multiparams, params, execution_options, _force)\u001b[0m\n\u001b[1;32m    <a href='file:///~/.local/lib/python3.10/site-packages/sqlalchemy/sql/elements.py?line=320'>321</a>\u001b[0m \u001b[39mdef\u001b[39;00m \u001b[39m_execute_on_connection\u001b[39m(\n\u001b[1;32m    <a href='file:///~/.local/lib/python3.10/site-packages/sqlalchemy/sql/elements.py?line=321'>322</a>\u001b[0m     \u001b[39mself\u001b[39m, connection, multiparams, params, execution_options, _force\u001b[39m=\u001b[39m\u001b[39mFalse\u001b[39;00m\n\u001b[1;32m    <a href='file:///~/.local/lib/python3.10/site-packages/sqlalchemy/sql/elements.py?line=322'>323</a>\u001b[0m ):\n\u001b[1;32m    <a href='file:///~/.local/lib/python3.10/site-packages/sqlalchemy/sql/elements.py?line=323'>324</a>\u001b[0m     \u001b[39mif\u001b[39;00m _force \u001b[39mor\u001b[39;00m \u001b[39mself\u001b[39m\u001b[39m.\u001b[39msupports_execution:\n\u001b[0;32m--> <a href='file:///~/.local/lib/python3.10/site-packages/sqlalchemy/sql/elements.py?line=324'>325</a>\u001b[0m         \u001b[39mreturn\u001b[39;00m connection\u001b[39m.\u001b[39;49m_execute_clauseelement(\n\u001b[1;32m    <a href='file:///~/.local/lib/python3.10/site-packages/sqlalchemy/sql/elements.py?line=325'>326</a>\u001b[0m             \u001b[39mself\u001b[39;49m, multiparams, params, execution_options\n\u001b[1;32m    <a href='file:///~/.local/lib/python3.10/site-packages/sqlalchemy/sql/elements.py?line=326'>327</a>\u001b[0m         )\n\u001b[1;32m    <a href='file:///~/.local/lib/python3.10/site-packages/sqlalchemy/sql/elements.py?line=327'>328</a>\u001b[0m     \u001b[39melse\u001b[39;00m:\n\u001b[1;32m    <a href='file:///~/.local/lib/python3.10/site-packages/sqlalchemy/sql/elements.py?line=328'>329</a>\u001b[0m         \u001b[39mraise\u001b[39;00m exc\u001b[39m.\u001b[39mObjectNotExecutableError(\u001b[39mself\u001b[39m)\n",
      "File \u001b[0;32m~/.local/lib/python3.10/site-packages/sqlalchemy/engine/base.py:1481\u001b[0m, in \u001b[0;36mConnection._execute_clauseelement\u001b[0;34m(self, elem, multiparams, params, execution_options)\u001b[0m\n\u001b[1;32m   <a href='file:///~/.local/lib/python3.10/site-packages/sqlalchemy/engine/base.py?line=1468'>1469</a>\u001b[0m compiled_cache \u001b[39m=\u001b[39m execution_options\u001b[39m.\u001b[39mget(\n\u001b[1;32m   <a href='file:///~/.local/lib/python3.10/site-packages/sqlalchemy/engine/base.py?line=1469'>1470</a>\u001b[0m     \u001b[39m\"\u001b[39m\u001b[39mcompiled_cache\u001b[39m\u001b[39m\"\u001b[39m, \u001b[39mself\u001b[39m\u001b[39m.\u001b[39mengine\u001b[39m.\u001b[39m_compiled_cache\n\u001b[1;32m   <a href='file:///~/.local/lib/python3.10/site-packages/sqlalchemy/engine/base.py?line=1470'>1471</a>\u001b[0m )\n\u001b[1;32m   <a href='file:///~/.local/lib/python3.10/site-packages/sqlalchemy/engine/base.py?line=1472'>1473</a>\u001b[0m compiled_sql, extracted_params, cache_hit \u001b[39m=\u001b[39m elem\u001b[39m.\u001b[39m_compile_w_cache(\n\u001b[1;32m   <a href='file:///~/.local/lib/python3.10/site-packages/sqlalchemy/engine/base.py?line=1473'>1474</a>\u001b[0m     dialect\u001b[39m=\u001b[39mdialect,\n\u001b[1;32m   <a href='file:///~/.local/lib/python3.10/site-packages/sqlalchemy/engine/base.py?line=1474'>1475</a>\u001b[0m     compiled_cache\u001b[39m=\u001b[39mcompiled_cache,\n\u001b[0;32m   (...)\u001b[0m\n\u001b[1;32m   <a href='file:///~/.local/lib/python3.10/site-packages/sqlalchemy/engine/base.py?line=1478'>1479</a>\u001b[0m     linting\u001b[39m=\u001b[39m\u001b[39mself\u001b[39m\u001b[39m.\u001b[39mdialect\u001b[39m.\u001b[39mcompiler_linting \u001b[39m|\u001b[39m compiler\u001b[39m.\u001b[39mWARN_LINTING,\n\u001b[1;32m   <a href='file:///~/.local/lib/python3.10/site-packages/sqlalchemy/engine/base.py?line=1479'>1480</a>\u001b[0m )\n\u001b[0;32m-> <a href='file:///~/.local/lib/python3.10/site-packages/sqlalchemy/engine/base.py?line=1480'>1481</a>\u001b[0m ret \u001b[39m=\u001b[39m \u001b[39mself\u001b[39;49m\u001b[39m.\u001b[39;49m_execute_context(\n\u001b[1;32m   <a href='file:///~/.local/lib/python3.10/site-packages/sqlalchemy/engine/base.py?line=1481'>1482</a>\u001b[0m     dialect,\n\u001b[1;32m   <a href='file:///~/.local/lib/python3.10/site-packages/sqlalchemy/engine/base.py?line=1482'>1483</a>\u001b[0m     dialect\u001b[39m.\u001b[39;49mexecution_ctx_cls\u001b[39m.\u001b[39;49m_init_compiled,\n\u001b[1;32m   <a href='file:///~/.local/lib/python3.10/site-packages/sqlalchemy/engine/base.py?line=1483'>1484</a>\u001b[0m     compiled_sql,\n\u001b[1;32m   <a href='file:///~/.local/lib/python3.10/site-packages/sqlalchemy/engine/base.py?line=1484'>1485</a>\u001b[0m     distilled_params,\n\u001b[1;32m   <a href='file:///~/.local/lib/python3.10/site-packages/sqlalchemy/engine/base.py?line=1485'>1486</a>\u001b[0m     execution_options,\n\u001b[1;32m   <a href='file:///~/.local/lib/python3.10/site-packages/sqlalchemy/engine/base.py?line=1486'>1487</a>\u001b[0m     compiled_sql,\n\u001b[1;32m   <a href='file:///~/.local/lib/python3.10/site-packages/sqlalchemy/engine/base.py?line=1487'>1488</a>\u001b[0m     distilled_params,\n\u001b[1;32m   <a href='file:///~/.local/lib/python3.10/site-packages/sqlalchemy/engine/base.py?line=1488'>1489</a>\u001b[0m     elem,\n\u001b[1;32m   <a href='file:///~/.local/lib/python3.10/site-packages/sqlalchemy/engine/base.py?line=1489'>1490</a>\u001b[0m     extracted_params,\n\u001b[1;32m   <a href='file:///~/.local/lib/python3.10/site-packages/sqlalchemy/engine/base.py?line=1490'>1491</a>\u001b[0m     cache_hit\u001b[39m=\u001b[39;49mcache_hit,\n\u001b[1;32m   <a href='file:///~/.local/lib/python3.10/site-packages/sqlalchemy/engine/base.py?line=1491'>1492</a>\u001b[0m )\n\u001b[1;32m   <a href='file:///~/.local/lib/python3.10/site-packages/sqlalchemy/engine/base.py?line=1492'>1493</a>\u001b[0m \u001b[39mif\u001b[39;00m has_events:\n\u001b[1;32m   <a href='file:///~/.local/lib/python3.10/site-packages/sqlalchemy/engine/base.py?line=1493'>1494</a>\u001b[0m     \u001b[39mself\u001b[39m\u001b[39m.\u001b[39mdispatch\u001b[39m.\u001b[39mafter_execute(\n\u001b[1;32m   <a href='file:///~/.local/lib/python3.10/site-packages/sqlalchemy/engine/base.py?line=1494'>1495</a>\u001b[0m         \u001b[39mself\u001b[39m,\n\u001b[1;32m   <a href='file:///~/.local/lib/python3.10/site-packages/sqlalchemy/engine/base.py?line=1495'>1496</a>\u001b[0m         elem,\n\u001b[0;32m   (...)\u001b[0m\n\u001b[1;32m   <a href='file:///~/.local/lib/python3.10/site-packages/sqlalchemy/engine/base.py?line=1499'>1500</a>\u001b[0m         ret,\n\u001b[1;32m   <a href='file:///~/.local/lib/python3.10/site-packages/sqlalchemy/engine/base.py?line=1500'>1501</a>\u001b[0m     )\n",
      "File \u001b[0;32m~/.local/lib/python3.10/site-packages/sqlalchemy/engine/base.py:1845\u001b[0m, in \u001b[0;36mConnection._execute_context\u001b[0;34m(self, dialect, constructor, statement, parameters, execution_options, *args, **kw)\u001b[0m\n\u001b[1;32m   <a href='file:///~/.local/lib/python3.10/site-packages/sqlalchemy/engine/base.py?line=1841'>1842</a>\u001b[0m             branched\u001b[39m.\u001b[39mclose()\n\u001b[1;32m   <a href='file:///~/.local/lib/python3.10/site-packages/sqlalchemy/engine/base.py?line=1843'>1844</a>\u001b[0m \u001b[39mexcept\u001b[39;00m \u001b[39mBaseException\u001b[39;00m \u001b[39mas\u001b[39;00m e:\n\u001b[0;32m-> <a href='file:///~/.local/lib/python3.10/site-packages/sqlalchemy/engine/base.py?line=1844'>1845</a>\u001b[0m     \u001b[39mself\u001b[39;49m\u001b[39m.\u001b[39;49m_handle_dbapi_exception(\n\u001b[1;32m   <a href='file:///~/.local/lib/python3.10/site-packages/sqlalchemy/engine/base.py?line=1845'>1846</a>\u001b[0m         e, statement, parameters, cursor, context\n\u001b[1;32m   <a href='file:///~/.local/lib/python3.10/site-packages/sqlalchemy/engine/base.py?line=1846'>1847</a>\u001b[0m     )\n\u001b[1;32m   <a href='file:///~/.local/lib/python3.10/site-packages/sqlalchemy/engine/base.py?line=1848'>1849</a>\u001b[0m \u001b[39mreturn\u001b[39;00m result\n",
      "File \u001b[0;32m~/.local/lib/python3.10/site-packages/sqlalchemy/engine/base.py:2026\u001b[0m, in \u001b[0;36mConnection._handle_dbapi_exception\u001b[0;34m(self, e, statement, parameters, cursor, context)\u001b[0m\n\u001b[1;32m   <a href='file:///~/.local/lib/python3.10/site-packages/sqlalchemy/engine/base.py?line=2023'>2024</a>\u001b[0m     util\u001b[39m.\u001b[39mraise_(newraise, with_traceback\u001b[39m=\u001b[39mexc_info[\u001b[39m2\u001b[39m], from_\u001b[39m=\u001b[39me)\n\u001b[1;32m   <a href='file:///~/.local/lib/python3.10/site-packages/sqlalchemy/engine/base.py?line=2024'>2025</a>\u001b[0m \u001b[39melif\u001b[39;00m should_wrap:\n\u001b[0;32m-> <a href='file:///~/.local/lib/python3.10/site-packages/sqlalchemy/engine/base.py?line=2025'>2026</a>\u001b[0m     util\u001b[39m.\u001b[39;49mraise_(\n\u001b[1;32m   <a href='file:///~/.local/lib/python3.10/site-packages/sqlalchemy/engine/base.py?line=2026'>2027</a>\u001b[0m         sqlalchemy_exception, with_traceback\u001b[39m=\u001b[39;49mexc_info[\u001b[39m2\u001b[39;49m], from_\u001b[39m=\u001b[39;49me\n\u001b[1;32m   <a href='file:///~/.local/lib/python3.10/site-packages/sqlalchemy/engine/base.py?line=2027'>2028</a>\u001b[0m     )\n\u001b[1;32m   <a href='file:///~/.local/lib/python3.10/site-packages/sqlalchemy/engine/base.py?line=2028'>2029</a>\u001b[0m \u001b[39melse\u001b[39;00m:\n\u001b[1;32m   <a href='file:///~/.local/lib/python3.10/site-packages/sqlalchemy/engine/base.py?line=2029'>2030</a>\u001b[0m     util\u001b[39m.\u001b[39mraise_(exc_info[\u001b[39m1\u001b[39m], with_traceback\u001b[39m=\u001b[39mexc_info[\u001b[39m2\u001b[39m])\n",
      "File \u001b[0;32m~/.local/lib/python3.10/site-packages/sqlalchemy/util/compat.py:207\u001b[0m, in \u001b[0;36mraise_\u001b[0;34m(***failed resolving arguments***)\u001b[0m\n\u001b[1;32m    <a href='file:///~/.local/lib/python3.10/site-packages/sqlalchemy/util/compat.py?line=203'>204</a>\u001b[0m     exception\u001b[39m.\u001b[39m__cause__ \u001b[39m=\u001b[39m replace_context\n\u001b[1;32m    <a href='file:///~/.local/lib/python3.10/site-packages/sqlalchemy/util/compat.py?line=205'>206</a>\u001b[0m \u001b[39mtry\u001b[39;00m:\n\u001b[0;32m--> <a href='file:///~/.local/lib/python3.10/site-packages/sqlalchemy/util/compat.py?line=206'>207</a>\u001b[0m     \u001b[39mraise\u001b[39;00m exception\n\u001b[1;32m    <a href='file:///~/.local/lib/python3.10/site-packages/sqlalchemy/util/compat.py?line=207'>208</a>\u001b[0m \u001b[39mfinally\u001b[39;00m:\n\u001b[1;32m    <a href='file:///~/.local/lib/python3.10/site-packages/sqlalchemy/util/compat.py?line=208'>209</a>\u001b[0m     \u001b[39m# credit to\u001b[39;00m\n\u001b[1;32m    <a href='file:///~/.local/lib/python3.10/site-packages/sqlalchemy/util/compat.py?line=209'>210</a>\u001b[0m     \u001b[39m# https://cosmicpercolator.com/2016/01/13/exception-leaks-in-python-2-and-3/\u001b[39;00m\n\u001b[1;32m    <a href='file:///~/.local/lib/python3.10/site-packages/sqlalchemy/util/compat.py?line=210'>211</a>\u001b[0m     \u001b[39m# as the __traceback__ object creates a cycle\u001b[39;00m\n\u001b[1;32m    <a href='file:///~/.local/lib/python3.10/site-packages/sqlalchemy/util/compat.py?line=211'>212</a>\u001b[0m     \u001b[39mdel\u001b[39;00m exception, replace_context, from_, with_traceback\n",
      "File \u001b[0;32m~/.local/lib/python3.10/site-packages/sqlalchemy/engine/base.py:1802\u001b[0m, in \u001b[0;36mConnection._execute_context\u001b[0;34m(self, dialect, constructor, statement, parameters, execution_options, *args, **kw)\u001b[0m\n\u001b[1;32m   <a href='file:///~/.local/lib/python3.10/site-packages/sqlalchemy/engine/base.py?line=1799'>1800</a>\u001b[0m                 \u001b[39mbreak\u001b[39;00m\n\u001b[1;32m   <a href='file:///~/.local/lib/python3.10/site-packages/sqlalchemy/engine/base.py?line=1800'>1801</a>\u001b[0m     \u001b[39mif\u001b[39;00m \u001b[39mnot\u001b[39;00m evt_handled:\n\u001b[0;32m-> <a href='file:///~/.local/lib/python3.10/site-packages/sqlalchemy/engine/base.py?line=1801'>1802</a>\u001b[0m         \u001b[39mself\u001b[39;49m\u001b[39m.\u001b[39;49mdialect\u001b[39m.\u001b[39;49mdo_execute(\n\u001b[1;32m   <a href='file:///~/.local/lib/python3.10/site-packages/sqlalchemy/engine/base.py?line=1802'>1803</a>\u001b[0m             cursor, statement, parameters, context\n\u001b[1;32m   <a href='file:///~/.local/lib/python3.10/site-packages/sqlalchemy/engine/base.py?line=1803'>1804</a>\u001b[0m         )\n\u001b[1;32m   <a href='file:///~/.local/lib/python3.10/site-packages/sqlalchemy/engine/base.py?line=1805'>1806</a>\u001b[0m \u001b[39mif\u001b[39;00m \u001b[39mself\u001b[39m\u001b[39m.\u001b[39m_has_events \u001b[39mor\u001b[39;00m \u001b[39mself\u001b[39m\u001b[39m.\u001b[39mengine\u001b[39m.\u001b[39m_has_events:\n\u001b[1;32m   <a href='file:///~/.local/lib/python3.10/site-packages/sqlalchemy/engine/base.py?line=1806'>1807</a>\u001b[0m     \u001b[39mself\u001b[39m\u001b[39m.\u001b[39mdispatch\u001b[39m.\u001b[39mafter_cursor_execute(\n\u001b[1;32m   <a href='file:///~/.local/lib/python3.10/site-packages/sqlalchemy/engine/base.py?line=1807'>1808</a>\u001b[0m         \u001b[39mself\u001b[39m,\n\u001b[1;32m   <a href='file:///~/.local/lib/python3.10/site-packages/sqlalchemy/engine/base.py?line=1808'>1809</a>\u001b[0m         cursor,\n\u001b[0;32m   (...)\u001b[0m\n\u001b[1;32m   <a href='file:///~/.local/lib/python3.10/site-packages/sqlalchemy/engine/base.py?line=1812'>1813</a>\u001b[0m         context\u001b[39m.\u001b[39mexecutemany,\n\u001b[1;32m   <a href='file:///~/.local/lib/python3.10/site-packages/sqlalchemy/engine/base.py?line=1813'>1814</a>\u001b[0m     )\n",
      "File \u001b[0;32m~/.local/lib/python3.10/site-packages/sqlalchemy/engine/default.py:732\u001b[0m, in \u001b[0;36mDefaultDialect.do_execute\u001b[0;34m(self, cursor, statement, parameters, context)\u001b[0m\n\u001b[1;32m    <a href='file:///~/.local/lib/python3.10/site-packages/sqlalchemy/engine/default.py?line=730'>731</a>\u001b[0m \u001b[39mdef\u001b[39;00m \u001b[39mdo_execute\u001b[39m(\u001b[39mself\u001b[39m, cursor, statement, parameters, context\u001b[39m=\u001b[39m\u001b[39mNone\u001b[39;00m):\n\u001b[0;32m--> <a href='file:///~/.local/lib/python3.10/site-packages/sqlalchemy/engine/default.py?line=731'>732</a>\u001b[0m     cursor\u001b[39m.\u001b[39;49mexecute(statement, parameters)\n",
      "\u001b[0;31mIntegrityError\u001b[0m: (sqlite3.IntegrityError) UNIQUE constraint failed: theaters.theater_name\n[SQL: INSERT INTO theaters (theater_name, capacity)\nVALUES\n  (\"Kino\", 30),\n  (\"Kino\", 123);]\n(Background on this error at: https://sqlalche.me/e/14/gkpj)"
     ]
    }
   ],
   "source": [
    "%%sql\n",
    "INSERT INTO theaters (theater_name, capacity)\n",
    "VALUES\n",
    "  (\"Kino\", 30),\n",
    "  (\"Kino\", 123);"
   ]
  },
  {
   "cell_type": "markdown",
   "id": "dba43147",
   "metadata": {},
   "source": [
    "+ Try to insert a performance where the theater doesn’t\n",
    "  exist in the database (this should fail)."
   ]
  },
  {
   "cell_type": "code",
   "execution_count": 84,
   "id": "85db94c1",
   "metadata": {},
   "outputs": [
    {
     "name": "stdout",
     "output_type": "stream",
     "text": [
      " * sqlite:///movies.sqlite\n"
     ]
    },
    {
     "ename": "IntegrityError",
     "evalue": "(sqlite3.IntegrityError) FOREIGN KEY constraint failed\n[SQL: INSERT INTO screenings (start_time, imdb, theater_id)\nVALUES\n  (\"20220210 08:00 PM\", \"tt0485947\", \"potato\");]\n(Background on this error at: https://sqlalche.me/e/14/gkpj)",
     "output_type": "error",
     "traceback": [
      "\u001b[0;31m---------------------------------------------------------------------------\u001b[0m",
      "\u001b[0;31mIntegrityError\u001b[0m                            Traceback (most recent call last)",
      "File \u001b[0;32m~/.local/lib/python3.10/site-packages/sqlalchemy/engine/base.py:1802\u001b[0m, in \u001b[0;36mConnection._execute_context\u001b[0;34m(self, dialect, constructor, statement, parameters, execution_options, *args, **kw)\u001b[0m\n\u001b[1;32m   <a href='file:///~/.local/lib/python3.10/site-packages/sqlalchemy/engine/base.py?line=1800'>1801</a>\u001b[0m     \u001b[39mif\u001b[39;00m \u001b[39mnot\u001b[39;00m evt_handled:\n\u001b[0;32m-> <a href='file:///~/.local/lib/python3.10/site-packages/sqlalchemy/engine/base.py?line=1801'>1802</a>\u001b[0m         \u001b[39mself\u001b[39;49m\u001b[39m.\u001b[39;49mdialect\u001b[39m.\u001b[39;49mdo_execute(\n\u001b[1;32m   <a href='file:///~/.local/lib/python3.10/site-packages/sqlalchemy/engine/base.py?line=1802'>1803</a>\u001b[0m             cursor, statement, parameters, context\n\u001b[1;32m   <a href='file:///~/.local/lib/python3.10/site-packages/sqlalchemy/engine/base.py?line=1803'>1804</a>\u001b[0m         )\n\u001b[1;32m   <a href='file:///~/.local/lib/python3.10/site-packages/sqlalchemy/engine/base.py?line=1805'>1806</a>\u001b[0m \u001b[39mif\u001b[39;00m \u001b[39mself\u001b[39m\u001b[39m.\u001b[39m_has_events \u001b[39mor\u001b[39;00m \u001b[39mself\u001b[39m\u001b[39m.\u001b[39mengine\u001b[39m.\u001b[39m_has_events:\n",
      "File \u001b[0;32m~/.local/lib/python3.10/site-packages/sqlalchemy/engine/default.py:732\u001b[0m, in \u001b[0;36mDefaultDialect.do_execute\u001b[0;34m(self, cursor, statement, parameters, context)\u001b[0m\n\u001b[1;32m    <a href='file:///~/.local/lib/python3.10/site-packages/sqlalchemy/engine/default.py?line=730'>731</a>\u001b[0m \u001b[39mdef\u001b[39;00m \u001b[39mdo_execute\u001b[39m(\u001b[39mself\u001b[39m, cursor, statement, parameters, context\u001b[39m=\u001b[39m\u001b[39mNone\u001b[39;00m):\n\u001b[0;32m--> <a href='file:///~/.local/lib/python3.10/site-packages/sqlalchemy/engine/default.py?line=731'>732</a>\u001b[0m     cursor\u001b[39m.\u001b[39;49mexecute(statement, parameters)\n",
      "\u001b[0;31mIntegrityError\u001b[0m: FOREIGN KEY constraint failed",
      "\nThe above exception was the direct cause of the following exception:\n",
      "\u001b[0;31mIntegrityError\u001b[0m                            Traceback (most recent call last)",
      "\u001b[1;32m/home/erik/Downloads/lab2/lab2-nb.ipynb Cell 28'\u001b[0m in \u001b[0;36m<module>\u001b[0;34m\u001b[0m\n\u001b[0;32m----> <a href='vscode-notebook-cell:/home/erik/Downloads/lab2/lab2-nb.ipynb#ch0000027?line=0'>1</a>\u001b[0m get_ipython()\u001b[39m.\u001b[39;49mrun_cell_magic(\u001b[39m'\u001b[39;49m\u001b[39msql\u001b[39;49m\u001b[39m'\u001b[39;49m, \u001b[39m'\u001b[39;49m\u001b[39m'\u001b[39;49m, \u001b[39m'\u001b[39;49m\u001b[39mINSERT INTO screenings (start_time, imdb, theater_id)\u001b[39;49m\u001b[39m\\n\u001b[39;49;00m\u001b[39mVALUES\u001b[39;49m\u001b[39m\\n\u001b[39;49;00m\u001b[39m  (\u001b[39;49m\u001b[39m\"\u001b[39;49m\u001b[39m20220210 08:00 PM\u001b[39;49m\u001b[39m\"\u001b[39;49m\u001b[39m, \u001b[39;49m\u001b[39m\"\u001b[39;49m\u001b[39mtt0485947\u001b[39;49m\u001b[39m\"\u001b[39;49m\u001b[39m, \u001b[39;49m\u001b[39m\"\u001b[39;49m\u001b[39mpotato\u001b[39;49m\u001b[39m\"\u001b[39;49m\u001b[39m);\u001b[39;49m\u001b[39m\\n\u001b[39;49;00m\u001b[39m'\u001b[39;49m)\n",
      "File \u001b[0;32m~/.local/lib/python3.10/site-packages/IPython/core/interactiveshell.py:2257\u001b[0m, in \u001b[0;36mInteractiveShell.run_cell_magic\u001b[0;34m(self, magic_name, line, cell)\u001b[0m\n\u001b[1;32m   <a href='file:///~/.local/lib/python3.10/site-packages/IPython/core/interactiveshell.py?line=2254'>2255</a>\u001b[0m \u001b[39mwith\u001b[39;00m \u001b[39mself\u001b[39m\u001b[39m.\u001b[39mbuiltin_trap:\n\u001b[1;32m   <a href='file:///~/.local/lib/python3.10/site-packages/IPython/core/interactiveshell.py?line=2255'>2256</a>\u001b[0m     args \u001b[39m=\u001b[39m (magic_arg_s, cell)\n\u001b[0;32m-> <a href='file:///~/.local/lib/python3.10/site-packages/IPython/core/interactiveshell.py?line=2256'>2257</a>\u001b[0m     result \u001b[39m=\u001b[39m fn(\u001b[39m*\u001b[39;49margs, \u001b[39m*\u001b[39;49m\u001b[39m*\u001b[39;49mkwargs)\n\u001b[1;32m   <a href='file:///~/.local/lib/python3.10/site-packages/IPython/core/interactiveshell.py?line=2257'>2258</a>\u001b[0m \u001b[39mreturn\u001b[39;00m result\n",
      "File \u001b[0;32m~/.local/lib/python3.10/site-packages/sql/magic.py:217\u001b[0m, in \u001b[0;36mSqlMagic.execute\u001b[0;34m(self, line, cell, local_ns)\u001b[0m\n\u001b[1;32m    <a href='file:///~/.local/lib/python3.10/site-packages/sql/magic.py?line=213'>214</a>\u001b[0m     \u001b[39mreturn\u001b[39;00m\n\u001b[1;32m    <a href='file:///~/.local/lib/python3.10/site-packages/sql/magic.py?line=215'>216</a>\u001b[0m \u001b[39mtry\u001b[39;00m:\n\u001b[0;32m--> <a href='file:///~/.local/lib/python3.10/site-packages/sql/magic.py?line=216'>217</a>\u001b[0m     result \u001b[39m=\u001b[39m sql\u001b[39m.\u001b[39;49mrun\u001b[39m.\u001b[39;49mrun(conn, parsed[\u001b[39m\"\u001b[39;49m\u001b[39msql\u001b[39;49m\u001b[39m\"\u001b[39;49m], \u001b[39mself\u001b[39;49m, user_ns)\n\u001b[1;32m    <a href='file:///~/.local/lib/python3.10/site-packages/sql/magic.py?line=218'>219</a>\u001b[0m     \u001b[39mif\u001b[39;00m (\n\u001b[1;32m    <a href='file:///~/.local/lib/python3.10/site-packages/sql/magic.py?line=219'>220</a>\u001b[0m         result \u001b[39mis\u001b[39;00m \u001b[39mnot\u001b[39;00m \u001b[39mNone\u001b[39;00m\n\u001b[1;32m    <a href='file:///~/.local/lib/python3.10/site-packages/sql/magic.py?line=220'>221</a>\u001b[0m         \u001b[39mand\u001b[39;00m \u001b[39mnot\u001b[39;00m \u001b[39misinstance\u001b[39m(result, \u001b[39mstr\u001b[39m)\n\u001b[0;32m   (...)\u001b[0m\n\u001b[1;32m    <a href='file:///~/.local/lib/python3.10/site-packages/sql/magic.py?line=223'>224</a>\u001b[0m         \u001b[39m# Instead of returning values, set variables directly in the\u001b[39;00m\n\u001b[1;32m    <a href='file:///~/.local/lib/python3.10/site-packages/sql/magic.py?line=224'>225</a>\u001b[0m         \u001b[39m# users namespace. Variable names given by column names\u001b[39;00m\n\u001b[1;32m    <a href='file:///~/.local/lib/python3.10/site-packages/sql/magic.py?line=226'>227</a>\u001b[0m         \u001b[39mif\u001b[39;00m \u001b[39mself\u001b[39m\u001b[39m.\u001b[39mautopandas:\n",
      "File \u001b[0;32m~/.local/lib/python3.10/site-packages/sql/run.py:367\u001b[0m, in \u001b[0;36mrun\u001b[0;34m(conn, sql, config, user_namespace)\u001b[0m\n\u001b[1;32m    <a href='file:///~/.local/lib/python3.10/site-packages/sql/run.py?line=364'>365</a>\u001b[0m \u001b[39melse\u001b[39;00m:\n\u001b[1;32m    <a href='file:///~/.local/lib/python3.10/site-packages/sql/run.py?line=365'>366</a>\u001b[0m     txt \u001b[39m=\u001b[39m sqlalchemy\u001b[39m.\u001b[39msql\u001b[39m.\u001b[39mtext(statement)\n\u001b[0;32m--> <a href='file:///~/.local/lib/python3.10/site-packages/sql/run.py?line=366'>367</a>\u001b[0m     result \u001b[39m=\u001b[39m conn\u001b[39m.\u001b[39;49msession\u001b[39m.\u001b[39;49mexecute(txt, user_namespace)\n\u001b[1;32m    <a href='file:///~/.local/lib/python3.10/site-packages/sql/run.py?line=367'>368</a>\u001b[0m _commit(conn\u001b[39m=\u001b[39mconn, config\u001b[39m=\u001b[39mconfig)\n\u001b[1;32m    <a href='file:///~/.local/lib/python3.10/site-packages/sql/run.py?line=368'>369</a>\u001b[0m \u001b[39mif\u001b[39;00m result \u001b[39mand\u001b[39;00m config\u001b[39m.\u001b[39mfeedback:\n",
      "File \u001b[0;32m~/.local/lib/python3.10/site-packages/sqlalchemy/engine/base.py:1289\u001b[0m, in \u001b[0;36mConnection.execute\u001b[0;34m(self, statement, *multiparams, **params)\u001b[0m\n\u001b[1;32m   <a href='file:///~/.local/lib/python3.10/site-packages/sqlalchemy/engine/base.py?line=1284'>1285</a>\u001b[0m     util\u001b[39m.\u001b[39mraise_(\n\u001b[1;32m   <a href='file:///~/.local/lib/python3.10/site-packages/sqlalchemy/engine/base.py?line=1285'>1286</a>\u001b[0m         exc\u001b[39m.\u001b[39mObjectNotExecutableError(statement), replace_context\u001b[39m=\u001b[39merr\n\u001b[1;32m   <a href='file:///~/.local/lib/python3.10/site-packages/sqlalchemy/engine/base.py?line=1286'>1287</a>\u001b[0m     )\n\u001b[1;32m   <a href='file:///~/.local/lib/python3.10/site-packages/sqlalchemy/engine/base.py?line=1287'>1288</a>\u001b[0m \u001b[39melse\u001b[39;00m:\n\u001b[0;32m-> <a href='file:///~/.local/lib/python3.10/site-packages/sqlalchemy/engine/base.py?line=1288'>1289</a>\u001b[0m     \u001b[39mreturn\u001b[39;00m meth(\u001b[39mself\u001b[39;49m, multiparams, params, _EMPTY_EXECUTION_OPTS)\n",
      "File \u001b[0;32m~/.local/lib/python3.10/site-packages/sqlalchemy/sql/elements.py:325\u001b[0m, in \u001b[0;36mClauseElement._execute_on_connection\u001b[0;34m(self, connection, multiparams, params, execution_options, _force)\u001b[0m\n\u001b[1;32m    <a href='file:///~/.local/lib/python3.10/site-packages/sqlalchemy/sql/elements.py?line=320'>321</a>\u001b[0m \u001b[39mdef\u001b[39;00m \u001b[39m_execute_on_connection\u001b[39m(\n\u001b[1;32m    <a href='file:///~/.local/lib/python3.10/site-packages/sqlalchemy/sql/elements.py?line=321'>322</a>\u001b[0m     \u001b[39mself\u001b[39m, connection, multiparams, params, execution_options, _force\u001b[39m=\u001b[39m\u001b[39mFalse\u001b[39;00m\n\u001b[1;32m    <a href='file:///~/.local/lib/python3.10/site-packages/sqlalchemy/sql/elements.py?line=322'>323</a>\u001b[0m ):\n\u001b[1;32m    <a href='file:///~/.local/lib/python3.10/site-packages/sqlalchemy/sql/elements.py?line=323'>324</a>\u001b[0m     \u001b[39mif\u001b[39;00m _force \u001b[39mor\u001b[39;00m \u001b[39mself\u001b[39m\u001b[39m.\u001b[39msupports_execution:\n\u001b[0;32m--> <a href='file:///~/.local/lib/python3.10/site-packages/sqlalchemy/sql/elements.py?line=324'>325</a>\u001b[0m         \u001b[39mreturn\u001b[39;00m connection\u001b[39m.\u001b[39;49m_execute_clauseelement(\n\u001b[1;32m    <a href='file:///~/.local/lib/python3.10/site-packages/sqlalchemy/sql/elements.py?line=325'>326</a>\u001b[0m             \u001b[39mself\u001b[39;49m, multiparams, params, execution_options\n\u001b[1;32m    <a href='file:///~/.local/lib/python3.10/site-packages/sqlalchemy/sql/elements.py?line=326'>327</a>\u001b[0m         )\n\u001b[1;32m    <a href='file:///~/.local/lib/python3.10/site-packages/sqlalchemy/sql/elements.py?line=327'>328</a>\u001b[0m     \u001b[39melse\u001b[39;00m:\n\u001b[1;32m    <a href='file:///~/.local/lib/python3.10/site-packages/sqlalchemy/sql/elements.py?line=328'>329</a>\u001b[0m         \u001b[39mraise\u001b[39;00m exc\u001b[39m.\u001b[39mObjectNotExecutableError(\u001b[39mself\u001b[39m)\n",
      "File \u001b[0;32m~/.local/lib/python3.10/site-packages/sqlalchemy/engine/base.py:1481\u001b[0m, in \u001b[0;36mConnection._execute_clauseelement\u001b[0;34m(self, elem, multiparams, params, execution_options)\u001b[0m\n\u001b[1;32m   <a href='file:///~/.local/lib/python3.10/site-packages/sqlalchemy/engine/base.py?line=1468'>1469</a>\u001b[0m compiled_cache \u001b[39m=\u001b[39m execution_options\u001b[39m.\u001b[39mget(\n\u001b[1;32m   <a href='file:///~/.local/lib/python3.10/site-packages/sqlalchemy/engine/base.py?line=1469'>1470</a>\u001b[0m     \u001b[39m\"\u001b[39m\u001b[39mcompiled_cache\u001b[39m\u001b[39m\"\u001b[39m, \u001b[39mself\u001b[39m\u001b[39m.\u001b[39mengine\u001b[39m.\u001b[39m_compiled_cache\n\u001b[1;32m   <a href='file:///~/.local/lib/python3.10/site-packages/sqlalchemy/engine/base.py?line=1470'>1471</a>\u001b[0m )\n\u001b[1;32m   <a href='file:///~/.local/lib/python3.10/site-packages/sqlalchemy/engine/base.py?line=1472'>1473</a>\u001b[0m compiled_sql, extracted_params, cache_hit \u001b[39m=\u001b[39m elem\u001b[39m.\u001b[39m_compile_w_cache(\n\u001b[1;32m   <a href='file:///~/.local/lib/python3.10/site-packages/sqlalchemy/engine/base.py?line=1473'>1474</a>\u001b[0m     dialect\u001b[39m=\u001b[39mdialect,\n\u001b[1;32m   <a href='file:///~/.local/lib/python3.10/site-packages/sqlalchemy/engine/base.py?line=1474'>1475</a>\u001b[0m     compiled_cache\u001b[39m=\u001b[39mcompiled_cache,\n\u001b[0;32m   (...)\u001b[0m\n\u001b[1;32m   <a href='file:///~/.local/lib/python3.10/site-packages/sqlalchemy/engine/base.py?line=1478'>1479</a>\u001b[0m     linting\u001b[39m=\u001b[39m\u001b[39mself\u001b[39m\u001b[39m.\u001b[39mdialect\u001b[39m.\u001b[39mcompiler_linting \u001b[39m|\u001b[39m compiler\u001b[39m.\u001b[39mWARN_LINTING,\n\u001b[1;32m   <a href='file:///~/.local/lib/python3.10/site-packages/sqlalchemy/engine/base.py?line=1479'>1480</a>\u001b[0m )\n\u001b[0;32m-> <a href='file:///~/.local/lib/python3.10/site-packages/sqlalchemy/engine/base.py?line=1480'>1481</a>\u001b[0m ret \u001b[39m=\u001b[39m \u001b[39mself\u001b[39;49m\u001b[39m.\u001b[39;49m_execute_context(\n\u001b[1;32m   <a href='file:///~/.local/lib/python3.10/site-packages/sqlalchemy/engine/base.py?line=1481'>1482</a>\u001b[0m     dialect,\n\u001b[1;32m   <a href='file:///~/.local/lib/python3.10/site-packages/sqlalchemy/engine/base.py?line=1482'>1483</a>\u001b[0m     dialect\u001b[39m.\u001b[39;49mexecution_ctx_cls\u001b[39m.\u001b[39;49m_init_compiled,\n\u001b[1;32m   <a href='file:///~/.local/lib/python3.10/site-packages/sqlalchemy/engine/base.py?line=1483'>1484</a>\u001b[0m     compiled_sql,\n\u001b[1;32m   <a href='file:///~/.local/lib/python3.10/site-packages/sqlalchemy/engine/base.py?line=1484'>1485</a>\u001b[0m     distilled_params,\n\u001b[1;32m   <a href='file:///~/.local/lib/python3.10/site-packages/sqlalchemy/engine/base.py?line=1485'>1486</a>\u001b[0m     execution_options,\n\u001b[1;32m   <a href='file:///~/.local/lib/python3.10/site-packages/sqlalchemy/engine/base.py?line=1486'>1487</a>\u001b[0m     compiled_sql,\n\u001b[1;32m   <a href='file:///~/.local/lib/python3.10/site-packages/sqlalchemy/engine/base.py?line=1487'>1488</a>\u001b[0m     distilled_params,\n\u001b[1;32m   <a href='file:///~/.local/lib/python3.10/site-packages/sqlalchemy/engine/base.py?line=1488'>1489</a>\u001b[0m     elem,\n\u001b[1;32m   <a href='file:///~/.local/lib/python3.10/site-packages/sqlalchemy/engine/base.py?line=1489'>1490</a>\u001b[0m     extracted_params,\n\u001b[1;32m   <a href='file:///~/.local/lib/python3.10/site-packages/sqlalchemy/engine/base.py?line=1490'>1491</a>\u001b[0m     cache_hit\u001b[39m=\u001b[39;49mcache_hit,\n\u001b[1;32m   <a href='file:///~/.local/lib/python3.10/site-packages/sqlalchemy/engine/base.py?line=1491'>1492</a>\u001b[0m )\n\u001b[1;32m   <a href='file:///~/.local/lib/python3.10/site-packages/sqlalchemy/engine/base.py?line=1492'>1493</a>\u001b[0m \u001b[39mif\u001b[39;00m has_events:\n\u001b[1;32m   <a href='file:///~/.local/lib/python3.10/site-packages/sqlalchemy/engine/base.py?line=1493'>1494</a>\u001b[0m     \u001b[39mself\u001b[39m\u001b[39m.\u001b[39mdispatch\u001b[39m.\u001b[39mafter_execute(\n\u001b[1;32m   <a href='file:///~/.local/lib/python3.10/site-packages/sqlalchemy/engine/base.py?line=1494'>1495</a>\u001b[0m         \u001b[39mself\u001b[39m,\n\u001b[1;32m   <a href='file:///~/.local/lib/python3.10/site-packages/sqlalchemy/engine/base.py?line=1495'>1496</a>\u001b[0m         elem,\n\u001b[0;32m   (...)\u001b[0m\n\u001b[1;32m   <a href='file:///~/.local/lib/python3.10/site-packages/sqlalchemy/engine/base.py?line=1499'>1500</a>\u001b[0m         ret,\n\u001b[1;32m   <a href='file:///~/.local/lib/python3.10/site-packages/sqlalchemy/engine/base.py?line=1500'>1501</a>\u001b[0m     )\n",
      "File \u001b[0;32m~/.local/lib/python3.10/site-packages/sqlalchemy/engine/base.py:1845\u001b[0m, in \u001b[0;36mConnection._execute_context\u001b[0;34m(self, dialect, constructor, statement, parameters, execution_options, *args, **kw)\u001b[0m\n\u001b[1;32m   <a href='file:///~/.local/lib/python3.10/site-packages/sqlalchemy/engine/base.py?line=1841'>1842</a>\u001b[0m             branched\u001b[39m.\u001b[39mclose()\n\u001b[1;32m   <a href='file:///~/.local/lib/python3.10/site-packages/sqlalchemy/engine/base.py?line=1843'>1844</a>\u001b[0m \u001b[39mexcept\u001b[39;00m \u001b[39mBaseException\u001b[39;00m \u001b[39mas\u001b[39;00m e:\n\u001b[0;32m-> <a href='file:///~/.local/lib/python3.10/site-packages/sqlalchemy/engine/base.py?line=1844'>1845</a>\u001b[0m     \u001b[39mself\u001b[39;49m\u001b[39m.\u001b[39;49m_handle_dbapi_exception(\n\u001b[1;32m   <a href='file:///~/.local/lib/python3.10/site-packages/sqlalchemy/engine/base.py?line=1845'>1846</a>\u001b[0m         e, statement, parameters, cursor, context\n\u001b[1;32m   <a href='file:///~/.local/lib/python3.10/site-packages/sqlalchemy/engine/base.py?line=1846'>1847</a>\u001b[0m     )\n\u001b[1;32m   <a href='file:///~/.local/lib/python3.10/site-packages/sqlalchemy/engine/base.py?line=1848'>1849</a>\u001b[0m \u001b[39mreturn\u001b[39;00m result\n",
      "File \u001b[0;32m~/.local/lib/python3.10/site-packages/sqlalchemy/engine/base.py:2026\u001b[0m, in \u001b[0;36mConnection._handle_dbapi_exception\u001b[0;34m(self, e, statement, parameters, cursor, context)\u001b[0m\n\u001b[1;32m   <a href='file:///~/.local/lib/python3.10/site-packages/sqlalchemy/engine/base.py?line=2023'>2024</a>\u001b[0m     util\u001b[39m.\u001b[39mraise_(newraise, with_traceback\u001b[39m=\u001b[39mexc_info[\u001b[39m2\u001b[39m], from_\u001b[39m=\u001b[39me)\n\u001b[1;32m   <a href='file:///~/.local/lib/python3.10/site-packages/sqlalchemy/engine/base.py?line=2024'>2025</a>\u001b[0m \u001b[39melif\u001b[39;00m should_wrap:\n\u001b[0;32m-> <a href='file:///~/.local/lib/python3.10/site-packages/sqlalchemy/engine/base.py?line=2025'>2026</a>\u001b[0m     util\u001b[39m.\u001b[39;49mraise_(\n\u001b[1;32m   <a href='file:///~/.local/lib/python3.10/site-packages/sqlalchemy/engine/base.py?line=2026'>2027</a>\u001b[0m         sqlalchemy_exception, with_traceback\u001b[39m=\u001b[39;49mexc_info[\u001b[39m2\u001b[39;49m], from_\u001b[39m=\u001b[39;49me\n\u001b[1;32m   <a href='file:///~/.local/lib/python3.10/site-packages/sqlalchemy/engine/base.py?line=2027'>2028</a>\u001b[0m     )\n\u001b[1;32m   <a href='file:///~/.local/lib/python3.10/site-packages/sqlalchemy/engine/base.py?line=2028'>2029</a>\u001b[0m \u001b[39melse\u001b[39;00m:\n\u001b[1;32m   <a href='file:///~/.local/lib/python3.10/site-packages/sqlalchemy/engine/base.py?line=2029'>2030</a>\u001b[0m     util\u001b[39m.\u001b[39mraise_(exc_info[\u001b[39m1\u001b[39m], with_traceback\u001b[39m=\u001b[39mexc_info[\u001b[39m2\u001b[39m])\n",
      "File \u001b[0;32m~/.local/lib/python3.10/site-packages/sqlalchemy/util/compat.py:207\u001b[0m, in \u001b[0;36mraise_\u001b[0;34m(***failed resolving arguments***)\u001b[0m\n\u001b[1;32m    <a href='file:///~/.local/lib/python3.10/site-packages/sqlalchemy/util/compat.py?line=203'>204</a>\u001b[0m     exception\u001b[39m.\u001b[39m__cause__ \u001b[39m=\u001b[39m replace_context\n\u001b[1;32m    <a href='file:///~/.local/lib/python3.10/site-packages/sqlalchemy/util/compat.py?line=205'>206</a>\u001b[0m \u001b[39mtry\u001b[39;00m:\n\u001b[0;32m--> <a href='file:///~/.local/lib/python3.10/site-packages/sqlalchemy/util/compat.py?line=206'>207</a>\u001b[0m     \u001b[39mraise\u001b[39;00m exception\n\u001b[1;32m    <a href='file:///~/.local/lib/python3.10/site-packages/sqlalchemy/util/compat.py?line=207'>208</a>\u001b[0m \u001b[39mfinally\u001b[39;00m:\n\u001b[1;32m    <a href='file:///~/.local/lib/python3.10/site-packages/sqlalchemy/util/compat.py?line=208'>209</a>\u001b[0m     \u001b[39m# credit to\u001b[39;00m\n\u001b[1;32m    <a href='file:///~/.local/lib/python3.10/site-packages/sqlalchemy/util/compat.py?line=209'>210</a>\u001b[0m     \u001b[39m# https://cosmicpercolator.com/2016/01/13/exception-leaks-in-python-2-and-3/\u001b[39;00m\n\u001b[1;32m    <a href='file:///~/.local/lib/python3.10/site-packages/sqlalchemy/util/compat.py?line=210'>211</a>\u001b[0m     \u001b[39m# as the __traceback__ object creates a cycle\u001b[39;00m\n\u001b[1;32m    <a href='file:///~/.local/lib/python3.10/site-packages/sqlalchemy/util/compat.py?line=211'>212</a>\u001b[0m     \u001b[39mdel\u001b[39;00m exception, replace_context, from_, with_traceback\n",
      "File \u001b[0;32m~/.local/lib/python3.10/site-packages/sqlalchemy/engine/base.py:1802\u001b[0m, in \u001b[0;36mConnection._execute_context\u001b[0;34m(self, dialect, constructor, statement, parameters, execution_options, *args, **kw)\u001b[0m\n\u001b[1;32m   <a href='file:///~/.local/lib/python3.10/site-packages/sqlalchemy/engine/base.py?line=1799'>1800</a>\u001b[0m                 \u001b[39mbreak\u001b[39;00m\n\u001b[1;32m   <a href='file:///~/.local/lib/python3.10/site-packages/sqlalchemy/engine/base.py?line=1800'>1801</a>\u001b[0m     \u001b[39mif\u001b[39;00m \u001b[39mnot\u001b[39;00m evt_handled:\n\u001b[0;32m-> <a href='file:///~/.local/lib/python3.10/site-packages/sqlalchemy/engine/base.py?line=1801'>1802</a>\u001b[0m         \u001b[39mself\u001b[39;49m\u001b[39m.\u001b[39;49mdialect\u001b[39m.\u001b[39;49mdo_execute(\n\u001b[1;32m   <a href='file:///~/.local/lib/python3.10/site-packages/sqlalchemy/engine/base.py?line=1802'>1803</a>\u001b[0m             cursor, statement, parameters, context\n\u001b[1;32m   <a href='file:///~/.local/lib/python3.10/site-packages/sqlalchemy/engine/base.py?line=1803'>1804</a>\u001b[0m         )\n\u001b[1;32m   <a href='file:///~/.local/lib/python3.10/site-packages/sqlalchemy/engine/base.py?line=1805'>1806</a>\u001b[0m \u001b[39mif\u001b[39;00m \u001b[39mself\u001b[39m\u001b[39m.\u001b[39m_has_events \u001b[39mor\u001b[39;00m \u001b[39mself\u001b[39m\u001b[39m.\u001b[39mengine\u001b[39m.\u001b[39m_has_events:\n\u001b[1;32m   <a href='file:///~/.local/lib/python3.10/site-packages/sqlalchemy/engine/base.py?line=1806'>1807</a>\u001b[0m     \u001b[39mself\u001b[39m\u001b[39m.\u001b[39mdispatch\u001b[39m.\u001b[39mafter_cursor_execute(\n\u001b[1;32m   <a href='file:///~/.local/lib/python3.10/site-packages/sqlalchemy/engine/base.py?line=1807'>1808</a>\u001b[0m         \u001b[39mself\u001b[39m,\n\u001b[1;32m   <a href='file:///~/.local/lib/python3.10/site-packages/sqlalchemy/engine/base.py?line=1808'>1809</a>\u001b[0m         cursor,\n\u001b[0;32m   (...)\u001b[0m\n\u001b[1;32m   <a href='file:///~/.local/lib/python3.10/site-packages/sqlalchemy/engine/base.py?line=1812'>1813</a>\u001b[0m         context\u001b[39m.\u001b[39mexecutemany,\n\u001b[1;32m   <a href='file:///~/.local/lib/python3.10/site-packages/sqlalchemy/engine/base.py?line=1813'>1814</a>\u001b[0m     )\n",
      "File \u001b[0;32m~/.local/lib/python3.10/site-packages/sqlalchemy/engine/default.py:732\u001b[0m, in \u001b[0;36mDefaultDialect.do_execute\u001b[0;34m(self, cursor, statement, parameters, context)\u001b[0m\n\u001b[1;32m    <a href='file:///~/.local/lib/python3.10/site-packages/sqlalchemy/engine/default.py?line=730'>731</a>\u001b[0m \u001b[39mdef\u001b[39;00m \u001b[39mdo_execute\u001b[39m(\u001b[39mself\u001b[39m, cursor, statement, parameters, context\u001b[39m=\u001b[39m\u001b[39mNone\u001b[39;00m):\n\u001b[0;32m--> <a href='file:///~/.local/lib/python3.10/site-packages/sqlalchemy/engine/default.py?line=731'>732</a>\u001b[0m     cursor\u001b[39m.\u001b[39;49mexecute(statement, parameters)\n",
      "\u001b[0;31mIntegrityError\u001b[0m: (sqlite3.IntegrityError) FOREIGN KEY constraint failed\n[SQL: INSERT INTO screenings (start_time, imdb, theater_id)\nVALUES\n  (\"20220210 08:00 PM\", \"tt0485947\", \"potato\");]\n(Background on this error at: https://sqlalche.me/e/14/gkpj)"
     ]
    }
   ],
   "source": [
    "%%sql\n",
    "INSERT INTO screenings (start_time, imdb, theater_id)\n",
    "VALUES\n",
    "  (\"20220210 08:00 PM\", \"tt0485947\", \"potato\");"
   ]
  },
  {
   "cell_type": "markdown",
   "id": "369a8bbb",
   "metadata": {},
   "source": [
    "+ Create a ticket where either the user or the performance\n",
    "  doesn’t exist (this should fail)."
   ]
  },
  {
   "cell_type": "code",
   "execution_count": 86,
   "id": "1592c5de",
   "metadata": {},
   "outputs": [
    {
     "name": "stdout",
     "output_type": "stream",
     "text": [
      " * sqlite:///movies.sqlite\n"
     ]
    },
    {
     "ename": "IntegrityError",
     "evalue": "(sqlite3.IntegrityError) FOREIGN KEY constraint failed\n[SQL: INSERT INTO tickets (screening_id, customer_id)\nVALUES\n  ((SELECT screening_id FROM screenings LIMIT 1), \"potato\");]\n(Background on this error at: https://sqlalche.me/e/14/gkpj)",
     "output_type": "error",
     "traceback": [
      "\u001b[0;31m---------------------------------------------------------------------------\u001b[0m",
      "\u001b[0;31mIntegrityError\u001b[0m                            Traceback (most recent call last)",
      "File \u001b[0;32m~/.local/lib/python3.10/site-packages/sqlalchemy/engine/base.py:1802\u001b[0m, in \u001b[0;36mConnection._execute_context\u001b[0;34m(self, dialect, constructor, statement, parameters, execution_options, *args, **kw)\u001b[0m\n\u001b[1;32m   <a href='file:///~/.local/lib/python3.10/site-packages/sqlalchemy/engine/base.py?line=1800'>1801</a>\u001b[0m     \u001b[39mif\u001b[39;00m \u001b[39mnot\u001b[39;00m evt_handled:\n\u001b[0;32m-> <a href='file:///~/.local/lib/python3.10/site-packages/sqlalchemy/engine/base.py?line=1801'>1802</a>\u001b[0m         \u001b[39mself\u001b[39;49m\u001b[39m.\u001b[39;49mdialect\u001b[39m.\u001b[39;49mdo_execute(\n\u001b[1;32m   <a href='file:///~/.local/lib/python3.10/site-packages/sqlalchemy/engine/base.py?line=1802'>1803</a>\u001b[0m             cursor, statement, parameters, context\n\u001b[1;32m   <a href='file:///~/.local/lib/python3.10/site-packages/sqlalchemy/engine/base.py?line=1803'>1804</a>\u001b[0m         )\n\u001b[1;32m   <a href='file:///~/.local/lib/python3.10/site-packages/sqlalchemy/engine/base.py?line=1805'>1806</a>\u001b[0m \u001b[39mif\u001b[39;00m \u001b[39mself\u001b[39m\u001b[39m.\u001b[39m_has_events \u001b[39mor\u001b[39;00m \u001b[39mself\u001b[39m\u001b[39m.\u001b[39mengine\u001b[39m.\u001b[39m_has_events:\n",
      "File \u001b[0;32m~/.local/lib/python3.10/site-packages/sqlalchemy/engine/default.py:732\u001b[0m, in \u001b[0;36mDefaultDialect.do_execute\u001b[0;34m(self, cursor, statement, parameters, context)\u001b[0m\n\u001b[1;32m    <a href='file:///~/.local/lib/python3.10/site-packages/sqlalchemy/engine/default.py?line=730'>731</a>\u001b[0m \u001b[39mdef\u001b[39;00m \u001b[39mdo_execute\u001b[39m(\u001b[39mself\u001b[39m, cursor, statement, parameters, context\u001b[39m=\u001b[39m\u001b[39mNone\u001b[39;00m):\n\u001b[0;32m--> <a href='file:///~/.local/lib/python3.10/site-packages/sqlalchemy/engine/default.py?line=731'>732</a>\u001b[0m     cursor\u001b[39m.\u001b[39;49mexecute(statement, parameters)\n",
      "\u001b[0;31mIntegrityError\u001b[0m: FOREIGN KEY constraint failed",
      "\nThe above exception was the direct cause of the following exception:\n",
      "\u001b[0;31mIntegrityError\u001b[0m                            Traceback (most recent call last)",
      "\u001b[1;32m/home/erik/Downloads/lab2/lab2-nb.ipynb Cell 30'\u001b[0m in \u001b[0;36m<module>\u001b[0;34m\u001b[0m\n\u001b[0;32m----> <a href='vscode-notebook-cell:/home/erik/Downloads/lab2/lab2-nb.ipynb#ch0000029?line=0'>1</a>\u001b[0m get_ipython()\u001b[39m.\u001b[39;49mrun_cell_magic(\u001b[39m'\u001b[39;49m\u001b[39msql\u001b[39;49m\u001b[39m'\u001b[39;49m, \u001b[39m'\u001b[39;49m\u001b[39m'\u001b[39;49m, \u001b[39m'\u001b[39;49m\u001b[39mINSERT INTO tickets (screening_id, customer_id)\u001b[39;49m\u001b[39m\\n\u001b[39;49;00m\u001b[39mVALUES\u001b[39;49m\u001b[39m\\n\u001b[39;49;00m\u001b[39m  ((SELECT screening_id FROM screenings LIMIT 1), \u001b[39;49m\u001b[39m\"\u001b[39;49m\u001b[39mpotato\u001b[39;49m\u001b[39m\"\u001b[39;49m\u001b[39m);\u001b[39;49m\u001b[39m\\n\u001b[39;49;00m\u001b[39m'\u001b[39;49m)\n",
      "File \u001b[0;32m~/.local/lib/python3.10/site-packages/IPython/core/interactiveshell.py:2257\u001b[0m, in \u001b[0;36mInteractiveShell.run_cell_magic\u001b[0;34m(self, magic_name, line, cell)\u001b[0m\n\u001b[1;32m   <a href='file:///~/.local/lib/python3.10/site-packages/IPython/core/interactiveshell.py?line=2254'>2255</a>\u001b[0m \u001b[39mwith\u001b[39;00m \u001b[39mself\u001b[39m\u001b[39m.\u001b[39mbuiltin_trap:\n\u001b[1;32m   <a href='file:///~/.local/lib/python3.10/site-packages/IPython/core/interactiveshell.py?line=2255'>2256</a>\u001b[0m     args \u001b[39m=\u001b[39m (magic_arg_s, cell)\n\u001b[0;32m-> <a href='file:///~/.local/lib/python3.10/site-packages/IPython/core/interactiveshell.py?line=2256'>2257</a>\u001b[0m     result \u001b[39m=\u001b[39m fn(\u001b[39m*\u001b[39;49margs, \u001b[39m*\u001b[39;49m\u001b[39m*\u001b[39;49mkwargs)\n\u001b[1;32m   <a href='file:///~/.local/lib/python3.10/site-packages/IPython/core/interactiveshell.py?line=2257'>2258</a>\u001b[0m \u001b[39mreturn\u001b[39;00m result\n",
      "File \u001b[0;32m~/.local/lib/python3.10/site-packages/sql/magic.py:217\u001b[0m, in \u001b[0;36mSqlMagic.execute\u001b[0;34m(self, line, cell, local_ns)\u001b[0m\n\u001b[1;32m    <a href='file:///~/.local/lib/python3.10/site-packages/sql/magic.py?line=213'>214</a>\u001b[0m     \u001b[39mreturn\u001b[39;00m\n\u001b[1;32m    <a href='file:///~/.local/lib/python3.10/site-packages/sql/magic.py?line=215'>216</a>\u001b[0m \u001b[39mtry\u001b[39;00m:\n\u001b[0;32m--> <a href='file:///~/.local/lib/python3.10/site-packages/sql/magic.py?line=216'>217</a>\u001b[0m     result \u001b[39m=\u001b[39m sql\u001b[39m.\u001b[39;49mrun\u001b[39m.\u001b[39;49mrun(conn, parsed[\u001b[39m\"\u001b[39;49m\u001b[39msql\u001b[39;49m\u001b[39m\"\u001b[39;49m], \u001b[39mself\u001b[39;49m, user_ns)\n\u001b[1;32m    <a href='file:///~/.local/lib/python3.10/site-packages/sql/magic.py?line=218'>219</a>\u001b[0m     \u001b[39mif\u001b[39;00m (\n\u001b[1;32m    <a href='file:///~/.local/lib/python3.10/site-packages/sql/magic.py?line=219'>220</a>\u001b[0m         result \u001b[39mis\u001b[39;00m \u001b[39mnot\u001b[39;00m \u001b[39mNone\u001b[39;00m\n\u001b[1;32m    <a href='file:///~/.local/lib/python3.10/site-packages/sql/magic.py?line=220'>221</a>\u001b[0m         \u001b[39mand\u001b[39;00m \u001b[39mnot\u001b[39;00m \u001b[39misinstance\u001b[39m(result, \u001b[39mstr\u001b[39m)\n\u001b[0;32m   (...)\u001b[0m\n\u001b[1;32m    <a href='file:///~/.local/lib/python3.10/site-packages/sql/magic.py?line=223'>224</a>\u001b[0m         \u001b[39m# Instead of returning values, set variables directly in the\u001b[39;00m\n\u001b[1;32m    <a href='file:///~/.local/lib/python3.10/site-packages/sql/magic.py?line=224'>225</a>\u001b[0m         \u001b[39m# users namespace. Variable names given by column names\u001b[39;00m\n\u001b[1;32m    <a href='file:///~/.local/lib/python3.10/site-packages/sql/magic.py?line=226'>227</a>\u001b[0m         \u001b[39mif\u001b[39;00m \u001b[39mself\u001b[39m\u001b[39m.\u001b[39mautopandas:\n",
      "File \u001b[0;32m~/.local/lib/python3.10/site-packages/sql/run.py:367\u001b[0m, in \u001b[0;36mrun\u001b[0;34m(conn, sql, config, user_namespace)\u001b[0m\n\u001b[1;32m    <a href='file:///~/.local/lib/python3.10/site-packages/sql/run.py?line=364'>365</a>\u001b[0m \u001b[39melse\u001b[39;00m:\n\u001b[1;32m    <a href='file:///~/.local/lib/python3.10/site-packages/sql/run.py?line=365'>366</a>\u001b[0m     txt \u001b[39m=\u001b[39m sqlalchemy\u001b[39m.\u001b[39msql\u001b[39m.\u001b[39mtext(statement)\n\u001b[0;32m--> <a href='file:///~/.local/lib/python3.10/site-packages/sql/run.py?line=366'>367</a>\u001b[0m     result \u001b[39m=\u001b[39m conn\u001b[39m.\u001b[39;49msession\u001b[39m.\u001b[39;49mexecute(txt, user_namespace)\n\u001b[1;32m    <a href='file:///~/.local/lib/python3.10/site-packages/sql/run.py?line=367'>368</a>\u001b[0m _commit(conn\u001b[39m=\u001b[39mconn, config\u001b[39m=\u001b[39mconfig)\n\u001b[1;32m    <a href='file:///~/.local/lib/python3.10/site-packages/sql/run.py?line=368'>369</a>\u001b[0m \u001b[39mif\u001b[39;00m result \u001b[39mand\u001b[39;00m config\u001b[39m.\u001b[39mfeedback:\n",
      "File \u001b[0;32m~/.local/lib/python3.10/site-packages/sqlalchemy/engine/base.py:1289\u001b[0m, in \u001b[0;36mConnection.execute\u001b[0;34m(self, statement, *multiparams, **params)\u001b[0m\n\u001b[1;32m   <a href='file:///~/.local/lib/python3.10/site-packages/sqlalchemy/engine/base.py?line=1284'>1285</a>\u001b[0m     util\u001b[39m.\u001b[39mraise_(\n\u001b[1;32m   <a href='file:///~/.local/lib/python3.10/site-packages/sqlalchemy/engine/base.py?line=1285'>1286</a>\u001b[0m         exc\u001b[39m.\u001b[39mObjectNotExecutableError(statement), replace_context\u001b[39m=\u001b[39merr\n\u001b[1;32m   <a href='file:///~/.local/lib/python3.10/site-packages/sqlalchemy/engine/base.py?line=1286'>1287</a>\u001b[0m     )\n\u001b[1;32m   <a href='file:///~/.local/lib/python3.10/site-packages/sqlalchemy/engine/base.py?line=1287'>1288</a>\u001b[0m \u001b[39melse\u001b[39;00m:\n\u001b[0;32m-> <a href='file:///~/.local/lib/python3.10/site-packages/sqlalchemy/engine/base.py?line=1288'>1289</a>\u001b[0m     \u001b[39mreturn\u001b[39;00m meth(\u001b[39mself\u001b[39;49m, multiparams, params, _EMPTY_EXECUTION_OPTS)\n",
      "File \u001b[0;32m~/.local/lib/python3.10/site-packages/sqlalchemy/sql/elements.py:325\u001b[0m, in \u001b[0;36mClauseElement._execute_on_connection\u001b[0;34m(self, connection, multiparams, params, execution_options, _force)\u001b[0m\n\u001b[1;32m    <a href='file:///~/.local/lib/python3.10/site-packages/sqlalchemy/sql/elements.py?line=320'>321</a>\u001b[0m \u001b[39mdef\u001b[39;00m \u001b[39m_execute_on_connection\u001b[39m(\n\u001b[1;32m    <a href='file:///~/.local/lib/python3.10/site-packages/sqlalchemy/sql/elements.py?line=321'>322</a>\u001b[0m     \u001b[39mself\u001b[39m, connection, multiparams, params, execution_options, _force\u001b[39m=\u001b[39m\u001b[39mFalse\u001b[39;00m\n\u001b[1;32m    <a href='file:///~/.local/lib/python3.10/site-packages/sqlalchemy/sql/elements.py?line=322'>323</a>\u001b[0m ):\n\u001b[1;32m    <a href='file:///~/.local/lib/python3.10/site-packages/sqlalchemy/sql/elements.py?line=323'>324</a>\u001b[0m     \u001b[39mif\u001b[39;00m _force \u001b[39mor\u001b[39;00m \u001b[39mself\u001b[39m\u001b[39m.\u001b[39msupports_execution:\n\u001b[0;32m--> <a href='file:///~/.local/lib/python3.10/site-packages/sqlalchemy/sql/elements.py?line=324'>325</a>\u001b[0m         \u001b[39mreturn\u001b[39;00m connection\u001b[39m.\u001b[39;49m_execute_clauseelement(\n\u001b[1;32m    <a href='file:///~/.local/lib/python3.10/site-packages/sqlalchemy/sql/elements.py?line=325'>326</a>\u001b[0m             \u001b[39mself\u001b[39;49m, multiparams, params, execution_options\n\u001b[1;32m    <a href='file:///~/.local/lib/python3.10/site-packages/sqlalchemy/sql/elements.py?line=326'>327</a>\u001b[0m         )\n\u001b[1;32m    <a href='file:///~/.local/lib/python3.10/site-packages/sqlalchemy/sql/elements.py?line=327'>328</a>\u001b[0m     \u001b[39melse\u001b[39;00m:\n\u001b[1;32m    <a href='file:///~/.local/lib/python3.10/site-packages/sqlalchemy/sql/elements.py?line=328'>329</a>\u001b[0m         \u001b[39mraise\u001b[39;00m exc\u001b[39m.\u001b[39mObjectNotExecutableError(\u001b[39mself\u001b[39m)\n",
      "File \u001b[0;32m~/.local/lib/python3.10/site-packages/sqlalchemy/engine/base.py:1481\u001b[0m, in \u001b[0;36mConnection._execute_clauseelement\u001b[0;34m(self, elem, multiparams, params, execution_options)\u001b[0m\n\u001b[1;32m   <a href='file:///~/.local/lib/python3.10/site-packages/sqlalchemy/engine/base.py?line=1468'>1469</a>\u001b[0m compiled_cache \u001b[39m=\u001b[39m execution_options\u001b[39m.\u001b[39mget(\n\u001b[1;32m   <a href='file:///~/.local/lib/python3.10/site-packages/sqlalchemy/engine/base.py?line=1469'>1470</a>\u001b[0m     \u001b[39m\"\u001b[39m\u001b[39mcompiled_cache\u001b[39m\u001b[39m\"\u001b[39m, \u001b[39mself\u001b[39m\u001b[39m.\u001b[39mengine\u001b[39m.\u001b[39m_compiled_cache\n\u001b[1;32m   <a href='file:///~/.local/lib/python3.10/site-packages/sqlalchemy/engine/base.py?line=1470'>1471</a>\u001b[0m )\n\u001b[1;32m   <a href='file:///~/.local/lib/python3.10/site-packages/sqlalchemy/engine/base.py?line=1472'>1473</a>\u001b[0m compiled_sql, extracted_params, cache_hit \u001b[39m=\u001b[39m elem\u001b[39m.\u001b[39m_compile_w_cache(\n\u001b[1;32m   <a href='file:///~/.local/lib/python3.10/site-packages/sqlalchemy/engine/base.py?line=1473'>1474</a>\u001b[0m     dialect\u001b[39m=\u001b[39mdialect,\n\u001b[1;32m   <a href='file:///~/.local/lib/python3.10/site-packages/sqlalchemy/engine/base.py?line=1474'>1475</a>\u001b[0m     compiled_cache\u001b[39m=\u001b[39mcompiled_cache,\n\u001b[0;32m   (...)\u001b[0m\n\u001b[1;32m   <a href='file:///~/.local/lib/python3.10/site-packages/sqlalchemy/engine/base.py?line=1478'>1479</a>\u001b[0m     linting\u001b[39m=\u001b[39m\u001b[39mself\u001b[39m\u001b[39m.\u001b[39mdialect\u001b[39m.\u001b[39mcompiler_linting \u001b[39m|\u001b[39m compiler\u001b[39m.\u001b[39mWARN_LINTING,\n\u001b[1;32m   <a href='file:///~/.local/lib/python3.10/site-packages/sqlalchemy/engine/base.py?line=1479'>1480</a>\u001b[0m )\n\u001b[0;32m-> <a href='file:///~/.local/lib/python3.10/site-packages/sqlalchemy/engine/base.py?line=1480'>1481</a>\u001b[0m ret \u001b[39m=\u001b[39m \u001b[39mself\u001b[39;49m\u001b[39m.\u001b[39;49m_execute_context(\n\u001b[1;32m   <a href='file:///~/.local/lib/python3.10/site-packages/sqlalchemy/engine/base.py?line=1481'>1482</a>\u001b[0m     dialect,\n\u001b[1;32m   <a href='file:///~/.local/lib/python3.10/site-packages/sqlalchemy/engine/base.py?line=1482'>1483</a>\u001b[0m     dialect\u001b[39m.\u001b[39;49mexecution_ctx_cls\u001b[39m.\u001b[39;49m_init_compiled,\n\u001b[1;32m   <a href='file:///~/.local/lib/python3.10/site-packages/sqlalchemy/engine/base.py?line=1483'>1484</a>\u001b[0m     compiled_sql,\n\u001b[1;32m   <a href='file:///~/.local/lib/python3.10/site-packages/sqlalchemy/engine/base.py?line=1484'>1485</a>\u001b[0m     distilled_params,\n\u001b[1;32m   <a href='file:///~/.local/lib/python3.10/site-packages/sqlalchemy/engine/base.py?line=1485'>1486</a>\u001b[0m     execution_options,\n\u001b[1;32m   <a href='file:///~/.local/lib/python3.10/site-packages/sqlalchemy/engine/base.py?line=1486'>1487</a>\u001b[0m     compiled_sql,\n\u001b[1;32m   <a href='file:///~/.local/lib/python3.10/site-packages/sqlalchemy/engine/base.py?line=1487'>1488</a>\u001b[0m     distilled_params,\n\u001b[1;32m   <a href='file:///~/.local/lib/python3.10/site-packages/sqlalchemy/engine/base.py?line=1488'>1489</a>\u001b[0m     elem,\n\u001b[1;32m   <a href='file:///~/.local/lib/python3.10/site-packages/sqlalchemy/engine/base.py?line=1489'>1490</a>\u001b[0m     extracted_params,\n\u001b[1;32m   <a href='file:///~/.local/lib/python3.10/site-packages/sqlalchemy/engine/base.py?line=1490'>1491</a>\u001b[0m     cache_hit\u001b[39m=\u001b[39;49mcache_hit,\n\u001b[1;32m   <a href='file:///~/.local/lib/python3.10/site-packages/sqlalchemy/engine/base.py?line=1491'>1492</a>\u001b[0m )\n\u001b[1;32m   <a href='file:///~/.local/lib/python3.10/site-packages/sqlalchemy/engine/base.py?line=1492'>1493</a>\u001b[0m \u001b[39mif\u001b[39;00m has_events:\n\u001b[1;32m   <a href='file:///~/.local/lib/python3.10/site-packages/sqlalchemy/engine/base.py?line=1493'>1494</a>\u001b[0m     \u001b[39mself\u001b[39m\u001b[39m.\u001b[39mdispatch\u001b[39m.\u001b[39mafter_execute(\n\u001b[1;32m   <a href='file:///~/.local/lib/python3.10/site-packages/sqlalchemy/engine/base.py?line=1494'>1495</a>\u001b[0m         \u001b[39mself\u001b[39m,\n\u001b[1;32m   <a href='file:///~/.local/lib/python3.10/site-packages/sqlalchemy/engine/base.py?line=1495'>1496</a>\u001b[0m         elem,\n\u001b[0;32m   (...)\u001b[0m\n\u001b[1;32m   <a href='file:///~/.local/lib/python3.10/site-packages/sqlalchemy/engine/base.py?line=1499'>1500</a>\u001b[0m         ret,\n\u001b[1;32m   <a href='file:///~/.local/lib/python3.10/site-packages/sqlalchemy/engine/base.py?line=1500'>1501</a>\u001b[0m     )\n",
      "File \u001b[0;32m~/.local/lib/python3.10/site-packages/sqlalchemy/engine/base.py:1845\u001b[0m, in \u001b[0;36mConnection._execute_context\u001b[0;34m(self, dialect, constructor, statement, parameters, execution_options, *args, **kw)\u001b[0m\n\u001b[1;32m   <a href='file:///~/.local/lib/python3.10/site-packages/sqlalchemy/engine/base.py?line=1841'>1842</a>\u001b[0m             branched\u001b[39m.\u001b[39mclose()\n\u001b[1;32m   <a href='file:///~/.local/lib/python3.10/site-packages/sqlalchemy/engine/base.py?line=1843'>1844</a>\u001b[0m \u001b[39mexcept\u001b[39;00m \u001b[39mBaseException\u001b[39;00m \u001b[39mas\u001b[39;00m e:\n\u001b[0;32m-> <a href='file:///~/.local/lib/python3.10/site-packages/sqlalchemy/engine/base.py?line=1844'>1845</a>\u001b[0m     \u001b[39mself\u001b[39;49m\u001b[39m.\u001b[39;49m_handle_dbapi_exception(\n\u001b[1;32m   <a href='file:///~/.local/lib/python3.10/site-packages/sqlalchemy/engine/base.py?line=1845'>1846</a>\u001b[0m         e, statement, parameters, cursor, context\n\u001b[1;32m   <a href='file:///~/.local/lib/python3.10/site-packages/sqlalchemy/engine/base.py?line=1846'>1847</a>\u001b[0m     )\n\u001b[1;32m   <a href='file:///~/.local/lib/python3.10/site-packages/sqlalchemy/engine/base.py?line=1848'>1849</a>\u001b[0m \u001b[39mreturn\u001b[39;00m result\n",
      "File \u001b[0;32m~/.local/lib/python3.10/site-packages/sqlalchemy/engine/base.py:2026\u001b[0m, in \u001b[0;36mConnection._handle_dbapi_exception\u001b[0;34m(self, e, statement, parameters, cursor, context)\u001b[0m\n\u001b[1;32m   <a href='file:///~/.local/lib/python3.10/site-packages/sqlalchemy/engine/base.py?line=2023'>2024</a>\u001b[0m     util\u001b[39m.\u001b[39mraise_(newraise, with_traceback\u001b[39m=\u001b[39mexc_info[\u001b[39m2\u001b[39m], from_\u001b[39m=\u001b[39me)\n\u001b[1;32m   <a href='file:///~/.local/lib/python3.10/site-packages/sqlalchemy/engine/base.py?line=2024'>2025</a>\u001b[0m \u001b[39melif\u001b[39;00m should_wrap:\n\u001b[0;32m-> <a href='file:///~/.local/lib/python3.10/site-packages/sqlalchemy/engine/base.py?line=2025'>2026</a>\u001b[0m     util\u001b[39m.\u001b[39;49mraise_(\n\u001b[1;32m   <a href='file:///~/.local/lib/python3.10/site-packages/sqlalchemy/engine/base.py?line=2026'>2027</a>\u001b[0m         sqlalchemy_exception, with_traceback\u001b[39m=\u001b[39;49mexc_info[\u001b[39m2\u001b[39;49m], from_\u001b[39m=\u001b[39;49me\n\u001b[1;32m   <a href='file:///~/.local/lib/python3.10/site-packages/sqlalchemy/engine/base.py?line=2027'>2028</a>\u001b[0m     )\n\u001b[1;32m   <a href='file:///~/.local/lib/python3.10/site-packages/sqlalchemy/engine/base.py?line=2028'>2029</a>\u001b[0m \u001b[39melse\u001b[39;00m:\n\u001b[1;32m   <a href='file:///~/.local/lib/python3.10/site-packages/sqlalchemy/engine/base.py?line=2029'>2030</a>\u001b[0m     util\u001b[39m.\u001b[39mraise_(exc_info[\u001b[39m1\u001b[39m], with_traceback\u001b[39m=\u001b[39mexc_info[\u001b[39m2\u001b[39m])\n",
      "File \u001b[0;32m~/.local/lib/python3.10/site-packages/sqlalchemy/util/compat.py:207\u001b[0m, in \u001b[0;36mraise_\u001b[0;34m(***failed resolving arguments***)\u001b[0m\n\u001b[1;32m    <a href='file:///~/.local/lib/python3.10/site-packages/sqlalchemy/util/compat.py?line=203'>204</a>\u001b[0m     exception\u001b[39m.\u001b[39m__cause__ \u001b[39m=\u001b[39m replace_context\n\u001b[1;32m    <a href='file:///~/.local/lib/python3.10/site-packages/sqlalchemy/util/compat.py?line=205'>206</a>\u001b[0m \u001b[39mtry\u001b[39;00m:\n\u001b[0;32m--> <a href='file:///~/.local/lib/python3.10/site-packages/sqlalchemy/util/compat.py?line=206'>207</a>\u001b[0m     \u001b[39mraise\u001b[39;00m exception\n\u001b[1;32m    <a href='file:///~/.local/lib/python3.10/site-packages/sqlalchemy/util/compat.py?line=207'>208</a>\u001b[0m \u001b[39mfinally\u001b[39;00m:\n\u001b[1;32m    <a href='file:///~/.local/lib/python3.10/site-packages/sqlalchemy/util/compat.py?line=208'>209</a>\u001b[0m     \u001b[39m# credit to\u001b[39;00m\n\u001b[1;32m    <a href='file:///~/.local/lib/python3.10/site-packages/sqlalchemy/util/compat.py?line=209'>210</a>\u001b[0m     \u001b[39m# https://cosmicpercolator.com/2016/01/13/exception-leaks-in-python-2-and-3/\u001b[39;00m\n\u001b[1;32m    <a href='file:///~/.local/lib/python3.10/site-packages/sqlalchemy/util/compat.py?line=210'>211</a>\u001b[0m     \u001b[39m# as the __traceback__ object creates a cycle\u001b[39;00m\n\u001b[1;32m    <a href='file:///~/.local/lib/python3.10/site-packages/sqlalchemy/util/compat.py?line=211'>212</a>\u001b[0m     \u001b[39mdel\u001b[39;00m exception, replace_context, from_, with_traceback\n",
      "File \u001b[0;32m~/.local/lib/python3.10/site-packages/sqlalchemy/engine/base.py:1802\u001b[0m, in \u001b[0;36mConnection._execute_context\u001b[0;34m(self, dialect, constructor, statement, parameters, execution_options, *args, **kw)\u001b[0m\n\u001b[1;32m   <a href='file:///~/.local/lib/python3.10/site-packages/sqlalchemy/engine/base.py?line=1799'>1800</a>\u001b[0m                 \u001b[39mbreak\u001b[39;00m\n\u001b[1;32m   <a href='file:///~/.local/lib/python3.10/site-packages/sqlalchemy/engine/base.py?line=1800'>1801</a>\u001b[0m     \u001b[39mif\u001b[39;00m \u001b[39mnot\u001b[39;00m evt_handled:\n\u001b[0;32m-> <a href='file:///~/.local/lib/python3.10/site-packages/sqlalchemy/engine/base.py?line=1801'>1802</a>\u001b[0m         \u001b[39mself\u001b[39;49m\u001b[39m.\u001b[39;49mdialect\u001b[39m.\u001b[39;49mdo_execute(\n\u001b[1;32m   <a href='file:///~/.local/lib/python3.10/site-packages/sqlalchemy/engine/base.py?line=1802'>1803</a>\u001b[0m             cursor, statement, parameters, context\n\u001b[1;32m   <a href='file:///~/.local/lib/python3.10/site-packages/sqlalchemy/engine/base.py?line=1803'>1804</a>\u001b[0m         )\n\u001b[1;32m   <a href='file:///~/.local/lib/python3.10/site-packages/sqlalchemy/engine/base.py?line=1805'>1806</a>\u001b[0m \u001b[39mif\u001b[39;00m \u001b[39mself\u001b[39m\u001b[39m.\u001b[39m_has_events \u001b[39mor\u001b[39;00m \u001b[39mself\u001b[39m\u001b[39m.\u001b[39mengine\u001b[39m.\u001b[39m_has_events:\n\u001b[1;32m   <a href='file:///~/.local/lib/python3.10/site-packages/sqlalchemy/engine/base.py?line=1806'>1807</a>\u001b[0m     \u001b[39mself\u001b[39m\u001b[39m.\u001b[39mdispatch\u001b[39m.\u001b[39mafter_cursor_execute(\n\u001b[1;32m   <a href='file:///~/.local/lib/python3.10/site-packages/sqlalchemy/engine/base.py?line=1807'>1808</a>\u001b[0m         \u001b[39mself\u001b[39m,\n\u001b[1;32m   <a href='file:///~/.local/lib/python3.10/site-packages/sqlalchemy/engine/base.py?line=1808'>1809</a>\u001b[0m         cursor,\n\u001b[0;32m   (...)\u001b[0m\n\u001b[1;32m   <a href='file:///~/.local/lib/python3.10/site-packages/sqlalchemy/engine/base.py?line=1812'>1813</a>\u001b[0m         context\u001b[39m.\u001b[39mexecutemany,\n\u001b[1;32m   <a href='file:///~/.local/lib/python3.10/site-packages/sqlalchemy/engine/base.py?line=1813'>1814</a>\u001b[0m     )\n",
      "File \u001b[0;32m~/.local/lib/python3.10/site-packages/sqlalchemy/engine/default.py:732\u001b[0m, in \u001b[0;36mDefaultDialect.do_execute\u001b[0;34m(self, cursor, statement, parameters, context)\u001b[0m\n\u001b[1;32m    <a href='file:///~/.local/lib/python3.10/site-packages/sqlalchemy/engine/default.py?line=730'>731</a>\u001b[0m \u001b[39mdef\u001b[39;00m \u001b[39mdo_execute\u001b[39m(\u001b[39mself\u001b[39m, cursor, statement, parameters, context\u001b[39m=\u001b[39m\u001b[39mNone\u001b[39;00m):\n\u001b[0;32m--> <a href='file:///~/.local/lib/python3.10/site-packages/sqlalchemy/engine/default.py?line=731'>732</a>\u001b[0m     cursor\u001b[39m.\u001b[39;49mexecute(statement, parameters)\n",
      "\u001b[0;31mIntegrityError\u001b[0m: (sqlite3.IntegrityError) FOREIGN KEY constraint failed\n[SQL: INSERT INTO tickets (screening_id, customer_id)\nVALUES\n  ((SELECT screening_id FROM screenings LIMIT 1), \"potato\");]\n(Background on this error at: https://sqlalche.me/e/14/gkpj)"
     ]
    }
   ],
   "source": [
    "%%sql\n",
    "INSERT INTO tickets (screening_id, customer_id)\n",
    "VALUES\n",
    "  ((SELECT screening_id FROM screenings LIMIT 1), \"potato\");"
   ]
  },
  {
   "cell_type": "code",
   "execution_count": 88,
   "id": "b78e8bda",
   "metadata": {},
   "outputs": [
    {
     "name": "stdout",
     "output_type": "stream",
     "text": [
      " * sqlite:///movies.sqlite\n"
     ]
    },
    {
     "ename": "IntegrityError",
     "evalue": "(sqlite3.IntegrityError) FOREIGN KEY constraint failed\n[SQL: INSERT INTO tickets (screening_id, customer_id)\nVALUES\n  (\"potato\", (SELECT customer_id FROM customers LIMIT 1));]\n(Background on this error at: https://sqlalche.me/e/14/gkpj)",
     "output_type": "error",
     "traceback": [
      "\u001b[0;31m---------------------------------------------------------------------------\u001b[0m",
      "\u001b[0;31mIntegrityError\u001b[0m                            Traceback (most recent call last)",
      "File \u001b[0;32m~/.local/lib/python3.10/site-packages/sqlalchemy/engine/base.py:1802\u001b[0m, in \u001b[0;36mConnection._execute_context\u001b[0;34m(self, dialect, constructor, statement, parameters, execution_options, *args, **kw)\u001b[0m\n\u001b[1;32m   <a href='file:///~/.local/lib/python3.10/site-packages/sqlalchemy/engine/base.py?line=1800'>1801</a>\u001b[0m     \u001b[39mif\u001b[39;00m \u001b[39mnot\u001b[39;00m evt_handled:\n\u001b[0;32m-> <a href='file:///~/.local/lib/python3.10/site-packages/sqlalchemy/engine/base.py?line=1801'>1802</a>\u001b[0m         \u001b[39mself\u001b[39;49m\u001b[39m.\u001b[39;49mdialect\u001b[39m.\u001b[39;49mdo_execute(\n\u001b[1;32m   <a href='file:///~/.local/lib/python3.10/site-packages/sqlalchemy/engine/base.py?line=1802'>1803</a>\u001b[0m             cursor, statement, parameters, context\n\u001b[1;32m   <a href='file:///~/.local/lib/python3.10/site-packages/sqlalchemy/engine/base.py?line=1803'>1804</a>\u001b[0m         )\n\u001b[1;32m   <a href='file:///~/.local/lib/python3.10/site-packages/sqlalchemy/engine/base.py?line=1805'>1806</a>\u001b[0m \u001b[39mif\u001b[39;00m \u001b[39mself\u001b[39m\u001b[39m.\u001b[39m_has_events \u001b[39mor\u001b[39;00m \u001b[39mself\u001b[39m\u001b[39m.\u001b[39mengine\u001b[39m.\u001b[39m_has_events:\n",
      "File \u001b[0;32m~/.local/lib/python3.10/site-packages/sqlalchemy/engine/default.py:732\u001b[0m, in \u001b[0;36mDefaultDialect.do_execute\u001b[0;34m(self, cursor, statement, parameters, context)\u001b[0m\n\u001b[1;32m    <a href='file:///~/.local/lib/python3.10/site-packages/sqlalchemy/engine/default.py?line=730'>731</a>\u001b[0m \u001b[39mdef\u001b[39;00m \u001b[39mdo_execute\u001b[39m(\u001b[39mself\u001b[39m, cursor, statement, parameters, context\u001b[39m=\u001b[39m\u001b[39mNone\u001b[39;00m):\n\u001b[0;32m--> <a href='file:///~/.local/lib/python3.10/site-packages/sqlalchemy/engine/default.py?line=731'>732</a>\u001b[0m     cursor\u001b[39m.\u001b[39;49mexecute(statement, parameters)\n",
      "\u001b[0;31mIntegrityError\u001b[0m: FOREIGN KEY constraint failed",
      "\nThe above exception was the direct cause of the following exception:\n",
      "\u001b[0;31mIntegrityError\u001b[0m                            Traceback (most recent call last)",
      "\u001b[1;32m/home/erik/Downloads/lab2/lab2-nb.ipynb Cell 31'\u001b[0m in \u001b[0;36m<module>\u001b[0;34m\u001b[0m\n\u001b[0;32m----> <a href='vscode-notebook-cell:/home/erik/Downloads/lab2/lab2-nb.ipynb#ch0000031?line=0'>1</a>\u001b[0m get_ipython()\u001b[39m.\u001b[39;49mrun_cell_magic(\u001b[39m'\u001b[39;49m\u001b[39msql\u001b[39;49m\u001b[39m'\u001b[39;49m, \u001b[39m'\u001b[39;49m\u001b[39m'\u001b[39;49m, \u001b[39m'\u001b[39;49m\u001b[39mINSERT INTO tickets (screening_id, customer_id)\u001b[39;49m\u001b[39m\\n\u001b[39;49;00m\u001b[39mVALUES\u001b[39;49m\u001b[39m\\n\u001b[39;49;00m\u001b[39m  (\u001b[39;49m\u001b[39m\"\u001b[39;49m\u001b[39mpotato\u001b[39;49m\u001b[39m\"\u001b[39;49m\u001b[39m, (SELECT customer_id FROM customers LIMIT 1));\u001b[39;49m\u001b[39m\\n\u001b[39;49;00m\u001b[39m'\u001b[39;49m)\n",
      "File \u001b[0;32m~/.local/lib/python3.10/site-packages/IPython/core/interactiveshell.py:2257\u001b[0m, in \u001b[0;36mInteractiveShell.run_cell_magic\u001b[0;34m(self, magic_name, line, cell)\u001b[0m\n\u001b[1;32m   <a href='file:///~/.local/lib/python3.10/site-packages/IPython/core/interactiveshell.py?line=2254'>2255</a>\u001b[0m \u001b[39mwith\u001b[39;00m \u001b[39mself\u001b[39m\u001b[39m.\u001b[39mbuiltin_trap:\n\u001b[1;32m   <a href='file:///~/.local/lib/python3.10/site-packages/IPython/core/interactiveshell.py?line=2255'>2256</a>\u001b[0m     args \u001b[39m=\u001b[39m (magic_arg_s, cell)\n\u001b[0;32m-> <a href='file:///~/.local/lib/python3.10/site-packages/IPython/core/interactiveshell.py?line=2256'>2257</a>\u001b[0m     result \u001b[39m=\u001b[39m fn(\u001b[39m*\u001b[39;49margs, \u001b[39m*\u001b[39;49m\u001b[39m*\u001b[39;49mkwargs)\n\u001b[1;32m   <a href='file:///~/.local/lib/python3.10/site-packages/IPython/core/interactiveshell.py?line=2257'>2258</a>\u001b[0m \u001b[39mreturn\u001b[39;00m result\n",
      "File \u001b[0;32m~/.local/lib/python3.10/site-packages/sql/magic.py:217\u001b[0m, in \u001b[0;36mSqlMagic.execute\u001b[0;34m(self, line, cell, local_ns)\u001b[0m\n\u001b[1;32m    <a href='file:///~/.local/lib/python3.10/site-packages/sql/magic.py?line=213'>214</a>\u001b[0m     \u001b[39mreturn\u001b[39;00m\n\u001b[1;32m    <a href='file:///~/.local/lib/python3.10/site-packages/sql/magic.py?line=215'>216</a>\u001b[0m \u001b[39mtry\u001b[39;00m:\n\u001b[0;32m--> <a href='file:///~/.local/lib/python3.10/site-packages/sql/magic.py?line=216'>217</a>\u001b[0m     result \u001b[39m=\u001b[39m sql\u001b[39m.\u001b[39;49mrun\u001b[39m.\u001b[39;49mrun(conn, parsed[\u001b[39m\"\u001b[39;49m\u001b[39msql\u001b[39;49m\u001b[39m\"\u001b[39;49m], \u001b[39mself\u001b[39;49m, user_ns)\n\u001b[1;32m    <a href='file:///~/.local/lib/python3.10/site-packages/sql/magic.py?line=218'>219</a>\u001b[0m     \u001b[39mif\u001b[39;00m (\n\u001b[1;32m    <a href='file:///~/.local/lib/python3.10/site-packages/sql/magic.py?line=219'>220</a>\u001b[0m         result \u001b[39mis\u001b[39;00m \u001b[39mnot\u001b[39;00m \u001b[39mNone\u001b[39;00m\n\u001b[1;32m    <a href='file:///~/.local/lib/python3.10/site-packages/sql/magic.py?line=220'>221</a>\u001b[0m         \u001b[39mand\u001b[39;00m \u001b[39mnot\u001b[39;00m \u001b[39misinstance\u001b[39m(result, \u001b[39mstr\u001b[39m)\n\u001b[0;32m   (...)\u001b[0m\n\u001b[1;32m    <a href='file:///~/.local/lib/python3.10/site-packages/sql/magic.py?line=223'>224</a>\u001b[0m         \u001b[39m# Instead of returning values, set variables directly in the\u001b[39;00m\n\u001b[1;32m    <a href='file:///~/.local/lib/python3.10/site-packages/sql/magic.py?line=224'>225</a>\u001b[0m         \u001b[39m# users namespace. Variable names given by column names\u001b[39;00m\n\u001b[1;32m    <a href='file:///~/.local/lib/python3.10/site-packages/sql/magic.py?line=226'>227</a>\u001b[0m         \u001b[39mif\u001b[39;00m \u001b[39mself\u001b[39m\u001b[39m.\u001b[39mautopandas:\n",
      "File \u001b[0;32m~/.local/lib/python3.10/site-packages/sql/run.py:367\u001b[0m, in \u001b[0;36mrun\u001b[0;34m(conn, sql, config, user_namespace)\u001b[0m\n\u001b[1;32m    <a href='file:///~/.local/lib/python3.10/site-packages/sql/run.py?line=364'>365</a>\u001b[0m \u001b[39melse\u001b[39;00m:\n\u001b[1;32m    <a href='file:///~/.local/lib/python3.10/site-packages/sql/run.py?line=365'>366</a>\u001b[0m     txt \u001b[39m=\u001b[39m sqlalchemy\u001b[39m.\u001b[39msql\u001b[39m.\u001b[39mtext(statement)\n\u001b[0;32m--> <a href='file:///~/.local/lib/python3.10/site-packages/sql/run.py?line=366'>367</a>\u001b[0m     result \u001b[39m=\u001b[39m conn\u001b[39m.\u001b[39;49msession\u001b[39m.\u001b[39;49mexecute(txt, user_namespace)\n\u001b[1;32m    <a href='file:///~/.local/lib/python3.10/site-packages/sql/run.py?line=367'>368</a>\u001b[0m _commit(conn\u001b[39m=\u001b[39mconn, config\u001b[39m=\u001b[39mconfig)\n\u001b[1;32m    <a href='file:///~/.local/lib/python3.10/site-packages/sql/run.py?line=368'>369</a>\u001b[0m \u001b[39mif\u001b[39;00m result \u001b[39mand\u001b[39;00m config\u001b[39m.\u001b[39mfeedback:\n",
      "File \u001b[0;32m~/.local/lib/python3.10/site-packages/sqlalchemy/engine/base.py:1289\u001b[0m, in \u001b[0;36mConnection.execute\u001b[0;34m(self, statement, *multiparams, **params)\u001b[0m\n\u001b[1;32m   <a href='file:///~/.local/lib/python3.10/site-packages/sqlalchemy/engine/base.py?line=1284'>1285</a>\u001b[0m     util\u001b[39m.\u001b[39mraise_(\n\u001b[1;32m   <a href='file:///~/.local/lib/python3.10/site-packages/sqlalchemy/engine/base.py?line=1285'>1286</a>\u001b[0m         exc\u001b[39m.\u001b[39mObjectNotExecutableError(statement), replace_context\u001b[39m=\u001b[39merr\n\u001b[1;32m   <a href='file:///~/.local/lib/python3.10/site-packages/sqlalchemy/engine/base.py?line=1286'>1287</a>\u001b[0m     )\n\u001b[1;32m   <a href='file:///~/.local/lib/python3.10/site-packages/sqlalchemy/engine/base.py?line=1287'>1288</a>\u001b[0m \u001b[39melse\u001b[39;00m:\n\u001b[0;32m-> <a href='file:///~/.local/lib/python3.10/site-packages/sqlalchemy/engine/base.py?line=1288'>1289</a>\u001b[0m     \u001b[39mreturn\u001b[39;00m meth(\u001b[39mself\u001b[39;49m, multiparams, params, _EMPTY_EXECUTION_OPTS)\n",
      "File \u001b[0;32m~/.local/lib/python3.10/site-packages/sqlalchemy/sql/elements.py:325\u001b[0m, in \u001b[0;36mClauseElement._execute_on_connection\u001b[0;34m(self, connection, multiparams, params, execution_options, _force)\u001b[0m\n\u001b[1;32m    <a href='file:///~/.local/lib/python3.10/site-packages/sqlalchemy/sql/elements.py?line=320'>321</a>\u001b[0m \u001b[39mdef\u001b[39;00m \u001b[39m_execute_on_connection\u001b[39m(\n\u001b[1;32m    <a href='file:///~/.local/lib/python3.10/site-packages/sqlalchemy/sql/elements.py?line=321'>322</a>\u001b[0m     \u001b[39mself\u001b[39m, connection, multiparams, params, execution_options, _force\u001b[39m=\u001b[39m\u001b[39mFalse\u001b[39;00m\n\u001b[1;32m    <a href='file:///~/.local/lib/python3.10/site-packages/sqlalchemy/sql/elements.py?line=322'>323</a>\u001b[0m ):\n\u001b[1;32m    <a href='file:///~/.local/lib/python3.10/site-packages/sqlalchemy/sql/elements.py?line=323'>324</a>\u001b[0m     \u001b[39mif\u001b[39;00m _force \u001b[39mor\u001b[39;00m \u001b[39mself\u001b[39m\u001b[39m.\u001b[39msupports_execution:\n\u001b[0;32m--> <a href='file:///~/.local/lib/python3.10/site-packages/sqlalchemy/sql/elements.py?line=324'>325</a>\u001b[0m         \u001b[39mreturn\u001b[39;00m connection\u001b[39m.\u001b[39;49m_execute_clauseelement(\n\u001b[1;32m    <a href='file:///~/.local/lib/python3.10/site-packages/sqlalchemy/sql/elements.py?line=325'>326</a>\u001b[0m             \u001b[39mself\u001b[39;49m, multiparams, params, execution_options\n\u001b[1;32m    <a href='file:///~/.local/lib/python3.10/site-packages/sqlalchemy/sql/elements.py?line=326'>327</a>\u001b[0m         )\n\u001b[1;32m    <a href='file:///~/.local/lib/python3.10/site-packages/sqlalchemy/sql/elements.py?line=327'>328</a>\u001b[0m     \u001b[39melse\u001b[39;00m:\n\u001b[1;32m    <a href='file:///~/.local/lib/python3.10/site-packages/sqlalchemy/sql/elements.py?line=328'>329</a>\u001b[0m         \u001b[39mraise\u001b[39;00m exc\u001b[39m.\u001b[39mObjectNotExecutableError(\u001b[39mself\u001b[39m)\n",
      "File \u001b[0;32m~/.local/lib/python3.10/site-packages/sqlalchemy/engine/base.py:1481\u001b[0m, in \u001b[0;36mConnection._execute_clauseelement\u001b[0;34m(self, elem, multiparams, params, execution_options)\u001b[0m\n\u001b[1;32m   <a href='file:///~/.local/lib/python3.10/site-packages/sqlalchemy/engine/base.py?line=1468'>1469</a>\u001b[0m compiled_cache \u001b[39m=\u001b[39m execution_options\u001b[39m.\u001b[39mget(\n\u001b[1;32m   <a href='file:///~/.local/lib/python3.10/site-packages/sqlalchemy/engine/base.py?line=1469'>1470</a>\u001b[0m     \u001b[39m\"\u001b[39m\u001b[39mcompiled_cache\u001b[39m\u001b[39m\"\u001b[39m, \u001b[39mself\u001b[39m\u001b[39m.\u001b[39mengine\u001b[39m.\u001b[39m_compiled_cache\n\u001b[1;32m   <a href='file:///~/.local/lib/python3.10/site-packages/sqlalchemy/engine/base.py?line=1470'>1471</a>\u001b[0m )\n\u001b[1;32m   <a href='file:///~/.local/lib/python3.10/site-packages/sqlalchemy/engine/base.py?line=1472'>1473</a>\u001b[0m compiled_sql, extracted_params, cache_hit \u001b[39m=\u001b[39m elem\u001b[39m.\u001b[39m_compile_w_cache(\n\u001b[1;32m   <a href='file:///~/.local/lib/python3.10/site-packages/sqlalchemy/engine/base.py?line=1473'>1474</a>\u001b[0m     dialect\u001b[39m=\u001b[39mdialect,\n\u001b[1;32m   <a href='file:///~/.local/lib/python3.10/site-packages/sqlalchemy/engine/base.py?line=1474'>1475</a>\u001b[0m     compiled_cache\u001b[39m=\u001b[39mcompiled_cache,\n\u001b[0;32m   (...)\u001b[0m\n\u001b[1;32m   <a href='file:///~/.local/lib/python3.10/site-packages/sqlalchemy/engine/base.py?line=1478'>1479</a>\u001b[0m     linting\u001b[39m=\u001b[39m\u001b[39mself\u001b[39m\u001b[39m.\u001b[39mdialect\u001b[39m.\u001b[39mcompiler_linting \u001b[39m|\u001b[39m compiler\u001b[39m.\u001b[39mWARN_LINTING,\n\u001b[1;32m   <a href='file:///~/.local/lib/python3.10/site-packages/sqlalchemy/engine/base.py?line=1479'>1480</a>\u001b[0m )\n\u001b[0;32m-> <a href='file:///~/.local/lib/python3.10/site-packages/sqlalchemy/engine/base.py?line=1480'>1481</a>\u001b[0m ret \u001b[39m=\u001b[39m \u001b[39mself\u001b[39;49m\u001b[39m.\u001b[39;49m_execute_context(\n\u001b[1;32m   <a href='file:///~/.local/lib/python3.10/site-packages/sqlalchemy/engine/base.py?line=1481'>1482</a>\u001b[0m     dialect,\n\u001b[1;32m   <a href='file:///~/.local/lib/python3.10/site-packages/sqlalchemy/engine/base.py?line=1482'>1483</a>\u001b[0m     dialect\u001b[39m.\u001b[39;49mexecution_ctx_cls\u001b[39m.\u001b[39;49m_init_compiled,\n\u001b[1;32m   <a href='file:///~/.local/lib/python3.10/site-packages/sqlalchemy/engine/base.py?line=1483'>1484</a>\u001b[0m     compiled_sql,\n\u001b[1;32m   <a href='file:///~/.local/lib/python3.10/site-packages/sqlalchemy/engine/base.py?line=1484'>1485</a>\u001b[0m     distilled_params,\n\u001b[1;32m   <a href='file:///~/.local/lib/python3.10/site-packages/sqlalchemy/engine/base.py?line=1485'>1486</a>\u001b[0m     execution_options,\n\u001b[1;32m   <a href='file:///~/.local/lib/python3.10/site-packages/sqlalchemy/engine/base.py?line=1486'>1487</a>\u001b[0m     compiled_sql,\n\u001b[1;32m   <a href='file:///~/.local/lib/python3.10/site-packages/sqlalchemy/engine/base.py?line=1487'>1488</a>\u001b[0m     distilled_params,\n\u001b[1;32m   <a href='file:///~/.local/lib/python3.10/site-packages/sqlalchemy/engine/base.py?line=1488'>1489</a>\u001b[0m     elem,\n\u001b[1;32m   <a href='file:///~/.local/lib/python3.10/site-packages/sqlalchemy/engine/base.py?line=1489'>1490</a>\u001b[0m     extracted_params,\n\u001b[1;32m   <a href='file:///~/.local/lib/python3.10/site-packages/sqlalchemy/engine/base.py?line=1490'>1491</a>\u001b[0m     cache_hit\u001b[39m=\u001b[39;49mcache_hit,\n\u001b[1;32m   <a href='file:///~/.local/lib/python3.10/site-packages/sqlalchemy/engine/base.py?line=1491'>1492</a>\u001b[0m )\n\u001b[1;32m   <a href='file:///~/.local/lib/python3.10/site-packages/sqlalchemy/engine/base.py?line=1492'>1493</a>\u001b[0m \u001b[39mif\u001b[39;00m has_events:\n\u001b[1;32m   <a href='file:///~/.local/lib/python3.10/site-packages/sqlalchemy/engine/base.py?line=1493'>1494</a>\u001b[0m     \u001b[39mself\u001b[39m\u001b[39m.\u001b[39mdispatch\u001b[39m.\u001b[39mafter_execute(\n\u001b[1;32m   <a href='file:///~/.local/lib/python3.10/site-packages/sqlalchemy/engine/base.py?line=1494'>1495</a>\u001b[0m         \u001b[39mself\u001b[39m,\n\u001b[1;32m   <a href='file:///~/.local/lib/python3.10/site-packages/sqlalchemy/engine/base.py?line=1495'>1496</a>\u001b[0m         elem,\n\u001b[0;32m   (...)\u001b[0m\n\u001b[1;32m   <a href='file:///~/.local/lib/python3.10/site-packages/sqlalchemy/engine/base.py?line=1499'>1500</a>\u001b[0m         ret,\n\u001b[1;32m   <a href='file:///~/.local/lib/python3.10/site-packages/sqlalchemy/engine/base.py?line=1500'>1501</a>\u001b[0m     )\n",
      "File \u001b[0;32m~/.local/lib/python3.10/site-packages/sqlalchemy/engine/base.py:1845\u001b[0m, in \u001b[0;36mConnection._execute_context\u001b[0;34m(self, dialect, constructor, statement, parameters, execution_options, *args, **kw)\u001b[0m\n\u001b[1;32m   <a href='file:///~/.local/lib/python3.10/site-packages/sqlalchemy/engine/base.py?line=1841'>1842</a>\u001b[0m             branched\u001b[39m.\u001b[39mclose()\n\u001b[1;32m   <a href='file:///~/.local/lib/python3.10/site-packages/sqlalchemy/engine/base.py?line=1843'>1844</a>\u001b[0m \u001b[39mexcept\u001b[39;00m \u001b[39mBaseException\u001b[39;00m \u001b[39mas\u001b[39;00m e:\n\u001b[0;32m-> <a href='file:///~/.local/lib/python3.10/site-packages/sqlalchemy/engine/base.py?line=1844'>1845</a>\u001b[0m     \u001b[39mself\u001b[39;49m\u001b[39m.\u001b[39;49m_handle_dbapi_exception(\n\u001b[1;32m   <a href='file:///~/.local/lib/python3.10/site-packages/sqlalchemy/engine/base.py?line=1845'>1846</a>\u001b[0m         e, statement, parameters, cursor, context\n\u001b[1;32m   <a href='file:///~/.local/lib/python3.10/site-packages/sqlalchemy/engine/base.py?line=1846'>1847</a>\u001b[0m     )\n\u001b[1;32m   <a href='file:///~/.local/lib/python3.10/site-packages/sqlalchemy/engine/base.py?line=1848'>1849</a>\u001b[0m \u001b[39mreturn\u001b[39;00m result\n",
      "File \u001b[0;32m~/.local/lib/python3.10/site-packages/sqlalchemy/engine/base.py:2026\u001b[0m, in \u001b[0;36mConnection._handle_dbapi_exception\u001b[0;34m(self, e, statement, parameters, cursor, context)\u001b[0m\n\u001b[1;32m   <a href='file:///~/.local/lib/python3.10/site-packages/sqlalchemy/engine/base.py?line=2023'>2024</a>\u001b[0m     util\u001b[39m.\u001b[39mraise_(newraise, with_traceback\u001b[39m=\u001b[39mexc_info[\u001b[39m2\u001b[39m], from_\u001b[39m=\u001b[39me)\n\u001b[1;32m   <a href='file:///~/.local/lib/python3.10/site-packages/sqlalchemy/engine/base.py?line=2024'>2025</a>\u001b[0m \u001b[39melif\u001b[39;00m should_wrap:\n\u001b[0;32m-> <a href='file:///~/.local/lib/python3.10/site-packages/sqlalchemy/engine/base.py?line=2025'>2026</a>\u001b[0m     util\u001b[39m.\u001b[39;49mraise_(\n\u001b[1;32m   <a href='file:///~/.local/lib/python3.10/site-packages/sqlalchemy/engine/base.py?line=2026'>2027</a>\u001b[0m         sqlalchemy_exception, with_traceback\u001b[39m=\u001b[39;49mexc_info[\u001b[39m2\u001b[39;49m], from_\u001b[39m=\u001b[39;49me\n\u001b[1;32m   <a href='file:///~/.local/lib/python3.10/site-packages/sqlalchemy/engine/base.py?line=2027'>2028</a>\u001b[0m     )\n\u001b[1;32m   <a href='file:///~/.local/lib/python3.10/site-packages/sqlalchemy/engine/base.py?line=2028'>2029</a>\u001b[0m \u001b[39melse\u001b[39;00m:\n\u001b[1;32m   <a href='file:///~/.local/lib/python3.10/site-packages/sqlalchemy/engine/base.py?line=2029'>2030</a>\u001b[0m     util\u001b[39m.\u001b[39mraise_(exc_info[\u001b[39m1\u001b[39m], with_traceback\u001b[39m=\u001b[39mexc_info[\u001b[39m2\u001b[39m])\n",
      "File \u001b[0;32m~/.local/lib/python3.10/site-packages/sqlalchemy/util/compat.py:207\u001b[0m, in \u001b[0;36mraise_\u001b[0;34m(***failed resolving arguments***)\u001b[0m\n\u001b[1;32m    <a href='file:///~/.local/lib/python3.10/site-packages/sqlalchemy/util/compat.py?line=203'>204</a>\u001b[0m     exception\u001b[39m.\u001b[39m__cause__ \u001b[39m=\u001b[39m replace_context\n\u001b[1;32m    <a href='file:///~/.local/lib/python3.10/site-packages/sqlalchemy/util/compat.py?line=205'>206</a>\u001b[0m \u001b[39mtry\u001b[39;00m:\n\u001b[0;32m--> <a href='file:///~/.local/lib/python3.10/site-packages/sqlalchemy/util/compat.py?line=206'>207</a>\u001b[0m     \u001b[39mraise\u001b[39;00m exception\n\u001b[1;32m    <a href='file:///~/.local/lib/python3.10/site-packages/sqlalchemy/util/compat.py?line=207'>208</a>\u001b[0m \u001b[39mfinally\u001b[39;00m:\n\u001b[1;32m    <a href='file:///~/.local/lib/python3.10/site-packages/sqlalchemy/util/compat.py?line=208'>209</a>\u001b[0m     \u001b[39m# credit to\u001b[39;00m\n\u001b[1;32m    <a href='file:///~/.local/lib/python3.10/site-packages/sqlalchemy/util/compat.py?line=209'>210</a>\u001b[0m     \u001b[39m# https://cosmicpercolator.com/2016/01/13/exception-leaks-in-python-2-and-3/\u001b[39;00m\n\u001b[1;32m    <a href='file:///~/.local/lib/python3.10/site-packages/sqlalchemy/util/compat.py?line=210'>211</a>\u001b[0m     \u001b[39m# as the __traceback__ object creates a cycle\u001b[39;00m\n\u001b[1;32m    <a href='file:///~/.local/lib/python3.10/site-packages/sqlalchemy/util/compat.py?line=211'>212</a>\u001b[0m     \u001b[39mdel\u001b[39;00m exception, replace_context, from_, with_traceback\n",
      "File \u001b[0;32m~/.local/lib/python3.10/site-packages/sqlalchemy/engine/base.py:1802\u001b[0m, in \u001b[0;36mConnection._execute_context\u001b[0;34m(self, dialect, constructor, statement, parameters, execution_options, *args, **kw)\u001b[0m\n\u001b[1;32m   <a href='file:///~/.local/lib/python3.10/site-packages/sqlalchemy/engine/base.py?line=1799'>1800</a>\u001b[0m                 \u001b[39mbreak\u001b[39;00m\n\u001b[1;32m   <a href='file:///~/.local/lib/python3.10/site-packages/sqlalchemy/engine/base.py?line=1800'>1801</a>\u001b[0m     \u001b[39mif\u001b[39;00m \u001b[39mnot\u001b[39;00m evt_handled:\n\u001b[0;32m-> <a href='file:///~/.local/lib/python3.10/site-packages/sqlalchemy/engine/base.py?line=1801'>1802</a>\u001b[0m         \u001b[39mself\u001b[39;49m\u001b[39m.\u001b[39;49mdialect\u001b[39m.\u001b[39;49mdo_execute(\n\u001b[1;32m   <a href='file:///~/.local/lib/python3.10/site-packages/sqlalchemy/engine/base.py?line=1802'>1803</a>\u001b[0m             cursor, statement, parameters, context\n\u001b[1;32m   <a href='file:///~/.local/lib/python3.10/site-packages/sqlalchemy/engine/base.py?line=1803'>1804</a>\u001b[0m         )\n\u001b[1;32m   <a href='file:///~/.local/lib/python3.10/site-packages/sqlalchemy/engine/base.py?line=1805'>1806</a>\u001b[0m \u001b[39mif\u001b[39;00m \u001b[39mself\u001b[39m\u001b[39m.\u001b[39m_has_events \u001b[39mor\u001b[39;00m \u001b[39mself\u001b[39m\u001b[39m.\u001b[39mengine\u001b[39m.\u001b[39m_has_events:\n\u001b[1;32m   <a href='file:///~/.local/lib/python3.10/site-packages/sqlalchemy/engine/base.py?line=1806'>1807</a>\u001b[0m     \u001b[39mself\u001b[39m\u001b[39m.\u001b[39mdispatch\u001b[39m.\u001b[39mafter_cursor_execute(\n\u001b[1;32m   <a href='file:///~/.local/lib/python3.10/site-packages/sqlalchemy/engine/base.py?line=1807'>1808</a>\u001b[0m         \u001b[39mself\u001b[39m,\n\u001b[1;32m   <a href='file:///~/.local/lib/python3.10/site-packages/sqlalchemy/engine/base.py?line=1808'>1809</a>\u001b[0m         cursor,\n\u001b[0;32m   (...)\u001b[0m\n\u001b[1;32m   <a href='file:///~/.local/lib/python3.10/site-packages/sqlalchemy/engine/base.py?line=1812'>1813</a>\u001b[0m         context\u001b[39m.\u001b[39mexecutemany,\n\u001b[1;32m   <a href='file:///~/.local/lib/python3.10/site-packages/sqlalchemy/engine/base.py?line=1813'>1814</a>\u001b[0m     )\n",
      "File \u001b[0;32m~/.local/lib/python3.10/site-packages/sqlalchemy/engine/default.py:732\u001b[0m, in \u001b[0;36mDefaultDialect.do_execute\u001b[0;34m(self, cursor, statement, parameters, context)\u001b[0m\n\u001b[1;32m    <a href='file:///~/.local/lib/python3.10/site-packages/sqlalchemy/engine/default.py?line=730'>731</a>\u001b[0m \u001b[39mdef\u001b[39;00m \u001b[39mdo_execute\u001b[39m(\u001b[39mself\u001b[39m, cursor, statement, parameters, context\u001b[39m=\u001b[39m\u001b[39mNone\u001b[39;00m):\n\u001b[0;32m--> <a href='file:///~/.local/lib/python3.10/site-packages/sqlalchemy/engine/default.py?line=731'>732</a>\u001b[0m     cursor\u001b[39m.\u001b[39;49mexecute(statement, parameters)\n",
      "\u001b[0;31mIntegrityError\u001b[0m: (sqlite3.IntegrityError) FOREIGN KEY constraint failed\n[SQL: INSERT INTO tickets (screening_id, customer_id)\nVALUES\n  (\"potato\", (SELECT customer_id FROM customers LIMIT 1));]\n(Background on this error at: https://sqlalche.me/e/14/gkpj)"
     ]
    }
   ],
   "source": [
    "%%sql\n",
    "INSERT INTO tickets (screening_id, customer_id)\n",
    "VALUES\n",
    "  (\"potato\", (SELECT customer_id FROM customers LIMIT 1));"
   ]
  },
  {
   "cell_type": "markdown",
   "id": "623d8361",
   "metadata": {},
   "source": []
  }
 ],
 "metadata": {
  "interpreter": {
   "hash": "e7370f93d1d0cde622a1f8e1c04877d8463912d04d973331ad4851f04de6915a"
  },
  "kernelspec": {
   "display_name": "Python 3.10.2 64-bit",
   "language": "python",
   "name": "python3"
  },
  "language_info": {
   "codemirror_mode": {
    "name": "ipython",
    "version": 3
   },
   "file_extension": ".py",
   "mimetype": "text/x-python",
   "name": "python",
   "nbconvert_exporter": "python",
   "pygments_lexer": "ipython3",
   "version": "3.10.2"
  }
 },
 "nbformat": 4,
 "nbformat_minor": 5
}
